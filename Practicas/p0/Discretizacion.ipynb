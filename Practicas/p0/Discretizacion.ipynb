{
 "cells": [
  {
   "cell_type": "code",
   "execution_count": 2,
   "id": "Cf7LLcUfp9fc",
   "metadata": {
    "colab": {
     "base_uri": "https://localhost:8080/"
    },
    "executionInfo": {
     "elapsed": 23100,
     "status": "ok",
     "timestamp": 1724188765257,
     "user": {
      "displayName": "AAP UNLP",
      "userId": "12723487705483695814"
     },
     "user_tz": 180
    },
    "id": "Cf7LLcUfp9fc",
    "outputId": "a9c7f9bd-80d6-4b96-be82-bd0eae666b86"
   },
   "outputs": [],
   "source": [
    "ColabNotebook = 'google.colab' in str(get_ipython())\n",
    "\n",
    "if ColabNotebook:\n",
    "    # monta G-drive en entorno COLAB\n",
    "    from google.colab import drive\n",
    "    drive.mount('/content/drive/')\n",
    "\n",
    "    DATOS_DIR = '/content/drive/MyDrive/Colab Notebooks/DATOS/'  # carpeta donde se encuentran los datasets\n",
    "else:\n",
    "    DATOS_DIR   = '../../Datos/p0/' # carpeta LOCAL donde se encuentran los datasets"
   ]
  },
  {
   "cell_type": "code",
   "execution_count": 3,
   "id": "884c9e72",
   "metadata": {
    "colab": {
     "base_uri": "https://localhost:8080/",
     "height": 206
    },
    "executionInfo": {
     "elapsed": 2240,
     "status": "ok",
     "timestamp": 1724188767492,
     "user": {
      "displayName": "AAP UNLP",
      "userId": "12723487705483695814"
     },
     "user_tz": 180
    },
    "id": "884c9e72",
    "outputId": "f99f6f21-2e20-4196-d75b-ef3e67753503"
   },
   "outputs": [
    {
     "data": {
      "text/html": [
       "<div>\n",
       "<style scoped>\n",
       "    .dataframe tbody tr th:only-of-type {\n",
       "        vertical-align: middle;\n",
       "    }\n",
       "\n",
       "    .dataframe tbody tr th {\n",
       "        vertical-align: top;\n",
       "    }\n",
       "\n",
       "    .dataframe thead th {\n",
       "        text-align: right;\n",
       "    }\n",
       "</style>\n",
       "<table border=\"1\" class=\"dataframe\">\n",
       "  <thead>\n",
       "    <tr style=\"text-align: right;\">\n",
       "      <th></th>\n",
       "      <th>Year</th>\n",
       "      <th>Age</th>\n",
       "      <th>Actor</th>\n",
       "      <th>Sex</th>\n",
       "      <th>Film</th>\n",
       "      <th>nominations</th>\n",
       "      <th>rating</th>\n",
       "      <th>duration</th>\n",
       "      <th>genre1</th>\n",
       "      <th>genre2</th>\n",
       "      <th>release</th>\n",
       "      <th>synopsis</th>\n",
       "    </tr>\n",
       "  </thead>\n",
       "  <tbody>\n",
       "    <tr>\n",
       "      <th>0</th>\n",
       "      <td>1928</td>\n",
       "      <td>44</td>\n",
       "      <td>Emil Jannings</td>\n",
       "      <td>M</td>\n",
       "      <td>The Last Command</td>\n",
       "      <td>2.0</td>\n",
       "      <td>8.0</td>\n",
       "      <td>88</td>\n",
       "      <td>Drama</td>\n",
       "      <td>History</td>\n",
       "      <td>April</td>\n",
       "      <td>A former Imperial Russian general and cousin o...</td>\n",
       "    </tr>\n",
       "    <tr>\n",
       "      <th>1</th>\n",
       "      <td>1928</td>\n",
       "      <td>22</td>\n",
       "      <td>Laura Gainor (aka Janet Gaynor)</td>\n",
       "      <td>F</td>\n",
       "      <td>Sunrise</td>\n",
       "      <td>5.0</td>\n",
       "      <td>7.8</td>\n",
       "      <td>110</td>\n",
       "      <td>Drama</td>\n",
       "      <td>Romance</td>\n",
       "      <td>NaN</td>\n",
       "      <td>A street cleaner saves a young womans life and...</td>\n",
       "    </tr>\n",
       "    <tr>\n",
       "      <th>2</th>\n",
       "      <td>1929</td>\n",
       "      <td>37</td>\n",
       "      <td>Mary Pickford</td>\n",
       "      <td>F</td>\n",
       "      <td>Coquette</td>\n",
       "      <td>1.0</td>\n",
       "      <td>7.3</td>\n",
       "      <td>76</td>\n",
       "      <td>Drama</td>\n",
       "      <td>Romance</td>\n",
       "      <td>April</td>\n",
       "      <td>A flirtatious southern belle is compromised wi...</td>\n",
       "    </tr>\n",
       "    <tr>\n",
       "      <th>3</th>\n",
       "      <td>1929</td>\n",
       "      <td>38</td>\n",
       "      <td>Warner Baxter</td>\n",
       "      <td>M</td>\n",
       "      <td>In Old Arizona</td>\n",
       "      <td>5.0</td>\n",
       "      <td>5.8</td>\n",
       "      <td>95</td>\n",
       "      <td>Romance</td>\n",
       "      <td>Western</td>\n",
       "      <td>January</td>\n",
       "      <td>A charming happy-go-lucky bandit in old Arizon...</td>\n",
       "    </tr>\n",
       "    <tr>\n",
       "      <th>4</th>\n",
       "      <td>1930</td>\n",
       "      <td>62</td>\n",
       "      <td>George Arliss</td>\n",
       "      <td>M</td>\n",
       "      <td>Disraeli</td>\n",
       "      <td>3.0</td>\n",
       "      <td>6.5</td>\n",
       "      <td>90</td>\n",
       "      <td>Biography</td>\n",
       "      <td>Drama</td>\n",
       "      <td>November</td>\n",
       "      <td>Prime Minister of Great Britain Benjamin Disra...</td>\n",
       "    </tr>\n",
       "  </tbody>\n",
       "</table>\n",
       "</div>"
      ],
      "text/plain": [
       "   Year  Age                            Actor Sex              Film  \\\n",
       "0  1928   44                    Emil Jannings   M  The Last Command   \n",
       "1  1928   22  Laura Gainor (aka Janet Gaynor)   F           Sunrise   \n",
       "2  1929   37                    Mary Pickford   F          Coquette   \n",
       "3  1929   38                    Warner Baxter   M    In Old Arizona   \n",
       "4  1930   62                    George Arliss   M          Disraeli   \n",
       "\n",
       "   nominations  rating  duration     genre1   genre2   release  \\\n",
       "0          2.0     8.0        88      Drama  History     April   \n",
       "1          5.0     7.8       110      Drama  Romance       NaN   \n",
       "2          1.0     7.3        76      Drama  Romance     April   \n",
       "3          5.0     5.8        95    Romance  Western   January   \n",
       "4          3.0     6.5        90  Biography    Drama  November   \n",
       "\n",
       "                                            synopsis  \n",
       "0  A former Imperial Russian general and cousin o...  \n",
       "1  A street cleaner saves a young womans life and...  \n",
       "2  A flirtatious southern belle is compromised wi...  \n",
       "3  A charming happy-go-lucky bandit in old Arizon...  \n",
       "4  Prime Minister of Great Britain Benjamin Disra...  "
      ]
     },
     "execution_count": 3,
     "metadata": {},
     "output_type": "execute_result"
    }
   ],
   "source": [
    "import math\n",
    "import pandas as pd\n",
    "import numpy as np\n",
    "import matplotlib.pyplot as plt\n",
    "import chardet\n",
    "\n",
    "nomArch = DATOS_DIR + 'Premios2020.csv'\n",
    "#-- detectando la codificación de caracteres usada ----\n",
    "with open(nomArch, 'rb') as f:\n",
    "    result = chardet.detect(f.read())  # or readline if the file is large\n",
    "\n",
    "df= pd.read_csv(nomArch, encoding=result['encoding'])\n",
    "df.head()"
   ]
  },
  {
   "cell_type": "markdown",
   "id": "de8056db",
   "metadata": {
    "id": "de8056db"
   },
   "source": [
    "# Discretización por Rango"
   ]
  },
  {
   "cell_type": "code",
   "execution_count": null,
   "id": "3ab3a78e",
   "metadata": {
    "colab": {
     "base_uri": "https://localhost:8080/",
     "height": 533
    },
    "executionInfo": {
     "elapsed": 20,
     "status": "ok",
     "timestamp": 1724188767493,
     "user": {
      "displayName": "AAP UNLP",
      "userId": "12723487705483695814"
     },
     "user_tz": 180
    },
    "id": "3ab3a78e",
    "outputId": "9c835965-5172-4fe9-ed8d-3e568c3c2a25"
   },
   "outputs": [
    {
     "name": "stdout",
     "output_type": "stream",
     "text": [
      "duration2\n",
      "medio       92\n",
      "bajo        77\n",
      "alto        15\n",
      "muy alto     2\n",
      "Name: count, dtype: int64\n"
     ]
    },
    {
     "name": "stderr",
     "output_type": "stream",
     "text": [
      "/tmp/ipykernel_46467/2757310956.py:8: FutureWarning: pandas.value_counts is deprecated and will be removed in a future version. Use pd.Series(obj).value_counts() instead.\n",
      "  print(pd.value_counts(df['duration2']))\n"
     ]
    },
    {
     "data": {
      "text/html": [
       "<div>\n",
       "<style scoped>\n",
       "    .dataframe tbody tr th:only-of-type {\n",
       "        vertical-align: middle;\n",
       "    }\n",
       "\n",
       "    .dataframe tbody tr th {\n",
       "        vertical-align: top;\n",
       "    }\n",
       "\n",
       "    .dataframe thead th {\n",
       "        text-align: right;\n",
       "    }\n",
       "</style>\n",
       "<table border=\"1\" class=\"dataframe\">\n",
       "  <thead>\n",
       "    <tr style=\"text-align: right;\">\n",
       "      <th></th>\n",
       "      <th>Year</th>\n",
       "      <th>Age</th>\n",
       "      <th>Actor</th>\n",
       "      <th>Sex</th>\n",
       "      <th>Film</th>\n",
       "      <th>nominations</th>\n",
       "      <th>duration</th>\n",
       "      <th>duration2</th>\n",
       "    </tr>\n",
       "  </thead>\n",
       "  <tbody>\n",
       "    <tr>\n",
       "      <th>0</th>\n",
       "      <td>1928</td>\n",
       "      <td>44</td>\n",
       "      <td>Emil Jannings</td>\n",
       "      <td>M</td>\n",
       "      <td>The Last Command</td>\n",
       "      <td>2.0</td>\n",
       "      <td>88</td>\n",
       "      <td>bajo</td>\n",
       "    </tr>\n",
       "    <tr>\n",
       "      <th>1</th>\n",
       "      <td>1928</td>\n",
       "      <td>22</td>\n",
       "      <td>Laura Gainor (aka Janet Gaynor)</td>\n",
       "      <td>F</td>\n",
       "      <td>Sunrise</td>\n",
       "      <td>5.0</td>\n",
       "      <td>110</td>\n",
       "      <td>bajo</td>\n",
       "    </tr>\n",
       "    <tr>\n",
       "      <th>2</th>\n",
       "      <td>1929</td>\n",
       "      <td>37</td>\n",
       "      <td>Mary Pickford</td>\n",
       "      <td>F</td>\n",
       "      <td>Coquette</td>\n",
       "      <td>1.0</td>\n",
       "      <td>76</td>\n",
       "      <td>bajo</td>\n",
       "    </tr>\n",
       "    <tr>\n",
       "      <th>3</th>\n",
       "      <td>1929</td>\n",
       "      <td>38</td>\n",
       "      <td>Warner Baxter</td>\n",
       "      <td>M</td>\n",
       "      <td>In Old Arizona</td>\n",
       "      <td>5.0</td>\n",
       "      <td>95</td>\n",
       "      <td>bajo</td>\n",
       "    </tr>\n",
       "    <tr>\n",
       "      <th>4</th>\n",
       "      <td>1930</td>\n",
       "      <td>62</td>\n",
       "      <td>George Arliss</td>\n",
       "      <td>M</td>\n",
       "      <td>Disraeli</td>\n",
       "      <td>3.0</td>\n",
       "      <td>90</td>\n",
       "      <td>bajo</td>\n",
       "    </tr>\n",
       "    <tr>\n",
       "      <th>...</th>\n",
       "      <td>...</td>\n",
       "      <td>...</td>\n",
       "      <td>...</td>\n",
       "      <td>...</td>\n",
       "      <td>...</td>\n",
       "      <td>...</td>\n",
       "      <td>...</td>\n",
       "      <td>...</td>\n",
       "    </tr>\n",
       "    <tr>\n",
       "      <th>181</th>\n",
       "      <td>2018</td>\n",
       "      <td>44</td>\n",
       "      <td>Olivia Colman</td>\n",
       "      <td>F</td>\n",
       "      <td>The Favourite</td>\n",
       "      <td>10.0</td>\n",
       "      <td>119</td>\n",
       "      <td>medio</td>\n",
       "    </tr>\n",
       "    <tr>\n",
       "      <th>182</th>\n",
       "      <td>2019</td>\n",
       "      <td>50</td>\n",
       "      <td>Renée Zellweger</td>\n",
       "      <td>F</td>\n",
       "      <td>Judy</td>\n",
       "      <td>2.0</td>\n",
       "      <td>118</td>\n",
       "      <td>medio</td>\n",
       "    </tr>\n",
       "    <tr>\n",
       "      <th>183</th>\n",
       "      <td>2019</td>\n",
       "      <td>45</td>\n",
       "      <td>Joaquin Phoenix</td>\n",
       "      <td>M</td>\n",
       "      <td>Joker</td>\n",
       "      <td>11.0</td>\n",
       "      <td>122</td>\n",
       "      <td>medio</td>\n",
       "    </tr>\n",
       "    <tr>\n",
       "      <th>184</th>\n",
       "      <td>2020</td>\n",
       "      <td>63</td>\n",
       "      <td>Frances McDormand</td>\n",
       "      <td>F</td>\n",
       "      <td>Nomadland</td>\n",
       "      <td>6.0</td>\n",
       "      <td>108</td>\n",
       "      <td>bajo</td>\n",
       "    </tr>\n",
       "    <tr>\n",
       "      <th>185</th>\n",
       "      <td>2020</td>\n",
       "      <td>83</td>\n",
       "      <td>Anthony Hopkins</td>\n",
       "      <td>M</td>\n",
       "      <td>The father</td>\n",
       "      <td>6.0</td>\n",
       "      <td>97</td>\n",
       "      <td>bajo</td>\n",
       "    </tr>\n",
       "  </tbody>\n",
       "</table>\n",
       "<p>186 rows × 8 columns</p>\n",
       "</div>"
      ],
      "text/plain": [
       "     Year  Age                            Actor Sex              Film  \\\n",
       "0    1928   44                    Emil Jannings   M  The Last Command   \n",
       "1    1928   22  Laura Gainor (aka Janet Gaynor)   F           Sunrise   \n",
       "2    1929   37                    Mary Pickford   F          Coquette   \n",
       "3    1929   38                    Warner Baxter   M    In Old Arizona   \n",
       "4    1930   62                    George Arliss   M          Disraeli   \n",
       "..    ...  ...                              ...  ..               ...   \n",
       "181  2018   44                    Olivia Colman   F     The Favourite   \n",
       "182  2019   50                  Renée Zellweger   F              Judy   \n",
       "183  2019   45                  Joaquin Phoenix   M             Joker   \n",
       "184  2020   63                Frances McDormand   F         Nomadland   \n",
       "185  2020   83                  Anthony Hopkins   M        The father   \n",
       "\n",
       "     nominations  duration duration2  \n",
       "0            2.0        88      bajo  \n",
       "1            5.0       110      bajo  \n",
       "2            1.0        76      bajo  \n",
       "3            5.0        95      bajo  \n",
       "4            3.0        90      bajo  \n",
       "..           ...       ...       ...  \n",
       "181         10.0       119     medio  \n",
       "182          2.0       118     medio  \n",
       "183         11.0       122     medio  \n",
       "184          6.0       108      bajo  \n",
       "185          6.0        97      bajo  \n",
       "\n",
       "[186 rows x 8 columns]"
      ]
     },
     "execution_count": 5,
     "metadata": {},
     "output_type": "execute_result"
    }
   ],
   "source": [
    "etiq = [\"bajo\",\"medio\",\"alto\", \"muy alto\"]\n",
    "\n",
    "# Discretización por RANGO (divide el rango de valores en intervalos iguales y asigna etiquetas)\n",
    "columna = pd.cut(df[\"duration\"],bins=len(etiq),labels=etiq)\n",
    "\n",
    "df['duration2']= pd.Series.to_frame(columna)\n",
    "\n",
    "print(pd.value_counts(df['duration2']))\n",
    "\n",
    "df[['Year','Age','Actor','Sex','Film','nominations', 'duration','duration2']]\n"
   ]
  },
  {
   "cell_type": "code",
   "execution_count": 6,
   "id": "b93d8b46",
   "metadata": {
    "colab": {
     "base_uri": "https://localhost:8080/",
     "height": 472
    },
    "executionInfo": {
     "elapsed": 634,
     "status": "ok",
     "timestamp": 1724188768115,
     "user": {
      "displayName": "AAP UNLP",
      "userId": "12723487705483695814"
     },
     "user_tz": 180
    },
    "id": "b93d8b46",
    "outputId": "f386968d-e02e-4982-c002-a8bb267c9154"
   },
   "outputs": [
    {
     "data": {
      "image/png": "[encoded data removed]",
      "text/plain": [
       "<Figure size 640x480 with 1 Axes>"
      ]
     },
     "metadata": {},
     "output_type": "display_data"
    }
   ],
   "source": [
    "plt.figure()\n",
    "plt.hist(df['duration2'], bins = 10, edgecolor = 'black', linewidth=1)\n",
    "plt.xlabel('duration2')\n",
    "plt.ylabel('Frecuencia')\n",
    "plt.title('Discretización por Rango')\n",
    "plt.show()"
   ]
  },
  {
   "cell_type": "markdown",
   "id": "8970c9b7",
   "metadata": {
    "id": "8970c9b7"
   },
   "source": [
    "# Discretización por Frecuencia"
   ]
  },
  {
   "cell_type": "code",
   "execution_count": null,
   "id": "d226c464",
   "metadata": {
    "colab": {
     "base_uri": "https://localhost:8080/",
     "height": 582
    },
    "executionInfo": {
     "elapsed": 19,
     "status": "ok",
     "timestamp": 1724188768116,
     "user": {
      "displayName": "AAP UNLP",
      "userId": "12723487705483695814"
     },
     "user_tz": 180
    },
    "id": "d226c464",
    "outputId": "d77d2a95-b87b-49f3-b7c3-dffd6f1fbab7"
   },
   "outputs": [
    {
     "name": "stdout",
     "output_type": "stream",
     "text": [
      "duration3\n",
      "bajo        53\n",
      "alto        47\n",
      "muy alto    45\n",
      "medio       41\n",
      "Name: count, dtype: int64\n"
     ]
    },
    {
     "name": "stderr",
     "output_type": "stream",
     "text": [
      "/tmp/ipykernel_46467/1629417852.py:8: FutureWarning: pandas.value_counts is deprecated and will be removed in a future version. Use pd.Series(obj).value_counts() instead.\n",
      "  print(pd.value_counts(df['duration3']))\n"
     ]
    },
    {
     "data": {
      "image/png": "[encoded data removed]",
      "text/plain": [
       "<Figure size 640x480 with 1 Axes>"
      ]
     },
     "metadata": {},
     "output_type": "display_data"
    }
   ],
   "source": [
    "etiq = [\"bajo\",\"medio\",\"alto\",\"muy alto\"]\n",
    "\n",
    "# Discretización por FRECUENCIA (divide los datos en cuantiles (que dependen del length del etiq) y asigna etiquetas)\n",
    "columna = pd.qcut(df[\"duration\"], q=len(etiq), labels=etiq)\n",
    "\n",
    "df['duration3']= pd.Series.to_frame(columna)\n",
    "\n",
    "#-- frecuencia con la que aparece cada valor\n",
    "print(pd.value_counts(df['duration3']))\n",
    "\n",
    "#---- Diagrama de barras -----\n",
    "plt.figure()\n",
    "plt.hist(df['duration3'], bins = 10, edgecolor = 'black', linewidth=1)\n",
    "plt.xlabel('duration3')\n",
    "plt.ylabel('Frecuencia')\n",
    "plt.title('Discretización por Frecuencia')\n",
    "plt.show()"
   ]
  },
  {
   "cell_type": "markdown",
   "id": "9413bcf0",
   "metadata": {
    "id": "9413bcf0"
   },
   "source": [
    "# Discretización indicada por el usuario"
   ]
  },
  {
   "cell_type": "code",
   "execution_count": null,
   "id": "a5a38afd",
   "metadata": {
    "colab": {
     "base_uri": "https://localhost:8080/",
     "height": 563
    },
    "executionInfo": {
     "elapsed": 395,
     "status": "ok",
     "timestamp": 1724188768499,
     "user": {
      "displayName": "AAP UNLP",
      "userId": "12723487705483695814"
     },
     "user_tz": 180
    },
    "id": "a5a38afd",
    "outputId": "410cb3ad-aeb5-40ef-ec5c-1edd016883fd"
   },
   "outputs": [
    {
     "name": "stdout",
     "output_type": "stream",
     "text": [
      "duration4\n",
      "normal    122\n",
      "breve      33\n",
      "larga      31\n",
      "Name: count, dtype: int64\n"
     ]
    },
    {
     "name": "stderr",
     "output_type": "stream",
     "text": [
      "/tmp/ipykernel_46467/676506024.py:8: FutureWarning: pandas.value_counts is deprecated and will be removed in a future version. Use pd.Series(obj).value_counts() instead.\n",
      "  print(pd.value_counts(df['duration4']))\n"
     ]
    },
    {
     "data": {
      "image/png": "[encoded data removed]",
      "text/plain": [
       "<Figure size 640x480 with 1 Axes>"
      ]
     },
     "metadata": {},
     "output_type": "display_data"
    }
   ],
   "source": [
    "etiq = [\"breve\",\"normal\",\"larga\"]\n",
    "valores = [-math.inf, 100, 136, math.inf]\n",
    "\n",
    "# Discretización por RANGO (divide el rango de valores en intervalos definidos por el USUARIO y asigna etiquetas)\n",
    "columna = pd.cut(df[\"duration\"],bins=valores,labels=etiq)\n",
    "df['duration4']= pd.Series.to_frame(columna)\n",
    "\n",
    "print(pd.value_counts(df['duration4']))\n",
    "\n",
    "#---- Diagrama de barras -----\n",
    "plt.figure()\n",
    "plt.hist(df['duration4'], bins = 10, edgecolor = 'black', linewidth=1)\n",
    "plt.xlabel('duration4')\n",
    "plt.ylabel('Frecuencia')\n",
    "plt.title('Discretización indicada por el usuario')\n",
    "plt.show()\n"
   ]
  },
  {
   "cell_type": "code",
   "execution_count": null,
   "id": "a811f659",
   "metadata": {
    "id": "a811f659"
   },
   "outputs": [],
   "source": []
  }
 ],
 "metadata": {
  "colab": {
   "provenance": [],
   "toc_visible": true
  },
  "kernelspec": {
   "display_name": "env",
   "language": "python",
   "name": "python3"
  },
  "language_info": {
   "codemirror_mode": {
    "name": "ipython",
    "version": 3
   },
   "file_extension": ".py",
   "mimetype": "text/x-python",
   "name": "python",
   "nbconvert_exporter": "python",
   "pygments_lexer": "ipython3",
   "version": "3.13.5"
  }
 },
 "nbformat": 4,
 "nbformat_minor": 5
}
