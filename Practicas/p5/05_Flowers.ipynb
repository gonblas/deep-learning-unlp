{
 "cells": [
  {
   "cell_type": "markdown",
   "id": "0e8bab7e",
   "metadata": {},
   "source": [
    "## Ejercicio 5\n",
    "\n",
    "**“Flowers”** es un juego de datos compuesto por 16 categorías de flores con unas 1000 imágenes de RGB de 256 x 256 píxeles disponible en Kaggle en el enlace https://www.kaggle.com/datasets/l3llff/flowers.\n",
    "\n",
    "En la carpeta de datos del Moodle del curso hay una versión reducida de 96 x 96 píxeles. Utilice este dataset para entrenar varios modelos de redes convolucionales que permitan clasificar las 16 flores según las especificaciones que siguen a continuación.\n",
    "\n",
    "<div style=\"text-align: center;\">\n",
    "    <img src='../../images/p5-ej5.png' width=\"60%\">\n",
    "</div>\n",
    "\n",
    "Para cada modelo a entrenar contabilice la cantidad de **épocas, accuracy** y **tiempo promedio** por época (utilice la clase **EpochTiming** definida en el paquete **tf_utils** de la carpeta **Fuentes** como **callback** para el entrenamiento). Utilice 250 épocas para los entrenamientos y agregue una parada temprana para evitar overfitting.\n",
    "\n",
    "\n",
    "### a)\n",
    "\n",
    "Entrene un modelo que utilice solamente capas **Conv2D**, **MaxPooling2D**, **Flatten** y **Dense**."
   ]
  },
  {
   "cell_type": "code",
   "execution_count": null,
   "id": "90c8231b",
   "metadata": {
    "vscode": {
     "languageId": "plaintext"
    }
   },
   "outputs": [],
   "source": []
  },
  {
   "cell_type": "markdown",
   "id": "14027062",
   "metadata": {},
   "source": [
    "### b)\n",
    "\n",
    "Agregue capas de **BatchNormalization** después de las capas **MaxPooling2D** y entrene un nuevo modelo."
   ]
  },
  {
   "cell_type": "code",
   "execution_count": null,
   "id": "e2283607",
   "metadata": {
    "vscode": {
     "languageId": "plaintext"
    }
   },
   "outputs": [],
   "source": []
  },
  {
   "cell_type": "markdown",
   "id": "656244a7",
   "metadata": {},
   "source": [
    "### c)\n",
    "\n",
    "Compare las mediciones de entrenamiento de los modelos a) y b). ¿Qué puede concluir? ¿Por qué?\n"
   ]
  },
  {
   "cell_type": "code",
   "execution_count": null,
   "id": "7a483eba",
   "metadata": {
    "vscode": {
     "languageId": "plaintext"
    }
   },
   "outputs": [],
   "source": []
  }
 ],
 "metadata": {
  "language_info": {
   "name": "python"
  }
 },
 "nbformat": 4,
 "nbformat_minor": 5
}
