{
 "cells": [
  {
   "cell_type": "markdown",
   "id": "d0b2f033",
   "metadata": {},
   "source": [
    "\n",
    "\n",
    "## Ejercicio 4\n",
    "\n",
    "Resuelva el punto c) del ejercicio anterior con las imágenes originales de las carpetas **train** y **test** y utilice.\n",
    "\n",
    "### a)\n",
    "\n",
    "el objeto **ImageDataGenerator** del módulo **tensorflow.keras.preprocessing.image** para generar de forma automática una versión aumentada de los datos con las características del punto b). Utilice el método **flow_from_file** del objeto **ImageDataGenerator** para utilizar directamente las imágenes de las carpetas en vez de cargarlas en memoria.\n"
   ]
  },
  {
   "cell_type": "code",
   "execution_count": null,
   "id": "1bfdbffa",
   "metadata": {
    "vscode": {
     "languageId": "plaintext"
    }
   },
   "outputs": [],
   "source": []
  },
  {
   "cell_type": "markdown",
   "id": "06415614",
   "metadata": {},
   "source": [
    "### b)\n",
    "\n",
    "Repita el punto a) utilizando la función **tf.keras.utils.image_dataset_from_directory** para generar el dataset a partir de carpetas en combinación con funciones para aplicar el preprocesamiento/data augmentation."
   ]
  },
  {
   "cell_type": "code",
   "execution_count": null,
   "id": "715f1fa4",
   "metadata": {
    "vscode": {
     "languageId": "plaintext"
    }
   },
   "outputs": [],
   "source": []
  }
 ],
 "metadata": {
  "language_info": {
   "name": "python"
  }
 },
 "nbformat": 4,
 "nbformat_minor": 5
}
