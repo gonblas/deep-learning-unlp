{
 "cells": [
  {
   "cell_type": "markdown",
   "id": "b8bc3ff7",
   "metadata": {},
   "source": [
    "## Ejercicio 6\n",
    "\n",
    "Re-implemente el ejercicio 5 utilizando las capas convolucionales del modelo Mobilenet V3 (clase **MobileNetV3Small** del paquete **tensorflow.keras.applications**) para extraer los patrones característicos y agregue una o más capas densas para entrenar una nueva red que permita reconocer los 16 tipos de flores del dataset **“Flowers”**. Recuerde que solo debe entrenar las capas densas."
   ]
  },
  {
   "cell_type": "code",
   "execution_count": null,
   "id": "ffd012fd",
   "metadata": {
    "vscode": {
     "languageId": "plaintext"
    }
   },
   "outputs": [],
   "source": []
  }
 ],
 "metadata": {
  "language_info": {
   "name": "python"
  }
 },
 "nbformat": 4,
 "nbformat_minor": 5
}
