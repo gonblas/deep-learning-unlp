{
 "cells": [
  {
   "cell_type": "markdown",
   "id": "a2610ca9",
   "metadata": {},
   "source": [
    "# Práctica 5 - Redes Neuronales Convolucionales\n",
    "\n",
    "## Ejercicio 1\n",
    "\n",
    "La base de datos MNIST contiene imágenes de 28×28, en escala de grises, de números escritos a mano. Está conformada por 60.000 ejemplos de entrenamiento y 10.000 ejemplos de prueba.\n",
    "\n",
    "<div style=\"text-align: center;\">\n",
    "    <img src='../../images/p5-ej1.png' width=\"40%\">\n",
    "</div>\n",
    "\n",
    "\n",
    "Para cargar las imágenes utilice:\n",
    "\n",
    "```python\n",
    "from tensorflow.keras.datasets import mnist  \n",
    "(X_train, Y_train), (X_test, Y_test) = mnist.load_data()\n",
    "```\n",
    "\n",
    "Puede visualizar una imagen utilizando:\n",
    "\n",
    "```python\n",
    "nImg = 0   # nro. de imagen a visualizar\n",
    "plt.imshow(X_train[0, :,:], cmap='gray')\n",
    "```\n",
    "\n",
    "### a)\n",
    "\n",
    "Con el conjunto de 60000 imágenes entrene una red neuronal convolucional para predecir el dígito presente en la imagen. Recuerde normalizar los valores de cada imagen. Salve el modelo para recuperarlo después."
   ]
  },
  {
   "cell_type": "code",
   "execution_count": null,
   "id": "1f7a99a2",
   "metadata": {},
   "outputs": [
    {
     "name": "stderr",
     "output_type": "stream",
     "text": [
      "2025-10-20 12:44:35.775893: I external/local_xla/xla/tsl/cuda/cudart_stub.cc:31] Could not find cuda drivers on your machine, GPU will not be used.\n",
      "2025-10-20 12:44:35.785224: I tensorflow/core/util/port.cc:153] oneDNN custom operations are on. You may see slightly different numerical results due to floating-point round-off errors from different computation orders. To turn them off, set the environment variable `TF_ENABLE_ONEDNN_OPTS=0`.\n",
      "2025-10-20 12:44:36.152803: I tensorflow/core/platform/cpu_feature_guard.cc:210] This TensorFlow binary is optimized to use available CPU instructions in performance-critical operations.\n",
      "To enable the following instructions: AVX2 AVX_VNNI FMA, in other operations, rebuild TensorFlow with the appropriate compiler flags.\n",
      "2025-10-20 12:44:38.112161: I tensorflow/core/util/port.cc:153] oneDNN custom operations are on. You may see slightly different numerical results due to floating-point round-off errors from different computation orders. To turn them off, set the environment variable `TF_ENABLE_ONEDNN_OPTS=0`.\n",
      "2025-10-20 12:44:38.113343: I external/local_xla/xla/tsl/cuda/cudart_stub.cc:31] Could not find cuda drivers on your machine, GPU will not be used.\n"
     ]
    },
    {
     "name": "stdout",
     "output_type": "stream",
     "text": [
      "Downloading data from https://storage.googleapis.com/tensorflow/tf-keras-datasets/mnist.npz\n",
      "\u001b[1m11490434/11490434\u001b[0m \u001b[32m━━━━━━━━━━━━━━━━━━━━\u001b[0m\u001b[37m\u001b[0m \u001b[1m3s\u001b[0m 0us/step\n"
     ]
    }
   ],
   "source": [
    "from tensorflow.keras.datasets import mnist\n",
    "(X_train, Y_train), (X_test, Y_test) = mnist.load_data()"
   ]
  },
  {
   "cell_type": "code",
   "execution_count": 3,
   "id": "60965566",
   "metadata": {},
   "outputs": [
    {
     "data": {
      "text/plain": [
       "<matplotlib.image.AxesImage at 0x7fc6744b8980>"
      ]
     },
     "execution_count": 3,
     "metadata": {},
     "output_type": "execute_result"
    },
    {
     "data": {
      "image/png": "[encoded data removed]",
      "text/plain": [
       "<Figure size 640x480 with 1 Axes>"
      ]
     },
     "metadata": {},
     "output_type": "display_data"
    }
   ],
   "source": [
    "import matplotlib.pyplot as plt\n",
    "nImg = 0 # nro. de imagen a visualizar\n",
    "plt.imshow(X_train[0, :,:], cmap='gray')"
   ]
  },
  {
   "cell_type": "markdown",
   "id": "e2f36f2a",
   "metadata": {},
   "source": [
    "#### Preprocesamiento"
   ]
  },
  {
   "cell_type": "code",
   "execution_count": null,
   "id": "80da5be5",
   "metadata": {},
   "outputs": [],
   "source": [
    "from tensorflow.keras.layers import Conv2D, MaxPooling2D, Dense, Flatten, Input, LeakyReLU\n",
    "from tensorflow.keras.models import Sequential\n",
    "from tensorflow.keras.utils import to_categorical\n",
    "from tensorflow.keras import optimizers\n",
    "from tensorflow.keras import callbacks\n",
    "import numpy as np\n",
    "\n",
    "# Normalizar los datos\n",
    "Y_train= to_categorical(np.array(Y_train))\n",
    "Y_test = to_categorical(np.array(Y_test))"
   ]
  },
  {
   "cell_type": "markdown",
   "id": "d9b7f63f",
   "metadata": {},
   "source": [
    "#### Crear el modelo"
   ]
  },
  {
   "cell_type": "code",
   "execution_count": 5,
   "id": "c1d48816",
   "metadata": {},
   "outputs": [
    {
     "name": "stderr",
     "output_type": "stream",
     "text": [
      "2025-10-20 12:49:50.743267: E external/local_xla/xla/stream_executor/cuda/cuda_platform.cc:51] failed call to cuInit: INTERNAL: CUDA error: Failed call to cuInit: CUDA_ERROR_NO_DEVICE: no CUDA-capable device is detected\n"
     ]
    },
    {
     "data": {
      "text/html": [
       "<pre style=\"white-space:pre;overflow-x:auto;line-height:normal;font-family:Menlo,'DejaVu Sans Mono',consolas,'Courier New',monospace\"><span style=\"font-weight: bold\">Model: \"sequential\"</span>\n",
       "</pre>\n"
      ],
      "text/plain": [
       "\u001b[1mModel: \"sequential\"\u001b[0m\n"
      ]
     },
     "metadata": {},
     "output_type": "display_data"
    },
    {
     "data": {
      "text/html": [
       "<pre style=\"white-space:pre;overflow-x:auto;line-height:normal;font-family:Menlo,'DejaVu Sans Mono',consolas,'Courier New',monospace\">┏━━━━━━━━━━━━━━━━━━━━━━━━━━━━━━━━━┳━━━━━━━━━━━━━━━━━━━━━━━━┳━━━━━━━━━━━━━━━┓\n",
       "┃<span style=\"font-weight: bold\"> Layer (type)                    </span>┃<span style=\"font-weight: bold\"> Output Shape           </span>┃<span style=\"font-weight: bold\">       Param # </span>┃\n",
       "┡━━━━━━━━━━━━━━━━━━━━━━━━━━━━━━━━━╇━━━━━━━━━━━━━━━━━━━━━━━━╇━━━━━━━━━━━━━━━┩\n",
       "│ conv2d (<span style=\"color: #0087ff; text-decoration-color: #0087ff\">Conv2D</span>)                 │ (<span style=\"color: #00d7ff; text-decoration-color: #00d7ff\">None</span>, <span style=\"color: #00af00; text-decoration-color: #00af00\">28</span>, <span style=\"color: #00af00; text-decoration-color: #00af00\">28</span>, <span style=\"color: #00af00; text-decoration-color: #00af00\">32</span>)     │           <span style=\"color: #00af00; text-decoration-color: #00af00\">320</span> │\n",
       "├─────────────────────────────────┼────────────────────────┼───────────────┤\n",
       "│ max_pooling2d (<span style=\"color: #0087ff; text-decoration-color: #0087ff\">MaxPooling2D</span>)    │ (<span style=\"color: #00d7ff; text-decoration-color: #00d7ff\">None</span>, <span style=\"color: #00af00; text-decoration-color: #00af00\">14</span>, <span style=\"color: #00af00; text-decoration-color: #00af00\">14</span>, <span style=\"color: #00af00; text-decoration-color: #00af00\">32</span>)     │             <span style=\"color: #00af00; text-decoration-color: #00af00\">0</span> │\n",
       "├─────────────────────────────────┼────────────────────────┼───────────────┤\n",
       "│ conv2d_1 (<span style=\"color: #0087ff; text-decoration-color: #0087ff\">Conv2D</span>)               │ (<span style=\"color: #00d7ff; text-decoration-color: #00d7ff\">None</span>, <span style=\"color: #00af00; text-decoration-color: #00af00\">14</span>, <span style=\"color: #00af00; text-decoration-color: #00af00\">14</span>, <span style=\"color: #00af00; text-decoration-color: #00af00\">64</span>)     │        <span style=\"color: #00af00; text-decoration-color: #00af00\">18,496</span> │\n",
       "├─────────────────────────────────┼────────────────────────┼───────────────┤\n",
       "│ max_pooling2d_1 (<span style=\"color: #0087ff; text-decoration-color: #0087ff\">MaxPooling2D</span>)  │ (<span style=\"color: #00d7ff; text-decoration-color: #00d7ff\">None</span>, <span style=\"color: #00af00; text-decoration-color: #00af00\">7</span>, <span style=\"color: #00af00; text-decoration-color: #00af00\">7</span>, <span style=\"color: #00af00; text-decoration-color: #00af00\">64</span>)       │             <span style=\"color: #00af00; text-decoration-color: #00af00\">0</span> │\n",
       "├─────────────────────────────────┼────────────────────────┼───────────────┤\n",
       "│ conv2d_2 (<span style=\"color: #0087ff; text-decoration-color: #0087ff\">Conv2D</span>)               │ (<span style=\"color: #00d7ff; text-decoration-color: #00d7ff\">None</span>, <span style=\"color: #00af00; text-decoration-color: #00af00\">7</span>, <span style=\"color: #00af00; text-decoration-color: #00af00\">7</span>, <span style=\"color: #00af00; text-decoration-color: #00af00\">128</span>)      │        <span style=\"color: #00af00; text-decoration-color: #00af00\">73,856</span> │\n",
       "├─────────────────────────────────┼────────────────────────┼───────────────┤\n",
       "│ max_pooling2d_2 (<span style=\"color: #0087ff; text-decoration-color: #0087ff\">MaxPooling2D</span>)  │ (<span style=\"color: #00d7ff; text-decoration-color: #00d7ff\">None</span>, <span style=\"color: #00af00; text-decoration-color: #00af00\">3</span>, <span style=\"color: #00af00; text-decoration-color: #00af00\">3</span>, <span style=\"color: #00af00; text-decoration-color: #00af00\">128</span>)      │             <span style=\"color: #00af00; text-decoration-color: #00af00\">0</span> │\n",
       "├─────────────────────────────────┼────────────────────────┼───────────────┤\n",
       "│ flatten (<span style=\"color: #0087ff; text-decoration-color: #0087ff\">Flatten</span>)               │ (<span style=\"color: #00d7ff; text-decoration-color: #00d7ff\">None</span>, <span style=\"color: #00af00; text-decoration-color: #00af00\">1152</span>)           │             <span style=\"color: #00af00; text-decoration-color: #00af00\">0</span> │\n",
       "├─────────────────────────────────┼────────────────────────┼───────────────┤\n",
       "│ dense (<span style=\"color: #0087ff; text-decoration-color: #0087ff\">Dense</span>)                   │ (<span style=\"color: #00d7ff; text-decoration-color: #00d7ff\">None</span>, <span style=\"color: #00af00; text-decoration-color: #00af00\">64</span>)             │        <span style=\"color: #00af00; text-decoration-color: #00af00\">73,792</span> │\n",
       "├─────────────────────────────────┼────────────────────────┼───────────────┤\n",
       "│ dense_1 (<span style=\"color: #0087ff; text-decoration-color: #0087ff\">Dense</span>)                 │ (<span style=\"color: #00d7ff; text-decoration-color: #00d7ff\">None</span>, <span style=\"color: #00af00; text-decoration-color: #00af00\">10</span>)             │           <span style=\"color: #00af00; text-decoration-color: #00af00\">650</span> │\n",
       "└─────────────────────────────────┴────────────────────────┴───────────────┘\n",
       "</pre>\n"
      ],
      "text/plain": [
       "┏━━━━━━━━━━━━━━━━━━━━━━━━━━━━━━━━━┳━━━━━━━━━━━━━━━━━━━━━━━━┳━━━━━━━━━━━━━━━┓\n",
       "┃\u001b[1m \u001b[0m\u001b[1mLayer (type)                   \u001b[0m\u001b[1m \u001b[0m┃\u001b[1m \u001b[0m\u001b[1mOutput Shape          \u001b[0m\u001b[1m \u001b[0m┃\u001b[1m \u001b[0m\u001b[1m      Param #\u001b[0m\u001b[1m \u001b[0m┃\n",
       "┡━━━━━━━━━━━━━━━━━━━━━━━━━━━━━━━━━╇━━━━━━━━━━━━━━━━━━━━━━━━╇━━━━━━━━━━━━━━━┩\n",
       "│ conv2d (\u001b[38;5;33mConv2D\u001b[0m)                 │ (\u001b[38;5;45mNone\u001b[0m, \u001b[38;5;34m28\u001b[0m, \u001b[38;5;34m28\u001b[0m, \u001b[38;5;34m32\u001b[0m)     │           \u001b[38;5;34m320\u001b[0m │\n",
       "├─────────────────────────────────┼────────────────────────┼───────────────┤\n",
       "│ max_pooling2d (\u001b[38;5;33mMaxPooling2D\u001b[0m)    │ (\u001b[38;5;45mNone\u001b[0m, \u001b[38;5;34m14\u001b[0m, \u001b[38;5;34m14\u001b[0m, \u001b[38;5;34m32\u001b[0m)     │             \u001b[38;5;34m0\u001b[0m │\n",
       "├─────────────────────────────────┼────────────────────────┼───────────────┤\n",
       "│ conv2d_1 (\u001b[38;5;33mConv2D\u001b[0m)               │ (\u001b[38;5;45mNone\u001b[0m, \u001b[38;5;34m14\u001b[0m, \u001b[38;5;34m14\u001b[0m, \u001b[38;5;34m64\u001b[0m)     │        \u001b[38;5;34m18,496\u001b[0m │\n",
       "├─────────────────────────────────┼────────────────────────┼───────────────┤\n",
       "│ max_pooling2d_1 (\u001b[38;5;33mMaxPooling2D\u001b[0m)  │ (\u001b[38;5;45mNone\u001b[0m, \u001b[38;5;34m7\u001b[0m, \u001b[38;5;34m7\u001b[0m, \u001b[38;5;34m64\u001b[0m)       │             \u001b[38;5;34m0\u001b[0m │\n",
       "├─────────────────────────────────┼────────────────────────┼───────────────┤\n",
       "│ conv2d_2 (\u001b[38;5;33mConv2D\u001b[0m)               │ (\u001b[38;5;45mNone\u001b[0m, \u001b[38;5;34m7\u001b[0m, \u001b[38;5;34m7\u001b[0m, \u001b[38;5;34m128\u001b[0m)      │        \u001b[38;5;34m73,856\u001b[0m │\n",
       "├─────────────────────────────────┼────────────────────────┼───────────────┤\n",
       "│ max_pooling2d_2 (\u001b[38;5;33mMaxPooling2D\u001b[0m)  │ (\u001b[38;5;45mNone\u001b[0m, \u001b[38;5;34m3\u001b[0m, \u001b[38;5;34m3\u001b[0m, \u001b[38;5;34m128\u001b[0m)      │             \u001b[38;5;34m0\u001b[0m │\n",
       "├─────────────────────────────────┼────────────────────────┼───────────────┤\n",
       "│ flatten (\u001b[38;5;33mFlatten\u001b[0m)               │ (\u001b[38;5;45mNone\u001b[0m, \u001b[38;5;34m1152\u001b[0m)           │             \u001b[38;5;34m0\u001b[0m │\n",
       "├─────────────────────────────────┼────────────────────────┼───────────────┤\n",
       "│ dense (\u001b[38;5;33mDense\u001b[0m)                   │ (\u001b[38;5;45mNone\u001b[0m, \u001b[38;5;34m64\u001b[0m)             │        \u001b[38;5;34m73,792\u001b[0m │\n",
       "├─────────────────────────────────┼────────────────────────┼───────────────┤\n",
       "│ dense_1 (\u001b[38;5;33mDense\u001b[0m)                 │ (\u001b[38;5;45mNone\u001b[0m, \u001b[38;5;34m10\u001b[0m)             │           \u001b[38;5;34m650\u001b[0m │\n",
       "└─────────────────────────────────┴────────────────────────┴───────────────┘\n"
      ]
     },
     "metadata": {},
     "output_type": "display_data"
    },
    {
     "data": {
      "text/html": [
       "<pre style=\"white-space:pre;overflow-x:auto;line-height:normal;font-family:Menlo,'DejaVu Sans Mono',consolas,'Courier New',monospace\"><span style=\"font-weight: bold\"> Total params: </span><span style=\"color: #00af00; text-decoration-color: #00af00\">167,114</span> (652.79 KB)\n",
       "</pre>\n"
      ],
      "text/plain": [
       "\u001b[1m Total params: \u001b[0m\u001b[38;5;34m167,114\u001b[0m (652.79 KB)\n"
      ]
     },
     "metadata": {},
     "output_type": "display_data"
    },
    {
     "data": {
      "text/html": [
       "<pre style=\"white-space:pre;overflow-x:auto;line-height:normal;font-family:Menlo,'DejaVu Sans Mono',consolas,'Courier New',monospace\"><span style=\"font-weight: bold\"> Trainable params: </span><span style=\"color: #00af00; text-decoration-color: #00af00\">167,114</span> (652.79 KB)\n",
       "</pre>\n"
      ],
      "text/plain": [
       "\u001b[1m Trainable params: \u001b[0m\u001b[38;5;34m167,114\u001b[0m (652.79 KB)\n"
      ]
     },
     "metadata": {},
     "output_type": "display_data"
    },
    {
     "data": {
      "text/html": [
       "<pre style=\"white-space:pre;overflow-x:auto;line-height:normal;font-family:Menlo,'DejaVu Sans Mono',consolas,'Courier New',monospace\"><span style=\"font-weight: bold\"> Non-trainable params: </span><span style=\"color: #00af00; text-decoration-color: #00af00\">0</span> (0.00 B)\n",
       "</pre>\n"
      ],
      "text/plain": [
       "\u001b[1m Non-trainable params: \u001b[0m\u001b[38;5;34m0\u001b[0m (0.00 B)\n"
      ]
     },
     "metadata": {},
     "output_type": "display_data"
    }
   ],
   "source": [
    "PADDING='same'\n",
    "ACTIV='relu'\n",
    "\n",
    "# dimension de las imagenes sacadas del primer ejmeplo\n",
    "IMG_SHAPE = X_train[0].shape # (28,28)\n",
    "TARGET_CNT= len(Y_train[0])  # 10 dígitos/clases\n",
    "\n",
    "model = Sequential()\n",
    "\n",
    "model.add(Input(shape=(*IMG_SHAPE, 1)))\n",
    "model.add(Conv2D(32, kernel_size=(3,3), strides=(1,1), activation=ACTIV, padding=PADDING ))\n",
    "model.add(MaxPooling2D(pool_size=(2,2)))\n",
    "model.add(Conv2D(64, kernel_size=(3,3), strides=(1,1), activation=ACTIV, padding=PADDING ))\n",
    "model.add(MaxPooling2D(pool_size=(2,2)))\n",
    "model.add(Conv2D(128, kernel_size=(3,3), strides=(1,1), activation=ACTIV, padding=PADDING ))\n",
    "model.add(MaxPooling2D(pool_size=(2,2)))\n",
    "model.add(Flatten())\n",
    "model.add(Dense(64, activation=ACTIV))\n",
    "model.add(Dense(TARGET_CNT, activation='softmax'))\n",
    "\n",
    "optimizer = optimizers.Adam(learning_rate=0.0001)\n",
    "#optimizer = optimizers.RMSprop(learning_rate=0.0001)\n",
    "#optimizer = optimizers.SGD(learning_rate=0.001)\n",
    "model.compile(optimizer=optimizer, loss='categorical_crossentropy', metrics=['accuracy'] )\n",
    "\n",
    "model.summary()"
   ]
  },
  {
   "cell_type": "markdown",
   "id": "ae81a318",
   "metadata": {},
   "source": [
    "#### Entrenamiento"
   ]
  },
  {
   "cell_type": "code",
   "execution_count": 6,
   "id": "e2ffc69d",
   "metadata": {},
   "outputs": [
    {
     "data": {
      "image/png": "[encoded data removed]",
      "text/plain": [
       "<Figure size 1200x500 with 2 Axes>"
      ]
     },
     "metadata": {},
     "output_type": "display_data"
    }
   ],
   "source": [
    "from livelossplot import PlotLossesKeras\n",
    "from livelossplot.outputs import MatplotlibPlot\n",
    "\n",
    "LOTES  = 128\n",
    "EPOCAS = 100\n",
    "PACIENCIA = 10\n",
    "\n",
    "# parada temprana para evitar el sobreajuste\n",
    "early_stop = callbacks.EarlyStopping(monitor='val_loss', patience=PACIENCIA, restore_best_weights=True )\n",
    "visual_plot = PlotLossesKeras( outputs=[ MatplotlibPlot(figsize=(12, 5)) ] )\n",
    "\n",
    "# %% Entrenamiento del modelo usando datos de entrenamiento y validacion\n",
    "H = model.fit(x=X_train, y=Y_train, batch_size=LOTES,\n",
    "\t\t\t\tepochs=EPOCAS,\n",
    "\t\t\t\tvalidation_split=0.3,\n",
    "\t\t\t\tcallbacks=[early_stop, visual_plot],\n",
    "\t\t\t\tverbose=0\n",
    "\t\t\t\t)\n",
    "\n",
    "MODEL_DIR = '../../Models/p5/'\n",
    "model.save(MODEL_DIR + 'ej1_mnist_model.keras')"
   ]
  },
  {
   "cell_type": "markdown",
   "id": "27bdf4dc",
   "metadata": {},
   "source": []
  },
  {
   "cell_type": "code",
   "execution_count": 7,
   "id": "6fff3603",
   "metadata": {},
   "outputs": [
    {
     "data": {
      "application/vnd.plotly.v1+json": {
       "config": {
        "plotlyServerURL": "https://plot.ly"
       },
       "data": [
        {
         "mode": "lines",
         "name": "train_loss",
         "type": "scatter",
         "xaxis": "x",
         "y": [
          1.3356162309646606,
          0.19690245389938354,
          0.12010622769594193,
          0.0849408507347107,
          0.06064518168568611,
          0.047559354454278946,
          0.03645302355289459,
          0.027552461251616478,
          0.021190796047449112,
          0.01629403978586197,
          0.011666882783174515,
          0.009766804985702038,
          0.0073855225928127766,
          0.010671348311007023,
          0.006576573476195335,
          0.004226225893944502,
          0.0042223320342600346,
          0.010562929324805737,
          0.017830658704042435,
          0.005445484537631273,
          0.001677484018728137,
          0.0009505440830253065,
          0.007602863945066929,
          0.008984552696347237,
          0.0030687889084219933,
          0.001163508277386427,
          0.00030266778776422143,
          0.0001413747522747144,
          0.00010715510870795697,
          0.00008765992242842913,
          0.00007728883065283298,
          0.00006749641033820808,
          0.00005921770934946835,
          0.000052039860747754574,
          0.000045890792534919456,
          0.00004060760693391785,
          0.00003614950765040703
         ],
         "yaxis": "y"
        },
        {
         "mode": "lines",
         "name": "val_loss",
         "type": "scatter",
         "xaxis": "x",
         "y": [
          0.26823604106903076,
          0.17210350930690765,
          0.1352335512638092,
          0.1036212146282196,
          0.11270946264266968,
          0.10614138096570969,
          0.08827143162488937,
          0.08369381725788116,
          0.08136488497257233,
          0.0814579501748085,
          0.07088519632816315,
          0.07238397747278214,
          0.08547820150852203,
          0.07439713180065155,
          0.0682118684053421,
          0.07039380073547363,
          0.06742546707391739,
          0.10876650363206863,
          0.08169634640216827,
          0.06886579096317291,
          0.06291939318180084,
          0.10967676341533661,
          0.08636640012264252,
          0.08048498630523682,
          0.07000690698623657,
          0.06749686598777771,
          0.060640983283519745,
          0.0620059072971344,
          0.06204540282487869,
          0.06222482770681381,
          0.0635417178273201,
          0.0638018399477005,
          0.06328549236059189,
          0.06408105045557022,
          0.06468713283538818,
          0.06494060903787613,
          0.06553210318088531
         ],
         "yaxis": "y"
        },
        {
         "mode": "lines",
         "name": "train_acc",
         "type": "scatter",
         "xaxis": "x2",
         "y": [
          0.7733809351921082,
          0.9415714144706726,
          0.9636428356170654,
          0.974142849445343,
          0.9811190366744995,
          0.9848809242248535,
          0.9884999990463257,
          0.9911666512489319,
          0.993404746055603,
          0.9953095316886902,
          0.9968571662902832,
          0.9974285960197449,
          0.9981428384780884,
          0.9965000152587891,
          0.9979761838912964,
          0.9990000128746033,
          0.9990476369857788,
          0.9967619180679321,
          0.9936428666114807,
          0.998285710811615,
          0.9997380971908569,
          0.9999285936355591,
          0.9975237846374512,
          0.9966190457344055,
          0.9990237951278687,
          0.9997857213020325,
          1,
          1,
          1,
          1,
          1,
          1,
          1,
          1,
          1,
          1,
          1
         ],
         "yaxis": "y2"
        },
        {
         "mode": "lines",
         "name": "val_acc",
         "type": "scatter",
         "xaxis": "x2",
         "y": [
          0.9206666946411133,
          0.9489444494247437,
          0.9608333110809326,
          0.968999981880188,
          0.9668333530426025,
          0.9711666703224182,
          0.9738333225250244,
          0.9766666889190674,
          0.97688889503479,
          0.9771666526794434,
          0.9806666374206543,
          0.9808333516120911,
          0.977055549621582,
          0.980388879776001,
          0.9833333492279053,
          0.9818888902664185,
          0.9831110835075378,
          0.9778333306312561,
          0.980388879776001,
          0.9837222099304199,
          0.9853888750076294,
          0.9754444360733032,
          0.9814444184303284,
          0.9823889136314392,
          0.9842777848243713,
          0.9860555529594421,
          0.9871666431427002,
          0.9877222180366516,
          0.9878333210945129,
          0.9878888726234436,
          0.9879999756813049,
          0.9878333210945129,
          0.9881666898727417,
          0.9879444241523743,
          0.9879999756813049,
          0.9879999756813049,
          0.9880555272102356
         ],
         "yaxis": "y2"
        },
        {
         "colorscale": [
          [
           0,
           "#440154"
          ],
          [
           0.1111111111111111,
           "#482878"
          ],
          [
           0.2222222222222222,
           "#3e4989"
          ],
          [
           0.3333333333333333,
           "#31688e"
          ],
          [
           0.4444444444444444,
           "#26828e"
          ],
          [
           0.5555555555555556,
           "#1f9e89"
          ],
          [
           0.6666666666666666,
           "#35b779"
          ],
          [
           0.7777777777777778,
           "#6ece58"
          ],
          [
           0.8888888888888888,
           "#b5de2b"
          ],
          [
           1,
           "#fde725"
          ]
         ],
         "text": {
          "bdata": "GRcAAAIAAQAAAAAAAgAAAAQAAQAAAEgaBAAAAAIAAAADAAUAAAAAAAEAAQA3FwUAAAAAAAEAAwADAAEAAAAAAAkA1RcAAAUAAAABAAkABgAAAAQAAAAAALcWAAABAAMABAAPAAQAAAABAAgAAAANFQgAAQAHAAMABwAAAAMAAAAAAAUADhcAAAEAAAAAAAcACAACAAMAAQAAAFwYAgAGAAQAAgABAAIAAQADAAIAAgDFFgUABAABAAAABAAJAAQAAAAKAAQAGRc=",
          "dtype": "i2",
          "shape": "10, 10"
         },
         "textfont": {
          "size": 10
         },
         "texttemplate": "%{text}",
         "type": "heatmap",
         "x": [
          "Pred 0",
          "Pred 1",
          "Pred 2",
          "Pred 3",
          "Pred 4",
          "Pred 5",
          "Pred 6",
          "Pred 7",
          "Pred 8",
          "Pred 9"
         ],
         "xaxis": "x3",
         "y": [
          "Real 0",
          "Real 1",
          "Real 2",
          "Real 3",
          "Real 4",
          "Real 5",
          "Real 6",
          "Real 7",
          "Real 8",
          "Real 9"
         ],
         "yaxis": "y3",
         "z": {
          "bdata": "GRcAAAIAAQAAAAAAAgAAAAQAAQAAAEgaBAAAAAIAAAADAAUAAAAAAAEAAQA3FwUAAAAAAAEAAwADAAEAAAAAAAkA1RcAAAUAAAABAAkABgAAAAQAAAAAALcWAAABAAMABAAPAAQAAAABAAgAAAANFQgAAQAHAAMABwAAAAMAAAAAAAUADhcAAAEAAAAAAAcACAACAAMAAQAAAFwYAgAGAAQAAgABAAIAAQADAAIAAgDFFgUABAABAAAABAAJAAQAAAAKAAQAGRc=",
          "dtype": "i2",
          "shape": "10, 10"
         }
        }
       ],
       "layout": {
        "annotations": [
         {
          "font": {
           "size": 16
          },
          "showarrow": false,
          "text": "Pérdida",
          "x": 0.14444444444444446,
          "xanchor": "center",
          "xref": "paper",
          "y": 1,
          "yanchor": "bottom",
          "yref": "paper"
         },
         {
          "font": {
           "size": 16
          },
          "showarrow": false,
          "text": "Accuracy",
          "x": 0.5,
          "xanchor": "center",
          "xref": "paper",
          "y": 1,
          "yanchor": "bottom",
          "yref": "paper"
         },
         {
          "font": {
           "size": 16
          },
          "showarrow": false,
          "text": "Matriz de Confusión",
          "x": 0.8555555555555556,
          "xanchor": "center",
          "xref": "paper",
          "y": 1,
          "yanchor": "bottom",
          "yref": "paper"
         }
        ],
        "height": 450,
        "legend": {
         "orientation": "v",
         "x": 0.57,
         "xanchor": "center",
         "y": 0.1,
         "yanchor": "bottom"
        },
        "margin": {
         "b": 50,
         "l": 50,
         "r": 50,
         "t": 100
        },
        "template": {
         "data": {
          "bar": [
           {
            "error_x": {
             "color": "#2a3f5f"
            },
            "error_y": {
             "color": "#2a3f5f"
            },
            "marker": {
             "line": {
              "color": "#E5ECF6",
              "width": 0.5
             },
             "pattern": {
              "fillmode": "overlay",
              "size": 10,
              "solidity": 0.2
             }
            },
            "type": "bar"
           }
          ],
          "barpolar": [
           {
            "marker": {
             "line": {
              "color": "#E5ECF6",
              "width": 0.5
             },
             "pattern": {
              "fillmode": "overlay",
              "size": 10,
              "solidity": 0.2
             }
            },
            "type": "barpolar"
           }
          ],
          "carpet": [
           {
            "aaxis": {
             "endlinecolor": "#2a3f5f",
             "gridcolor": "white",
             "linecolor": "white",
             "minorgridcolor": "white",
             "startlinecolor": "#2a3f5f"
            },
            "baxis": {
             "endlinecolor": "#2a3f5f",
             "gridcolor": "white",
             "linecolor": "white",
             "minorgridcolor": "white",
             "startlinecolor": "#2a3f5f"
            },
            "type": "carpet"
           }
          ],
          "choropleth": [
           {
            "colorbar": {
             "outlinewidth": 0,
             "ticks": ""
            },
            "type": "choropleth"
           }
          ],
          "contour": [
           {
            "colorbar": {
             "outlinewidth": 0,
             "ticks": ""
            },
            "colorscale": [
             [
              0,
              "#0d0887"
             ],
             [
              0.1111111111111111,
              "#46039f"
             ],
             [
              0.2222222222222222,
              "#7201a8"
             ],
             [
              0.3333333333333333,
              "#9c179e"
             ],
             [
              0.4444444444444444,
              "#bd3786"
             ],
             [
              0.5555555555555556,
              "#d8576b"
             ],
             [
              0.6666666666666666,
              "#ed7953"
             ],
             [
              0.7777777777777778,
              "#fb9f3a"
             ],
             [
              0.8888888888888888,
              "#fdca26"
             ],
             [
              1,
              "#f0f921"
             ]
            ],
            "type": "contour"
           }
          ],
          "contourcarpet": [
           {
            "colorbar": {
             "outlinewidth": 0,
             "ticks": ""
            },
            "type": "contourcarpet"
           }
          ],
          "heatmap": [
           {
            "colorbar": {
             "outlinewidth": 0,
             "ticks": ""
            },
            "colorscale": [
             [
              0,
              "#0d0887"
             ],
             [
              0.1111111111111111,
              "#46039f"
             ],
             [
              0.2222222222222222,
              "#7201a8"
             ],
             [
              0.3333333333333333,
              "#9c179e"
             ],
             [
              0.4444444444444444,
              "#bd3786"
             ],
             [
              0.5555555555555556,
              "#d8576b"
             ],
             [
              0.6666666666666666,
              "#ed7953"
             ],
             [
              0.7777777777777778,
              "#fb9f3a"
             ],
             [
              0.8888888888888888,
              "#fdca26"
             ],
             [
              1,
              "#f0f921"
             ]
            ],
            "type": "heatmap"
           }
          ],
          "histogram": [
           {
            "marker": {
             "pattern": {
              "fillmode": "overlay",
              "size": 10,
              "solidity": 0.2
             }
            },
            "type": "histogram"
           }
          ],
          "histogram2d": [
           {
            "colorbar": {
             "outlinewidth": 0,
             "ticks": ""
            },
            "colorscale": [
             [
              0,
              "#0d0887"
             ],
             [
              0.1111111111111111,
              "#46039f"
             ],
             [
              0.2222222222222222,
              "#7201a8"
             ],
             [
              0.3333333333333333,
              "#9c179e"
             ],
             [
              0.4444444444444444,
              "#bd3786"
             ],
             [
              0.5555555555555556,
              "#d8576b"
             ],
             [
              0.6666666666666666,
              "#ed7953"
             ],
             [
              0.7777777777777778,
              "#fb9f3a"
             ],
             [
              0.8888888888888888,
              "#fdca26"
             ],
             [
              1,
              "#f0f921"
             ]
            ],
            "type": "histogram2d"
           }
          ],
          "histogram2dcontour": [
           {
            "colorbar": {
             "outlinewidth": 0,
             "ticks": ""
            },
            "colorscale": [
             [
              0,
              "#0d0887"
             ],
             [
              0.1111111111111111,
              "#46039f"
             ],
             [
              0.2222222222222222,
              "#7201a8"
             ],
             [
              0.3333333333333333,
              "#9c179e"
             ],
             [
              0.4444444444444444,
              "#bd3786"
             ],
             [
              0.5555555555555556,
              "#d8576b"
             ],
             [
              0.6666666666666666,
              "#ed7953"
             ],
             [
              0.7777777777777778,
              "#fb9f3a"
             ],
             [
              0.8888888888888888,
              "#fdca26"
             ],
             [
              1,
              "#f0f921"
             ]
            ],
            "type": "histogram2dcontour"
           }
          ],
          "mesh3d": [
           {
            "colorbar": {
             "outlinewidth": 0,
             "ticks": ""
            },
            "type": "mesh3d"
           }
          ],
          "parcoords": [
           {
            "line": {
             "colorbar": {
              "outlinewidth": 0,
              "ticks": ""
             }
            },
            "type": "parcoords"
           }
          ],
          "pie": [
           {
            "automargin": true,
            "type": "pie"
           }
          ],
          "scatter": [
           {
            "fillpattern": {
             "fillmode": "overlay",
             "size": 10,
             "solidity": 0.2
            },
            "type": "scatter"
           }
          ],
          "scatter3d": [
           {
            "line": {
             "colorbar": {
              "outlinewidth": 0,
              "ticks": ""
             }
            },
            "marker": {
             "colorbar": {
              "outlinewidth": 0,
              "ticks": ""
             }
            },
            "type": "scatter3d"
           }
          ],
          "scattercarpet": [
           {
            "marker": {
             "colorbar": {
              "outlinewidth": 0,
              "ticks": ""
             }
            },
            "type": "scattercarpet"
           }
          ],
          "scattergeo": [
           {
            "marker": {
             "colorbar": {
              "outlinewidth": 0,
              "ticks": ""
             }
            },
            "type": "scattergeo"
           }
          ],
          "scattergl": [
           {
            "marker": {
             "colorbar": {
              "outlinewidth": 0,
              "ticks": ""
             }
            },
            "type": "scattergl"
           }
          ],
          "scattermap": [
           {
            "marker": {
             "colorbar": {
              "outlinewidth": 0,
              "ticks": ""
             }
            },
            "type": "scattermap"
           }
          ],
          "scattermapbox": [
           {
            "marker": {
             "colorbar": {
              "outlinewidth": 0,
              "ticks": ""
             }
            },
            "type": "scattermapbox"
           }
          ],
          "scatterpolar": [
           {
            "marker": {
             "colorbar": {
              "outlinewidth": 0,
              "ticks": ""
             }
            },
            "type": "scatterpolar"
           }
          ],
          "scatterpolargl": [
           {
            "marker": {
             "colorbar": {
              "outlinewidth": 0,
              "ticks": ""
             }
            },
            "type": "scatterpolargl"
           }
          ],
          "scatterternary": [
           {
            "marker": {
             "colorbar": {
              "outlinewidth": 0,
              "ticks": ""
             }
            },
            "type": "scatterternary"
           }
          ],
          "surface": [
           {
            "colorbar": {
             "outlinewidth": 0,
             "ticks": ""
            },
            "colorscale": [
             [
              0,
              "#0d0887"
             ],
             [
              0.1111111111111111,
              "#46039f"
             ],
             [
              0.2222222222222222,
              "#7201a8"
             ],
             [
              0.3333333333333333,
              "#9c179e"
             ],
             [
              0.4444444444444444,
              "#bd3786"
             ],
             [
              0.5555555555555556,
              "#d8576b"
             ],
             [
              0.6666666666666666,
              "#ed7953"
             ],
             [
              0.7777777777777778,
              "#fb9f3a"
             ],
             [
              0.8888888888888888,
              "#fdca26"
             ],
             [
              1,
              "#f0f921"
             ]
            ],
            "type": "surface"
           }
          ],
          "table": [
           {
            "cells": {
             "fill": {
              "color": "#EBF0F8"
             },
             "line": {
              "color": "white"
             }
            },
            "header": {
             "fill": {
              "color": "#C8D4E3"
             },
             "line": {
              "color": "white"
             }
            },
            "type": "table"
           }
          ]
         },
         "layout": {
          "annotationdefaults": {
           "arrowcolor": "#2a3f5f",
           "arrowhead": 0,
           "arrowwidth": 1
          },
          "autotypenumbers": "strict",
          "coloraxis": {
           "colorbar": {
            "outlinewidth": 0,
            "ticks": ""
           }
          },
          "colorscale": {
           "diverging": [
            [
             0,
             "#8e0152"
            ],
            [
             0.1,
             "#c51b7d"
            ],
            [
             0.2,
             "#de77ae"
            ],
            [
             0.3,
             "#f1b6da"
            ],
            [
             0.4,
             "#fde0ef"
            ],
            [
             0.5,
             "#f7f7f7"
            ],
            [
             0.6,
             "#e6f5d0"
            ],
            [
             0.7,
             "#b8e186"
            ],
            [
             0.8,
             "#7fbc41"
            ],
            [
             0.9,
             "#4d9221"
            ],
            [
             1,
             "#276419"
            ]
           ],
           "sequential": [
            [
             0,
             "#0d0887"
            ],
            [
             0.1111111111111111,
             "#46039f"
            ],
            [
             0.2222222222222222,
             "#7201a8"
            ],
            [
             0.3333333333333333,
             "#9c179e"
            ],
            [
             0.4444444444444444,
             "#bd3786"
            ],
            [
             0.5555555555555556,
             "#d8576b"
            ],
            [
             0.6666666666666666,
             "#ed7953"
            ],
            [
             0.7777777777777778,
             "#fb9f3a"
            ],
            [
             0.8888888888888888,
             "#fdca26"
            ],
            [
             1,
             "#f0f921"
            ]
           ],
           "sequentialminus": [
            [
             0,
             "#0d0887"
            ],
            [
             0.1111111111111111,
             "#46039f"
            ],
            [
             0.2222222222222222,
             "#7201a8"
            ],
            [
             0.3333333333333333,
             "#9c179e"
            ],
            [
             0.4444444444444444,
             "#bd3786"
            ],
            [
             0.5555555555555556,
             "#d8576b"
            ],
            [
             0.6666666666666666,
             "#ed7953"
            ],
            [
             0.7777777777777778,
             "#fb9f3a"
            ],
            [
             0.8888888888888888,
             "#fdca26"
            ],
            [
             1,
             "#f0f921"
            ]
           ]
          },
          "colorway": [
           "#636efa",
           "#EF553B",
           "#00cc96",
           "#ab63fa",
           "#FFA15A",
           "#19d3f3",
           "#FF6692",
           "#B6E880",
           "#FF97FF",
           "#FECB52"
          ],
          "font": {
           "color": "#2a3f5f"
          },
          "geo": {
           "bgcolor": "white",
           "lakecolor": "white",
           "landcolor": "#E5ECF6",
           "showlakes": true,
           "showland": true,
           "subunitcolor": "white"
          },
          "hoverlabel": {
           "align": "left"
          },
          "hovermode": "closest",
          "mapbox": {
           "style": "light"
          },
          "paper_bgcolor": "white",
          "plot_bgcolor": "#E5ECF6",
          "polar": {
           "angularaxis": {
            "gridcolor": "white",
            "linecolor": "white",
            "ticks": ""
           },
           "bgcolor": "#E5ECF6",
           "radialaxis": {
            "gridcolor": "white",
            "linecolor": "white",
            "ticks": ""
           }
          },
          "scene": {
           "xaxis": {
            "backgroundcolor": "#E5ECF6",
            "gridcolor": "white",
            "gridwidth": 2,
            "linecolor": "white",
            "showbackground": true,
            "ticks": "",
            "zerolinecolor": "white"
           },
           "yaxis": {
            "backgroundcolor": "#E5ECF6",
            "gridcolor": "white",
            "gridwidth": 2,
            "linecolor": "white",
            "showbackground": true,
            "ticks": "",
            "zerolinecolor": "white"
           },
           "zaxis": {
            "backgroundcolor": "#E5ECF6",
            "gridcolor": "white",
            "gridwidth": 2,
            "linecolor": "white",
            "showbackground": true,
            "ticks": "",
            "zerolinecolor": "white"
           }
          },
          "shapedefaults": {
           "line": {
            "color": "#2a3f5f"
           }
          },
          "ternary": {
           "aaxis": {
            "gridcolor": "white",
            "linecolor": "white",
            "ticks": ""
           },
           "baxis": {
            "gridcolor": "white",
            "linecolor": "white",
            "ticks": ""
           },
           "bgcolor": "#E5ECF6",
           "caxis": {
            "gridcolor": "white",
            "linecolor": "white",
            "ticks": ""
           }
          },
          "title": {
           "x": 0.05
          },
          "xaxis": {
           "automargin": true,
           "gridcolor": "white",
           "linecolor": "white",
           "ticks": "",
           "title": {
            "standoff": 15
           },
           "zerolinecolor": "white",
           "zerolinewidth": 2
          },
          "yaxis": {
           "automargin": true,
           "gridcolor": "white",
           "linecolor": "white",
           "ticks": "",
           "title": {
            "standoff": 15
           },
           "zerolinecolor": "white",
           "zerolinewidth": 2
          }
         }
        },
        "title": {
         "font": {
          "size": 20
         },
         "text": "Métricas de Entrenamiento",
         "x": 0.5,
         "xanchor": "center",
         "y": 0.95
        },
        "width": 1200,
        "xaxis": {
         "anchor": "y",
         "domain": [
          0,
          0.2888888888888889
         ]
        },
        "xaxis2": {
         "anchor": "y2",
         "domain": [
          0.35555555555555557,
          0.6444444444444445
         ]
        },
        "xaxis3": {
         "anchor": "y3",
         "domain": [
          0.7111111111111111,
          1
         ]
        },
        "yaxis": {
         "anchor": "x",
         "domain": [
          0,
          1
         ]
        },
        "yaxis2": {
         "anchor": "x2",
         "domain": [
          0,
          1
         ]
        },
        "yaxis3": {
         "anchor": "x3",
         "domain": [
          0,
          1
         ]
        }
       }
      }
     },
     "metadata": {},
     "output_type": "display_data"
    },
    {
     "name": "stdout",
     "output_type": "stream",
     "text": [
      "\n",
      "Efectividad del modelo con datos de entrenamiento: 100.00%\n",
      "Efectividad del modelo con datos de validación...:  98.81%\n",
      "Efectividad del modelo con datos de Prueba.......:  98.84%\n",
      "\n",
      "              precision    recall  f1-score   support\n",
      "\n",
      "           0       0.98      0.99      0.99       980\n",
      "           1       1.00      0.99      0.99      1135\n",
      "           2       0.98      0.99      0.99      1032\n",
      "           3       0.99      0.99      0.99      1010\n",
      "           4       0.99      0.99      0.99       982\n",
      "           5       0.98      0.99      0.99       892\n",
      "           6       0.99      0.99      0.99       958\n",
      "           7       0.98      0.98      0.98      1028\n",
      "           8       0.99      0.98      0.99       974\n",
      "           9       0.99      0.99      0.99      1009\n",
      "\n",
      "    accuracy                           0.99     10000\n",
      "   macro avg       0.99      0.99      0.99     10000\n",
      "weighted avg       0.99      0.99      0.99     10000\n",
      "\n"
     ]
    }
   ],
   "source": [
    "import plotly.graph_objs as go\n",
    "from plotly.subplots import make_subplots\n",
    "import plotly.express as px\n",
    "import numpy as np\n",
    "import matplotlib.pyplot as plt\n",
    "from sklearn import metrics\n",
    "import seaborn as sns\n",
    "\n",
    "# Crear subplots interactivos\n",
    "fig = make_subplots(rows=1, cols=3,\n",
    "                    subplot_titles=('Pérdida', 'Accuracy', 'Matriz de Confusión'),\n",
    "                    )\n",
    "\n",
    "# Gráfico de pérdida\n",
    "fig.add_trace( go.Scatter(y=H.history[\"loss\"], name=\"train_loss\", mode='lines'),   row=1, col=1 )\n",
    "fig.add_trace( go.Scatter(y=H.history[\"val_loss\"], name=\"val_loss\", mode='lines'), row=1, col=1 )\n",
    "\n",
    "# Gráfico de accuracy\n",
    "fig.add_trace( go.Scatter(y=H.history[\"accuracy\"], name=\"train_acc\", mode='lines'),   row=1, col=2)\n",
    "fig.add_trace( go.Scatter(y=H.history[\"val_accuracy\"], name=\"val_acc\", mode='lines'), row=1, col=2)\n",
    "\n",
    "# Matriz de confusión\n",
    "pred = model.predict(X_train, verbose=0)\n",
    "cm = metrics.confusion_matrix(np.argmax(Y_train, axis=1), np.argmax(pred, axis=1))\n",
    "\n",
    "# Matriz de confusión con Plotly\n",
    "confusion_heatmap = go.Heatmap(\n",
    "    z=cm,\n",
    "    x=[f'Pred {i}' for i in range(cm.shape[1])],\n",
    "    y=[f'Real {i}' for i in range(cm.shape[0])],\n",
    "    colorscale='Viridis',\n",
    "    text=cm,\n",
    "    texttemplate='%{text}',\n",
    "    textfont={'size':10},\n",
    ")\n",
    "\n",
    "# Agregar la matriz de confusión\n",
    "fig.add_trace(confusion_heatmap, row=1, col=3)\n",
    "\n",
    "fig.update_layout(\n",
    "    height=450,\n",
    "    width=1200,\n",
    "    title={\n",
    "        'text': \"Métricas de Entrenamiento\",\n",
    "        'font': dict(size=20),\n",
    "        'y':0.95,\n",
    "        'x':0.5,\n",
    "        'xanchor': 'center'},\n",
    "    legend=dict(\n",
    "        orientation=\"v\",\n",
    "        yanchor=\"bottom\",\n",
    "        y=0.1,\n",
    "        xanchor=\"center\",\n",
    "        x=0.57\n",
    "    ),\n",
    "    margin=dict(t=100, b=50, l=50, r=50)\n",
    ")\n",
    "\n",
    "fig.show()\n",
    "\n",
    "# Resto del código para imprimir métricas\n",
    "print(\"\\nEfectividad del modelo con datos de entrenamiento: %6.2f%%\" % (H.history['accuracy'][-1]*100))\n",
    "print(\"Efectividad del modelo con datos de validación...: %6.2f%%\" % (H.history['val_accuracy'][-1]*100))\n",
    "\n",
    "# Evalua el modelo con datos de prueba\n",
    "pred = model.evaluate(X_test, Y_test, verbose=0)\n",
    "print(\"Efectividad del modelo con datos de Prueba.......: %6.2f%%\\n\" % (pred[1]*100))\n",
    "pred = model.predict(X_test, verbose=0)\n",
    "print(metrics.classification_report(np.argmax(Y_test, axis=1), np.argmax(pred, axis=1)))"
   ]
  },
  {
   "cell_type": "markdown",
   "id": "d007311d",
   "metadata": {},
   "source": [
    "### b)\n",
    "\n",
    "Levante el modelo guardado en el punto a) y utilice la clase **DrawPanel** del módulo **utils.images** de la carpeta fuentes para generar un dibujo escrito a mano de un dígito y predecir la clase a la que pertenece."
   ]
  },
  {
   "cell_type": "code",
   "execution_count": 4,
   "id": "1102bdc8",
   "metadata": {},
   "outputs": [
    {
     "name": "stdout",
     "output_type": "stream",
     "text": [
      "Dibuja un dígito en la ventana que se abrirá...\n"
     ]
    },
    {
     "data": {
      "image/png": "[encoded data removed]",
      "text/plain": [
       "<Figure size 1200x400 with 3 Axes>"
      ]
     },
     "metadata": {},
     "output_type": "display_data"
    },
    {
     "name": "stdout",
     "output_type": "stream",
     "text": [
      "\n",
      "Probabilidades por dígito:\n",
      "Dígito 0: 9.83%\n",
      "Dígito 1: 9.70%\n",
      "Dígito 2: 9.82%\n",
      "Dígito 3: 10.28%\n",
      "Dígito 4: 9.89%\n",
      "Dígito 5: 9.95%\n",
      "Dígito 6: 9.37%\n",
      "Dígito 7: 10.17%\n",
      "Dígito 8: 9.98%\n",
      "Dígito 9: 11.01%\n",
      "\n",
      "\u001b[1mEl dígito dibujado es: 9\u001b[0m\n",
      "Confianza: 11.01%\n"
     ]
    }
   ],
   "source": [
    "import tkinter as tk\n",
    "import numpy as np\n",
    "import matplotlib.pyplot as plt\n",
    "from Fuentes.imagen import DrawPanel\n",
    "from PIL import Image, ImageDraw, ImageOps, ImageChops, ImageFilter\n",
    "\n",
    "def preprocess_mnist(pil_img):\n",
    "    # 1. Asegurar modo L\n",
    "    img = pil_img.convert('L')\n",
    "\n",
    "    # 2. Invertir (MNIST fondo negro)\n",
    "    img = ImageOps.invert(img)\n",
    "\n",
    "    # 3. Filtrar para engrosar trazos (dilatación)\n",
    "    img = img.filter(ImageFilter.MaxFilter(3))\n",
    "\n",
    "    # 4. Centrar por centro de masa\n",
    "    arr = np.array(img)\n",
    "    total = arr.sum()\n",
    "    if total > 0:\n",
    "        coords = np.indices(arr.shape)\n",
    "        cy = (coords[0] * arr).sum() / total\n",
    "        cx = (coords[1] * arr).sum() / total\n",
    "        shift_x = int(np.round(arr.shape[1]/2 - cx))\n",
    "        shift_y = int(np.round(arr.shape[0]/2 - cy))\n",
    "        img = ImageChops.offset(img, shift_x, shift_y)\n",
    "\n",
    "    # 5. Normalizar a [0,1] y reshape\n",
    "    arr = np.array(img).astype(np.float32) / 255.0\n",
    "    arr = arr.reshape(1, 28, 28, 1)\n",
    "    return arr, img\n",
    "\n",
    "# Cargar el modelo\n",
    "MODEL_DIR = '../../Models/p5/'\n",
    "model = load_model(MODEL_DIR + 'ej1_mnist_model.keras')\n",
    "\n",
    "# Crear panel de dibujo\n",
    "IMG_SHAPE = (28, 28)\n",
    "dp = DrawPanel()\n",
    "\n",
    "# Generar imagen dibujada a mano\n",
    "print(\"Dibuja un dígito en la ventana que se abrirá...\")\n",
    "image = dp.draw(size=IMG_SHAPE, line_width=2.0, scale=10)\n",
    "\n",
    "# Preprocesar la imagen para que sea similar a MNIST\n",
    "processed_array, processed_img = preprocess_mnist(image)\n",
    "\n",
    "# Mostrar las imágenes\n",
    "fig, axes = plt.subplots(1, 3, figsize=(12, 4))\n",
    "\n",
    "# Imagen original\n",
    "axes[0].imshow(image, cmap='gray')\n",
    "axes[0].set_title('Imagen Original')\n",
    "axes[0].axis('off')\n",
    "\n",
    "# Imagen procesada\n",
    "axes[1].imshow(processed_img, cmap='gray')\n",
    "axes[1].set_title('Imagen Procesada (estilo MNIST)')\n",
    "axes[1].axis('off')\n",
    "\n",
    "# Imagen final para el modelo\n",
    "axes[2].imshow(processed_array.reshape(28, 28), cmap='gray')\n",
    "axes[2].set_title('Array final para predicción')\n",
    "axes[2].axis('off')\n",
    "\n",
    "plt.tight_layout()\n",
    "plt.show()\n",
    "\n",
    "# Realizar predicción\n",
    "resp = model.predict(processed_array, verbose=0)\n",
    "\n",
    "# Obtener la clase predicha\n",
    "digito_predicho = np.argmax(resp)\n",
    "confianza = np.max(resp) * 100\n",
    "\n",
    "# Mostrar todas las probabilidades\n",
    "print(\"\\nProbabilidades por dígito:\")\n",
    "for i, prob in enumerate(resp[0]):\n",
    "    print(f\"Dígito {i}: {prob*100:.2f}%\")\n",
    "\n",
    "print(f\"\\n\\033[1mEl dígito dibujado es: {digito_predicho}\\033[0m\")\n",
    "print(f\"Confianza: {confianza:.2f}%\")\n"
   ]
  }
 ],
 "metadata": {
  "kernelspec": {
   "display_name": "env",
   "language": "python",
   "name": "python3"
  },
  "language_info": {
   "codemirror_mode": {
    "name": "ipython",
    "version": 3
   },
   "file_extension": ".py",
   "mimetype": "text/x-python",
   "name": "python",
   "nbconvert_exporter": "python",
   "pygments_lexer": "ipython3",
   "version": "3.13.7"
  }
 },
 "nbformat": 4,
 "nbformat_minor": 5
}
