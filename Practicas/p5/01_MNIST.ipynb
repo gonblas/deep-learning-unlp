{
 "cells": [
  {
   "cell_type": "markdown",
   "id": "a2610ca9",
   "metadata": {},
   "source": [
    "# Práctica 5 - Redes Neuronales Convolucionales\n",
    "\n",
    "## Ejercicio 1\n",
    "\n",
    "La base de datos MNIST contiene imágenes de 28×28, en escala de grises, de números escritos a mano. Está conformada por 60.000 ejemplos de entrenamiento y 10.000 ejemplos de prueba.\n",
    "\n",
    "<div style=\"text-align: center;\">\n",
    "    <img src='../../images/p5-ej1.png' width=\"40%\">\n",
    "</div>\n",
    "\n",
    "\n",
    "Para cargar las imágenes utilice:\n",
    "\n",
    "```python\n",
    "from tensorflow.keras.datasets import mnist  \n",
    "(X_train, Y_train), (X_test, Y_test) = mnist.load_data()\n",
    "```\n",
    "\n",
    "Puede visualizar una imagen utilizando:\n",
    "\n",
    "```python\n",
    "nImg = 0   # nro. de imagen a visualizar\n",
    "plt.imshow(X_train[0, :,:], cmap='gray')\n",
    "```\n",
    "\n",
    "### a)\n",
    "\n",
    "Con el conjunto de 60000 imágenes entrene una red neuronal convolucional para predecir el dígito presente en la imagen. Recuerde normalizar los valores de cada imagen. Salve el modelo para recuperarlo después."
   ]
  },
  {
   "cell_type": "code",
   "execution_count": null,
   "id": "1f7a99a2",
   "metadata": {
    "vscode": {
     "languageId": "plaintext"
    }
   },
   "outputs": [],
   "source": []
  },
  {
   "cell_type": "markdown",
   "id": "d007311d",
   "metadata": {},
   "source": [
    "### b)\n",
    "\n",
    "Levante el modelo guardado en el punto a) y utilice la clase **DrawPanel** del módulo **utils.images** de la carpeta fuentes para generar un dibujo escrito a mano de un dígito y predecir la clase a la que pertenece."
   ]
  },
  {
   "cell_type": "code",
   "execution_count": null,
   "id": "1102bdc8",
   "metadata": {
    "vscode": {
     "languageId": "plaintext"
    }
   },
   "outputs": [],
   "source": []
  }
 ],
 "metadata": {
  "language_info": {
   "name": "python"
  }
 },
 "nbformat": 4,
 "nbformat_minor": 5
}
