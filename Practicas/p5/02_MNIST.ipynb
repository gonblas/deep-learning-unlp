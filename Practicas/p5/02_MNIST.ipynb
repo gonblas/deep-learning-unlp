{
 "cells": [
  {
   "cell_type": "markdown",
   "id": "dbc4cd14",
   "metadata": {},
   "source": [
    "## Ejercicio 2\n",
    "\n",
    "Se buscará resolver la clasificación de los dígitos de MNIST usando la siguiente configuración:\n",
    "\n",
    "```python\n",
    "model = Sequential()\n",
    "model.add(Input(shape=(28, 28, 1)))\n",
    "model.add(Conv2D(F, kernel_size=K, strides=(S,S), activation=FUN))\n",
    "model.add(MaxPooling2D(pool_size=(2,2)))   # -- opcional --\n",
    "model.add(Flatten())\n",
    "model.add(Dense(10,activation='softmax'))\n",
    "\n",
    "model.summary()\n",
    "```\n",
    "\n",
    "Donde **F** es la cantidad de filtros o de mapas de características, **K** es el tamaño del kernel o máscara, **S** es el valor del stride y **FUN** es la función de activación de la capa de convolución.\n",
    "\n",
    "La tabla que aparece a continuación sugiere los valores a utilizar. Se recomienda emplear Parada Temprana para reducir el tiempo de entrenamiento. Para ello utilice:\n",
    "\n",
    "```python\n",
    "from tensorflow.keras.callbacks import EarlyStopping  \n",
    "es = EarlyStopping(monitor='val_accuracy', patience=5, min_delta=0.001)\n",
    "```\n",
    "\n",
    "Esto indica que, si el valor del accuracy sobre los datos de validación no mejora después de 5 épocas, el entrenamiento finaliza. Puede usarse el parámetro min_delta para indicar cuando la diferencia entre dos accuracy se considerará significativa. Luego agregue este objeto en el momento del entrenamiento por medio del párametro callbacks\n",
    "\n",
    "```python\n",
    "H = model.fit(x = X_train, y = Y_train, batch_size = LOTES,\n",
    "              validation_data = (X_test, Y_test), epochs = 4000, callbacks = [es])\n",
    "```\n",
    "\n",
    "<p align=\"center\">\n",
    "\n",
    "<table>\n",
    "<tr><th>Cant. de filtros</th><th>Tamaño del kernel o filtro</th><th>Stride</th><th>Función de activación</th><th>Max Pooling</th><th>Total de parámetros</th><th>Épocas</th><th>Accuracy Train</th><th>Accuracy Test</th></tr>\n",
    "<tr><td>4</td><td>3x3</td><td>1</td><td>ReLU</td><td>Sí</td><td></td><td></td><td></td><td></td></tr>\n",
    "<tr><td>16</td><td>3x3</td><td>1</td><td>ReLU</td><td>Sí</td><td></td><td></td><td></td><td></td></tr>\n",
    "<tr><td>64</td><td>3x3</td><td>1</td><td>ReLU</td><td>Sí</td><td></td><td></td><td></td><td></td></tr>\n",
    "<tr><td>4</td><td>7x7</td><td>1</td><td>ReLU</td><td>Sí</td><td></td><td></td><td></td><td></td></tr>\n",
    "<tr><td>16</td><td>7x7</td><td>1</td><td>ReLU</td><td>Sí</td><td></td><td></td><td></td><td></td></tr>\n",
    "<tr><td>64</td><td>7x7</td><td>1</td><td>ReLU</td><td>Sí</td><td></td><td></td><td></td><td></td></tr>\n",
    "<tr><td>64</td><td>3x3</td><td>2</td><td>ReLU</td><td>No</td><td></td><td></td><td></td><td></td></tr>\n",
    "<tr><td>64</td><td>3x3</td><td>3</td><td>ReLU</td><td>No</td><td></td><td></td><td></td><td></td></tr>\n",
    "<tr><td>64</td><td>3x3</td><td>1</td><td>TanH</td><td>Sí</td><td></td><td></td><td></td><td></td></tr>\n",
    "<tr><td>64</td><td>3x3</td><td>1</td><td>Sigmoide</td><td>Sí</td><td></td><td></td><td></td><td></td></tr>\n",
    "</table>\n",
    "\n",
    "</p>\n",
    "\n"
   ]
  }
 ],
 "metadata": {
  "language_info": {
   "name": "python"
  }
 },
 "nbformat": 4,
 "nbformat_minor": 5
}
