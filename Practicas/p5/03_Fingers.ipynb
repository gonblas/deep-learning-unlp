{
 "cells": [
  {
   "cell_type": "markdown",
   "id": "51c85f76",
   "metadata": {},
   "source": [
    "\n",
    "## Ejercicio 3\n",
    "\n",
    "Para resolver este ejercicio utilice un modelo de red neuronal convolucional que reconozca la cantidad de dedos extendidos en cada mano de las imágenes del dataset **“Fingers”**.\n",
    "\n",
    "<div style=\"text-align: center;\">\n",
    "    <img src='../../images/p4-ej10.png' width=\"40%\">\n",
    "</div>\n",
    "\n",
    "La versión original de este de estas imágenes se encuentra en https://www.kaggle.com/koryakinp/fingers.\n",
    "\n",
    "Puede hallar una versión reducida de estas imágenes en el Moodle del curso, en la misma sección donde se encuentra este enunciado de práctica. También encontrará allí ejemplos sobre cómo cargar estas imágenes y cómo procesarlas con una red neuronal convolucional.\n",
    "\n",
    "### a)\n",
    "\n",
    "Entrene y pruebe un modelo utilizando los datos de las carpetas **test** y **train**, midiendo **accuracy**."
   ]
  },
  {
   "cell_type": "code",
   "execution_count": null,
   "id": "eca333e7",
   "metadata": {
    "vscode": {
     "languageId": "plaintext"
    }
   },
   "outputs": [],
   "source": []
  },
  {
   "cell_type": "markdown",
   "id": "8ae8c603",
   "metadata": {},
   "source": [
    "### b)\n",
    "\n",
    "Genere una versión del **dataset** para **test** agregando transformaciones al azar sobre imágenes originales. Haga **rotaciones** entre -45° y 45°, repita el test y mida el accuracy."
   ]
  },
  {
   "cell_type": "code",
   "execution_count": null,
   "id": "e4f38371",
   "metadata": {
    "vscode": {
     "languageId": "plaintext"
    }
   },
   "outputs": [],
   "source": []
  },
  {
   "cell_type": "markdown",
   "id": "044a2a6b",
   "metadata": {},
   "source": [
    "### c)\n",
    "\n",
    "Genere una versión del **dataset train** como en b) y repita el entrenamiento y prueba del punto a) con los datasets modificados."
   ]
  },
  {
   "cell_type": "code",
   "execution_count": null,
   "id": "815c92cd",
   "metadata": {
    "vscode": {
     "languageId": "plaintext"
    }
   },
   "outputs": [],
   "source": []
  }
 ],
 "metadata": {
  "language_info": {
   "name": "python"
  }
 },
 "nbformat": 4,
 "nbformat_minor": 5
}
