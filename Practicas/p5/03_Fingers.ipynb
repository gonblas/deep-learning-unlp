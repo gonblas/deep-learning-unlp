{
 "cells": [
  {
   "cell_type": "markdown",
   "id": "51c85f76",
   "metadata": {},
   "source": [
    "\n",
    "## Ejercicio 3\n",
    "\n",
    "Para resolver este ejercicio utilice un modelo de red neuronal convolucional que reconozca la cantidad de dedos extendidos en cada mano de las imágenes del dataset **“Fingers”**.\n",
    "\n",
    "<div style=\"text-align: center;\">\n",
    "    <img src='../../images/p4-ej10.png' width=\"40%\">\n",
    "</div>\n",
    "\n",
    "La versión original de este de estas imágenes se encuentra en https://www.kaggle.com/koryakinp/fingers.\n",
    "\n",
    "Puede hallar una versión reducida de estas imágenes en el Moodle del curso, en la misma sección donde se encuentra este enunciado de práctica. También encontrará allí ejemplos sobre cómo cargar estas imágenes y cómo procesarlas con una red neuronal convolucional.\n",
    "\n",
    "### a)\n",
    "\n",
    "Entrene y pruebe un modelo utilizando los datos de las carpetas **test** y **train**, midiendo **accuracy**."
   ]
  },
  {
   "cell_type": "markdown",
   "id": "e26dfa5f",
   "metadata": {},
   "source": [
    "#### Cargar datos"
   ]
  },
  {
   "cell_type": "code",
   "execution_count": 7,
   "id": "eca333e7",
   "metadata": {},
   "outputs": [
    {
     "name": "stdout",
     "output_type": "stream",
     "text": [
      "Cargando imágenes: 100.00% (17999) \n",
      "\n",
      "Cargando imágenes: 100.00% (3600) \n",
      "\n"
     ]
    }
   ],
   "source": [
    "import tensorflow as tf\n",
    "from sklearn.model_selection import train_test_split\n",
    "import numpy as np\n",
    "from PIL import Image\n",
    "import glob\n",
    "\n",
    "# Definir rutas\n",
    "TRAIN_DIR = '../../Datos/fingers/train'\n",
    "TEST_DIR = '../../Datos/fingers/test'\n",
    "\n",
    "IMG_ERROR = 'No hay imágenes para cargar. Verificar que la ruta sea correcta y que la carpeta tenga imagenes con la extensión usada'\n",
    "\n",
    "def import_data(data_dir):\n",
    "\n",
    "    img_list = glob.glob(data_dir)      # Obtener la lista de archivos de imágenes\n",
    "\n",
    "    assert len(img_list) > 0, IMG_ERROR # verifica que la ruta sea correcta y tenga al menos 1 imagen\n",
    "\n",
    "    img_data = []  # lista de imagenes\n",
    "    lbl_data = []  # lista de etiquetas\n",
    "\n",
    "    img_count = len(img_list)\n",
    "    for i, img_path in enumerate(img_list):\n",
    "\n",
    "        img = Image.open(img_path)          # Carga imagen\n",
    "        img = np.array(img) / np.max(img)   # Normaliza los píxeles entre 0 y 1\n",
    "        img = img.reshape((*img.shape, 1))  # Formatea la imagen para TF: WxH => WxHx1\n",
    "\n",
    "        # Almacenar la imagen y la etiqueta\n",
    "        img_data.append(img)\n",
    "        # ej. nombre de archivo: 000e7aa6-100b-4c6b-9ff0-e7a8e53e4465_5L.png\n",
    "        lbl_data.append(int(img_path[-6]))  # Extrae la cantidad de dedos del nombre del archivo\n",
    "\n",
    "        # Mostrar progreso en la carga\n",
    "        if i % 100 == 0:\n",
    "            print(\"\\rCargando imágenes: %6.2f%%\" % (100 * i / img_count), end=\"\")\n",
    "\n",
    "    print(\"\\rCargando imágenes: 100.00%% (%d) \\n\" % img_count)\n",
    "\n",
    "    return np.array(img_data), np.array(lbl_data)\n",
    "\n",
    "\n",
    "x_train, y_train = import_data(TRAIN_DIR+\"/*/*.png\")\n",
    "x_test, y_test = import_data(TEST_DIR+\"/*/*.png\")\n",
    "x_train, x_val, y_train, y_val = train_test_split(x_train, y_train, test_size = 0.30, shuffle = True)"
   ]
  },
  {
   "cell_type": "markdown",
   "id": "432860f1",
   "metadata": {},
   "source": [
    "#### Entrenar modelo"
   ]
  },
  {
   "cell_type": "code",
   "execution_count": 16,
   "id": "6e0ba321",
   "metadata": {},
   "outputs": [
    {
     "name": "stdout",
     "output_type": "stream",
     "text": [
      "=== ENTRENAMIENTO CON DATOS ORIGINALES ===\n",
      "Entrenando modelo con 12599 imágenes\n",
      "Forma de imagen: (64, 64, 1), Clases: 6\n",
      "\n",
      "Resultados del Datos Originales:\n",
      "Efectividad entrenamiento: 100.00%%\n",
      "Efectividad validación...: 99.97%%\n",
      "Efectividad prueba.......: 99.86%%\n"
     ]
    },
    {
     "data": {
      "application/vnd.plotly.v1+json": {
       "config": {
        "plotlyServerURL": "https://plot.ly"
       },
       "data": [
        {
         "mode": "lines",
         "name": "train_loss",
         "type": "scatter",
         "xaxis": "x",
         "y": [
          0.5506027340888977,
          0.05201180279254913,
          0.01925155147910118,
          0.008332780562341213,
          0.004254919942468405,
          0.002824172144755721,
          0.0014392611337825656,
          0.0009312254842370749,
          0.0010820686584338546,
          0.0007040627533569932,
          0.0004750108637381345,
          0.000435068883234635
         ],
         "yaxis": "y"
        },
        {
         "mode": "lines",
         "name": "val_loss",
         "type": "scatter",
         "xaxis": "x",
         "y": [
          0.10502386838197708,
          0.024394700303673744,
          0.009685379453003407,
          0.0058685727417469025,
          0.007826744578778744,
          0.0028867514338344336,
          0.0015165444929152727,
          0.0016047230456024408,
          0.0009851916693150997,
          0.0008393184398300946,
          0.0009216981707140803,
          0.0005589596694335341
         ],
         "yaxis": "y"
        },
        {
         "mode": "lines",
         "name": "train_acc",
         "type": "scatter",
         "xaxis": "x2",
         "y": [
          0.8380768895149231,
          0.9833314418792725,
          0.9943304061889648,
          0.9984124898910522,
          0.9996598362922668,
          0.9997732043266296,
          1,
          1,
          1,
          1,
          1,
          1
         ],
         "yaxis": "y2"
        },
        {
         "mode": "lines",
         "name": "val_acc",
         "type": "scatter",
         "xaxis": "x2",
         "y": [
          0.9656084775924683,
          0.9960317611694336,
          0.9989417791366577,
          0.9992063641548157,
          0.9984126687049866,
          0.9994708895683289,
          0.9997354745864868,
          0.9997354745864868,
          0.9997354745864868,
          0.9997354745864868,
          0.9997354745864868,
          1
         ],
         "yaxis": "y2"
        }
       ],
       "layout": {
        "annotations": [
         {
          "font": {
           "size": 16
          },
          "showarrow": false,
          "text": "Pérdida",
          "x": 0.225,
          "xanchor": "center",
          "xref": "paper",
          "y": 1,
          "yanchor": "bottom",
          "yref": "paper"
         },
         {
          "font": {
           "size": 16
          },
          "showarrow": false,
          "text": "Precisión",
          "x": 0.775,
          "xanchor": "center",
          "xref": "paper",
          "y": 1,
          "yanchor": "bottom",
          "yref": "paper"
         }
        ],
        "height": 600,
        "legend": {
         "title": {
          "text": "Métricas"
         }
        },
        "template": {
         "data": {
          "bar": [
           {
            "error_x": {
             "color": "#2a3f5f"
            },
            "error_y": {
             "color": "#2a3f5f"
            },
            "marker": {
             "line": {
              "color": "white",
              "width": 0.5
             },
             "pattern": {
              "fillmode": "overlay",
              "size": 10,
              "solidity": 0.2
             }
            },
            "type": "bar"
           }
          ],
          "barpolar": [
           {
            "marker": {
             "line": {
              "color": "white",
              "width": 0.5
             },
             "pattern": {
              "fillmode": "overlay",
              "size": 10,
              "solidity": 0.2
             }
            },
            "type": "barpolar"
           }
          ],
          "carpet": [
           {
            "aaxis": {
             "endlinecolor": "#2a3f5f",
             "gridcolor": "#C8D4E3",
             "linecolor": "#C8D4E3",
             "minorgridcolor": "#C8D4E3",
             "startlinecolor": "#2a3f5f"
            },
            "baxis": {
             "endlinecolor": "#2a3f5f",
             "gridcolor": "#C8D4E3",
             "linecolor": "#C8D4E3",
             "minorgridcolor": "#C8D4E3",
             "startlinecolor": "#2a3f5f"
            },
            "type": "carpet"
           }
          ],
          "choropleth": [
           {
            "colorbar": {
             "outlinewidth": 0,
             "ticks": ""
            },
            "type": "choropleth"
           }
          ],
          "contour": [
           {
            "colorbar": {
             "outlinewidth": 0,
             "ticks": ""
            },
            "colorscale": [
             [
              0,
              "#0d0887"
             ],
             [
              0.1111111111111111,
              "#46039f"
             ],
             [
              0.2222222222222222,
              "#7201a8"
             ],
             [
              0.3333333333333333,
              "#9c179e"
             ],
             [
              0.4444444444444444,
              "#bd3786"
             ],
             [
              0.5555555555555556,
              "#d8576b"
             ],
             [
              0.6666666666666666,
              "#ed7953"
             ],
             [
              0.7777777777777778,
              "#fb9f3a"
             ],
             [
              0.8888888888888888,
              "#fdca26"
             ],
             [
              1,
              "#f0f921"
             ]
            ],
            "type": "contour"
           }
          ],
          "contourcarpet": [
           {
            "colorbar": {
             "outlinewidth": 0,
             "ticks": ""
            },
            "type": "contourcarpet"
           }
          ],
          "heatmap": [
           {
            "colorbar": {
             "outlinewidth": 0,
             "ticks": ""
            },
            "colorscale": [
             [
              0,
              "#0d0887"
             ],
             [
              0.1111111111111111,
              "#46039f"
             ],
             [
              0.2222222222222222,
              "#7201a8"
             ],
             [
              0.3333333333333333,
              "#9c179e"
             ],
             [
              0.4444444444444444,
              "#bd3786"
             ],
             [
              0.5555555555555556,
              "#d8576b"
             ],
             [
              0.6666666666666666,
              "#ed7953"
             ],
             [
              0.7777777777777778,
              "#fb9f3a"
             ],
             [
              0.8888888888888888,
              "#fdca26"
             ],
             [
              1,
              "#f0f921"
             ]
            ],
            "type": "heatmap"
           }
          ],
          "histogram": [
           {
            "marker": {
             "pattern": {
              "fillmode": "overlay",
              "size": 10,
              "solidity": 0.2
             }
            },
            "type": "histogram"
           }
          ],
          "histogram2d": [
           {
            "colorbar": {
             "outlinewidth": 0,
             "ticks": ""
            },
            "colorscale": [
             [
              0,
              "#0d0887"
             ],
             [
              0.1111111111111111,
              "#46039f"
             ],
             [
              0.2222222222222222,
              "#7201a8"
             ],
             [
              0.3333333333333333,
              "#9c179e"
             ],
             [
              0.4444444444444444,
              "#bd3786"
             ],
             [
              0.5555555555555556,
              "#d8576b"
             ],
             [
              0.6666666666666666,
              "#ed7953"
             ],
             [
              0.7777777777777778,
              "#fb9f3a"
             ],
             [
              0.8888888888888888,
              "#fdca26"
             ],
             [
              1,
              "#f0f921"
             ]
            ],
            "type": "histogram2d"
           }
          ],
          "histogram2dcontour": [
           {
            "colorbar": {
             "outlinewidth": 0,
             "ticks": ""
            },
            "colorscale": [
             [
              0,
              "#0d0887"
             ],
             [
              0.1111111111111111,
              "#46039f"
             ],
             [
              0.2222222222222222,
              "#7201a8"
             ],
             [
              0.3333333333333333,
              "#9c179e"
             ],
             [
              0.4444444444444444,
              "#bd3786"
             ],
             [
              0.5555555555555556,
              "#d8576b"
             ],
             [
              0.6666666666666666,
              "#ed7953"
             ],
             [
              0.7777777777777778,
              "#fb9f3a"
             ],
             [
              0.8888888888888888,
              "#fdca26"
             ],
             [
              1,
              "#f0f921"
             ]
            ],
            "type": "histogram2dcontour"
           }
          ],
          "mesh3d": [
           {
            "colorbar": {
             "outlinewidth": 0,
             "ticks": ""
            },
            "type": "mesh3d"
           }
          ],
          "parcoords": [
           {
            "line": {
             "colorbar": {
              "outlinewidth": 0,
              "ticks": ""
             }
            },
            "type": "parcoords"
           }
          ],
          "pie": [
           {
            "automargin": true,
            "type": "pie"
           }
          ],
          "scatter": [
           {
            "fillpattern": {
             "fillmode": "overlay",
             "size": 10,
             "solidity": 0.2
            },
            "type": "scatter"
           }
          ],
          "scatter3d": [
           {
            "line": {
             "colorbar": {
              "outlinewidth": 0,
              "ticks": ""
             }
            },
            "marker": {
             "colorbar": {
              "outlinewidth": 0,
              "ticks": ""
             }
            },
            "type": "scatter3d"
           }
          ],
          "scattercarpet": [
           {
            "marker": {
             "colorbar": {
              "outlinewidth": 0,
              "ticks": ""
             }
            },
            "type": "scattercarpet"
           }
          ],
          "scattergeo": [
           {
            "marker": {
             "colorbar": {
              "outlinewidth": 0,
              "ticks": ""
             }
            },
            "type": "scattergeo"
           }
          ],
          "scattergl": [
           {
            "marker": {
             "colorbar": {
              "outlinewidth": 0,
              "ticks": ""
             }
            },
            "type": "scattergl"
           }
          ],
          "scattermap": [
           {
            "marker": {
             "colorbar": {
              "outlinewidth": 0,
              "ticks": ""
             }
            },
            "type": "scattermap"
           }
          ],
          "scattermapbox": [
           {
            "marker": {
             "colorbar": {
              "outlinewidth": 0,
              "ticks": ""
             }
            },
            "type": "scattermapbox"
           }
          ],
          "scatterpolar": [
           {
            "marker": {
             "colorbar": {
              "outlinewidth": 0,
              "ticks": ""
             }
            },
            "type": "scatterpolar"
           }
          ],
          "scatterpolargl": [
           {
            "marker": {
             "colorbar": {
              "outlinewidth": 0,
              "ticks": ""
             }
            },
            "type": "scatterpolargl"
           }
          ],
          "scatterternary": [
           {
            "marker": {
             "colorbar": {
              "outlinewidth": 0,
              "ticks": ""
             }
            },
            "type": "scatterternary"
           }
          ],
          "surface": [
           {
            "colorbar": {
             "outlinewidth": 0,
             "ticks": ""
            },
            "colorscale": [
             [
              0,
              "#0d0887"
             ],
             [
              0.1111111111111111,
              "#46039f"
             ],
             [
              0.2222222222222222,
              "#7201a8"
             ],
             [
              0.3333333333333333,
              "#9c179e"
             ],
             [
              0.4444444444444444,
              "#bd3786"
             ],
             [
              0.5555555555555556,
              "#d8576b"
             ],
             [
              0.6666666666666666,
              "#ed7953"
             ],
             [
              0.7777777777777778,
              "#fb9f3a"
             ],
             [
              0.8888888888888888,
              "#fdca26"
             ],
             [
              1,
              "#f0f921"
             ]
            ],
            "type": "surface"
           }
          ],
          "table": [
           {
            "cells": {
             "fill": {
              "color": "#EBF0F8"
             },
             "line": {
              "color": "white"
             }
            },
            "header": {
             "fill": {
              "color": "#C8D4E3"
             },
             "line": {
              "color": "white"
             }
            },
            "type": "table"
           }
          ]
         },
         "layout": {
          "annotationdefaults": {
           "arrowcolor": "#2a3f5f",
           "arrowhead": 0,
           "arrowwidth": 1
          },
          "autotypenumbers": "strict",
          "coloraxis": {
           "colorbar": {
            "outlinewidth": 0,
            "ticks": ""
           }
          },
          "colorscale": {
           "diverging": [
            [
             0,
             "#8e0152"
            ],
            [
             0.1,
             "#c51b7d"
            ],
            [
             0.2,
             "#de77ae"
            ],
            [
             0.3,
             "#f1b6da"
            ],
            [
             0.4,
             "#fde0ef"
            ],
            [
             0.5,
             "#f7f7f7"
            ],
            [
             0.6,
             "#e6f5d0"
            ],
            [
             0.7,
             "#b8e186"
            ],
            [
             0.8,
             "#7fbc41"
            ],
            [
             0.9,
             "#4d9221"
            ],
            [
             1,
             "#276419"
            ]
           ],
           "sequential": [
            [
             0,
             "#0d0887"
            ],
            [
             0.1111111111111111,
             "#46039f"
            ],
            [
             0.2222222222222222,
             "#7201a8"
            ],
            [
             0.3333333333333333,
             "#9c179e"
            ],
            [
             0.4444444444444444,
             "#bd3786"
            ],
            [
             0.5555555555555556,
             "#d8576b"
            ],
            [
             0.6666666666666666,
             "#ed7953"
            ],
            [
             0.7777777777777778,
             "#fb9f3a"
            ],
            [
             0.8888888888888888,
             "#fdca26"
            ],
            [
             1,
             "#f0f921"
            ]
           ],
           "sequentialminus": [
            [
             0,
             "#0d0887"
            ],
            [
             0.1111111111111111,
             "#46039f"
            ],
            [
             0.2222222222222222,
             "#7201a8"
            ],
            [
             0.3333333333333333,
             "#9c179e"
            ],
            [
             0.4444444444444444,
             "#bd3786"
            ],
            [
             0.5555555555555556,
             "#d8576b"
            ],
            [
             0.6666666666666666,
             "#ed7953"
            ],
            [
             0.7777777777777778,
             "#fb9f3a"
            ],
            [
             0.8888888888888888,
             "#fdca26"
            ],
            [
             1,
             "#f0f921"
            ]
           ]
          },
          "colorway": [
           "#636efa",
           "#EF553B",
           "#00cc96",
           "#ab63fa",
           "#FFA15A",
           "#19d3f3",
           "#FF6692",
           "#B6E880",
           "#FF97FF",
           "#FECB52"
          ],
          "font": {
           "color": "#2a3f5f"
          },
          "geo": {
           "bgcolor": "white",
           "lakecolor": "white",
           "landcolor": "white",
           "showlakes": true,
           "showland": true,
           "subunitcolor": "#C8D4E3"
          },
          "hoverlabel": {
           "align": "left"
          },
          "hovermode": "closest",
          "mapbox": {
           "style": "light"
          },
          "paper_bgcolor": "white",
          "plot_bgcolor": "white",
          "polar": {
           "angularaxis": {
            "gridcolor": "#EBF0F8",
            "linecolor": "#EBF0F8",
            "ticks": ""
           },
           "bgcolor": "white",
           "radialaxis": {
            "gridcolor": "#EBF0F8",
            "linecolor": "#EBF0F8",
            "ticks": ""
           }
          },
          "scene": {
           "xaxis": {
            "backgroundcolor": "white",
            "gridcolor": "#DFE8F3",
            "gridwidth": 2,
            "linecolor": "#EBF0F8",
            "showbackground": true,
            "ticks": "",
            "zerolinecolor": "#EBF0F8"
           },
           "yaxis": {
            "backgroundcolor": "white",
            "gridcolor": "#DFE8F3",
            "gridwidth": 2,
            "linecolor": "#EBF0F8",
            "showbackground": true,
            "ticks": "",
            "zerolinecolor": "#EBF0F8"
           },
           "zaxis": {
            "backgroundcolor": "white",
            "gridcolor": "#DFE8F3",
            "gridwidth": 2,
            "linecolor": "#EBF0F8",
            "showbackground": true,
            "ticks": "",
            "zerolinecolor": "#EBF0F8"
           }
          },
          "shapedefaults": {
           "line": {
            "color": "#2a3f5f"
           }
          },
          "ternary": {
           "aaxis": {
            "gridcolor": "#DFE8F3",
            "linecolor": "#A2B1C6",
            "ticks": ""
           },
           "baxis": {
            "gridcolor": "#DFE8F3",
            "linecolor": "#A2B1C6",
            "ticks": ""
           },
           "bgcolor": "white",
           "caxis": {
            "gridcolor": "#DFE8F3",
            "linecolor": "#A2B1C6",
            "ticks": ""
           }
          },
          "title": {
           "x": 0.05
          },
          "xaxis": {
           "automargin": true,
           "gridcolor": "#EBF0F8",
           "linecolor": "#EBF0F8",
           "ticks": "",
           "title": {
            "standoff": 15
           },
           "zerolinecolor": "#EBF0F8",
           "zerolinewidth": 2
          },
          "yaxis": {
           "automargin": true,
           "gridcolor": "#EBF0F8",
           "linecolor": "#EBF0F8",
           "ticks": "",
           "title": {
            "standoff": 15
           },
           "zerolinecolor": "#EBF0F8",
           "zerolinewidth": 2
          }
         }
        },
        "title": {
         "text": "Datos Originales - Métricas de Entrenamiento"
        },
        "width": 1200,
        "xaxis": {
         "anchor": "y",
         "domain": [
          0,
          0.45
         ],
         "title": {
          "text": "Época"
         }
        },
        "xaxis2": {
         "anchor": "y2",
         "domain": [
          0.55,
          1
         ]
        },
        "yaxis": {
         "anchor": "x",
         "domain": [
          0,
          1
         ],
         "title": {
          "text": "Valor"
         }
        },
        "yaxis2": {
         "anchor": "x2",
         "domain": [
          0,
          1
         ]
        }
       }
      }
     },
     "metadata": {},
     "output_type": "display_data"
    }
   ],
   "source": [
    "from tensorflow.keras.models import Sequential\n",
    "from tensorflow.keras.layers import Conv2D, MaxPooling2D, Flatten, Dense, Input, LeakyReLU\n",
    "from tensorflow.keras import optimizers, callbacks\n",
    "from plotly.subplots import make_subplots\n",
    "import plotly.graph_objects as go\n",
    "\n",
    "def entrenar_modelo_cnn(x_train, y_train, x_test, y_test, titulo=\"Entrenamiento\"):\n",
    "    \"\"\"\n",
    "    Entrena un modelo CNN con los datos proporcionados\n",
    "    \n",
    "    Args:\n",
    "        x_train, y_train: datos de entrenamiento\n",
    "        x_test, y_test: datos de prueba\n",
    "        titulo: título para los gráficos\n",
    "    \n",
    "    Returns:\n",
    "        model, history: modelo entrenado e historial\n",
    "    \"\"\"\n",
    "    \n",
    "    # División train/validation\n",
    "    x_train_split, x_val, y_train_split, y_val = train_test_split(\n",
    "        x_train, y_train, test_size=0.30, shuffle=True\n",
    "    )\n",
    "    \n",
    "    # Parámetros del modelo\n",
    "    EPOCAS = 100\n",
    "    LOTES = 128\n",
    "    PACIENCIA = 5\n",
    "    IMG_SIZE = x_train.shape[1:]\n",
    "    N_CLASSES = len(np.unique(y_train))\n",
    "    ACTIVA = LeakyReLU()\n",
    "    \n",
    "    print(f\"Entrenando modelo con {len(x_train)} imágenes\")\n",
    "    print(f\"Forma de imagen: {IMG_SIZE}, Clases: {N_CLASSES}\")\n",
    "    \n",
    "    # Construir el modelo\n",
    "    model = Sequential()\n",
    "    model.add(Input(shape=IMG_SIZE))\n",
    "    model.add(Conv2D(16, kernel_size=(3,3), strides=(1,1), padding='same', activation=ACTIVA))\n",
    "    model.add(MaxPooling2D(pool_size=(2,2)))\n",
    "    model.add(Conv2D(32, kernel_size=(3,3), strides=(1,1), padding='same', activation=ACTIVA))\n",
    "    model.add(MaxPooling2D(pool_size=(2,2)))\n",
    "    model.add(Flatten())\n",
    "    model.add(Dense(32, activation=ACTIVA))\n",
    "    model.add(Dense(N_CLASSES, activation='softmax'))\n",
    "    \n",
    "    # Compilar modelo\n",
    "    optimizer = optimizers.Adam(0.001)\n",
    "    model.compile(optimizer=optimizer, loss='sparse_categorical_crossentropy', metrics=['accuracy'])\n",
    "    \n",
    "    # Parada temprana\n",
    "    early_stop = callbacks.EarlyStopping(monitor='val_loss', patience=PACIENCIA, min_delta=0.001, restore_best_weights=True)\n",
    "    \n",
    "    # Entrenar modelo\n",
    "    H = model.fit(\n",
    "        x_train_split, y_train_split,\n",
    "        batch_size=LOTES,\n",
    "        epochs=EPOCAS,\n",
    "        validation_data=(x_val, y_val),\n",
    "        callbacks=[early_stop],\n",
    "        verbose=0\n",
    "    )\n",
    "    \n",
    "    # Evaluar modelo\n",
    "    pred_train = model.evaluate(x_train_split, y_train_split, verbose=0)\n",
    "    pred_val = model.evaluate(x_val, y_val, verbose=0)\n",
    "    pred_test = model.evaluate(x_test, y_test, verbose=0)\n",
    "    \n",
    "    print(f\"\\nResultados del {titulo}:\")\n",
    "    print(f\"Efectividad entrenamiento: {pred_train[1]*100:.2f}%%\")\n",
    "    print(f\"Efectividad validación...: {pred_val[1]*100:.2f}%%\")\n",
    "    print(f\"Efectividad prueba.......: {pred_test[1]*100:.2f}%%\")\n",
    "    \n",
    "    # Gráficos de entrenamiento\n",
    "    fig = make_subplots(rows=1, cols=2, subplot_titles=(\"Pérdida\", \"Precisión\"))\n",
    "    \n",
    "    fig.add_trace(go.Scatter(y=H.history[\"loss\"], mode='lines', name='train_loss'), row=1, col=1)\n",
    "    fig.add_trace(go.Scatter(y=H.history[\"val_loss\"], mode='lines', name='val_loss'), row=1, col=1)\n",
    "    \n",
    "    fig.add_trace(go.Scatter(y=H.history[\"accuracy\"], mode='lines', name='train_acc'), row=1, col=2)\n",
    "    fig.add_trace(go.Scatter(y=H.history[\"val_accuracy\"], mode='lines', name='val_acc'), row=1, col=2)\n",
    "    \n",
    "    fig.update_layout(\n",
    "        title=f\"{titulo} - Métricas de Entrenamiento\",\n",
    "        xaxis_title=\"Época\",\n",
    "        yaxis_title=\"Valor\",\n",
    "        legend_title=\"Métricas\",\n",
    "        width=1200,\n",
    "        height=600,\n",
    "        template=\"plotly_white\"\n",
    "    )\n",
    "    \n",
    "    fig.show()\n",
    "    \n",
    "    return model, H\n",
    "\n",
    "# Uso de las funciones:\n",
    "\n",
    "# 1. Entrenar con datos originales\n",
    "print(\"=== ENTRENAMIENTO CON DATOS ORIGINALES ===\")\n",
    "model_original, history_original = entrenar_modelo_cnn(\n",
    "    x_train, y_train, x_test, y_test, \n",
    "    titulo=\"Datos Originales\"\n",
    ")"
   ]
  },
  {
   "cell_type": "markdown",
   "id": "e5332529",
   "metadata": {},
   "source": [
    "#### Evaluación del modelo"
   ]
  },
  {
   "cell_type": "markdown",
   "id": "8ae8c603",
   "metadata": {},
   "source": [
    "### b)\n",
    "\n",
    "Genere una versión del **dataset** para **test** agregando transformaciones al azar sobre imágenes originales. Haga **rotaciones** entre -45° y 45°, repita el test y mida el accuracy."
   ]
  },
  {
   "cell_type": "code",
   "execution_count": 18,
   "id": "e4f38371",
   "metadata": {},
   "outputs": [
    {
     "name": "stdout",
     "output_type": "stream",
     "text": [
      "Efectividad del modelo con datos de Prueba rotado -45 grados:  40.92%\n",
      "Efectividad del modelo con datos de Prueba rotado -40 grados:  43.17%\n",
      "Efectividad del modelo con datos de Prueba rotado -35 grados:  45.86%\n",
      "Efectividad del modelo con datos de Prueba rotado -30 grados:  49.42%\n",
      "Efectividad del modelo con datos de Prueba rotado -25 grados:  60.14%\n",
      "Efectividad del modelo con datos de Prueba rotado -20 grados:  68.17%\n",
      "Efectividad del modelo con datos de Prueba rotado -15 grados:  79.44%\n",
      "Efectividad del modelo con datos de Prueba rotado -10 grados:  91.83%\n",
      "Efectividad del modelo con datos de Prueba rotado  -5 grados:  98.94%\n",
      "Efectividad del modelo con datos de Prueba rotado   0 grados:  99.86%\n",
      "Efectividad del modelo con datos de Prueba rotado   5 grados:  98.89%\n",
      "Efectividad del modelo con datos de Prueba rotado  10 grados:  91.47%\n",
      "Efectividad del modelo con datos de Prueba rotado  15 grados:  78.56%\n",
      "Efectividad del modelo con datos de Prueba rotado  20 grados:  68.03%\n",
      "Efectividad del modelo con datos de Prueba rotado  25 grados:  59.19%\n",
      "Efectividad del modelo con datos de Prueba rotado  30 grados:  49.67%\n",
      "Efectividad del modelo con datos de Prueba rotado  35 grados:  45.58%\n",
      "Efectividad del modelo con datos de Prueba rotado  40 grados:  42.67%\n",
      "Efectividad del modelo con datos de Prueba rotado  45 grados:  41.19%\n"
     ]
    },
    {
     "data": {
      "image/png": "[encoded data removed]",
      "text/plain": [
       "<Figure size 1000x600 with 1 Axes>"
      ]
     },
     "metadata": {},
     "output_type": "display_data"
    }
   ],
   "source": [
    "from scipy.ndimage import rotate\n",
    "import matplotlib.pyplot as plt\n",
    "\n",
    "def rotar_grados(data_imgs, ang):\n",
    "    result = np.empty_like(data_imgs)\n",
    "    for i, img in enumerate(data_imgs):\n",
    "        result[i] = rotate(img, ang, reshape=False, mode='reflect')\n",
    "    return result\n",
    "\n",
    "# Lista para almacenar los resultados de la efectividad\n",
    "efectividades = []\n",
    "grados_rotacion = []\n",
    "\n",
    "for i in range(19):\n",
    "    grados = -45 + i * 5\n",
    "    x_test_rot = rotar_grados(x_test, grados)\n",
    "\n",
    "    # Evalúa el modelo con los datos de prueba rotados\n",
    "    pred = model_original.evaluate(x_test_rot, y_test, verbose=0)\n",
    "    efectividad = pred[1] * 100\n",
    "    print(\"Efectividad del modelo con datos de Prueba rotado %3d grados: %6.2f%%\" % (grados, efectividad))\n",
    "\n",
    "    # Almacena los resultados\n",
    "    efectividades.append(efectividad)\n",
    "    grados_rotacion.append(grados)\n",
    "\n",
    "plt.figure(figsize=(10, 6))\n",
    "plt.plot(grados_rotacion, efectividades, marker='o', linestyle='-', color='b')\n",
    "plt.title('Evolución de la Efectividad del Modelo con Rotación de Imágenes')\n",
    "plt.xlabel('Grados de Rotación')\n",
    "plt.ylabel('Efectividad (%)')\n",
    "plt.grid(True)\n",
    "plt.show()"
   ]
  },
  {
   "cell_type": "markdown",
   "id": "044a2a6b",
   "metadata": {},
   "source": [
    "### c)\n",
    "\n",
    "Genere una versión del **dataset train** como en b) y repita el entrenamiento y prueba del punto a) con los datasets modificados."
   ]
  },
  {
   "cell_type": "code",
   "execution_count": 19,
   "id": "815c92cd",
   "metadata": {},
   "outputs": [
    {
     "name": "stdout",
     "output_type": "stream",
     "text": [
      "\n",
      "=== GENERANDO DATOS ROTADOS ===\n",
      "Generando 5 rotaciones por imagen...\n",
      "Procesando imagen 12501/12599\n",
      "Datos aumentados: 75594 imágenes (original: 12599)\n",
      "\n",
      "=== ENTRENAMIENTO CON DATOS ROTADOS ===\n",
      "Entrenando modelo con 75594 imágenes\n",
      "Forma de imagen: (64, 64, 1), Clases: 6\n"
     ]
    },
    {
     "name": "stderr",
     "output_type": "stream",
     "text": [
      "E0000 00:00:1760988193.021658  152769 meta_optimizer.cc:967] remapper failed: INVALID_ARGUMENT: Mutation::Apply error: fanout 'StatefulPartitionedCall/gradient_tape/sequential_4_1/conv2d_9_1/leaky_re_lu_4_1/LeakyRelu/LeakyReluGrad' exist for missing node 'StatefulPartitionedCall/sequential_4_1/conv2d_9_1/BiasAdd'.\n"
     ]
    },
    {
     "name": "stdout",
     "output_type": "stream",
     "text": [
      "\n",
      "Resultados del Datos con Rotaciones:\n",
      "Efectividad entrenamiento: 100.00%%\n",
      "Efectividad validación...: 100.00%%\n",
      "Efectividad prueba.......: 100.00%%\n"
     ]
    },
    {
     "data": {
      "application/vnd.plotly.v1+json": {
       "config": {
        "plotlyServerURL": "https://plot.ly"
       },
       "data": [
        {
         "mode": "lines",
         "name": "train_loss",
         "type": "scatter",
         "xaxis": "x",
         "y": [
          0.19136053323745728,
          0.010144710540771484,
          0.0020456500351428986,
          0.0008089477196335793,
          0.0028792626690119505,
          0.0032462263479828835,
          0.0004958593635819852,
          0.00010193690832238644
         ],
         "yaxis": "y"
        },
        {
         "mode": "lines",
         "name": "val_loss",
         "type": "scatter",
         "xaxis": "x",
         "y": [
          0.012617855332791805,
          0.0032835148740559816,
          0.0011638307478278875,
          0.000636030628811568,
          0.0018507890636101365,
          0.00281723216176033,
          0.000264351925579831,
          0.0002233160921605304
         ],
         "yaxis": "y"
        },
        {
         "mode": "lines",
         "name": "train_acc",
         "type": "scatter",
         "xaxis": "x2",
         "y": [
          0.9396012425422668,
          0.9975998997688293,
          0.999735414981842,
          0.9999433159828186,
          0.9991684556007385,
          0.9989795088768005,
          0.9999244213104248,
          1
         ],
         "yaxis": "y2"
        },
        {
         "mode": "lines",
         "name": "val_acc",
         "type": "scatter",
         "xaxis": "x2",
         "y": [
          0.9976630210876465,
          0.9994267821311951,
          0.9999558925628662,
          0.9999558925628662,
          0.9993826746940613,
          0.9991621971130371,
          0.9999117851257324,
          0.9999558925628662
         ],
         "yaxis": "y2"
        }
       ],
       "layout": {
        "annotations": [
         {
          "font": {
           "size": 16
          },
          "showarrow": false,
          "text": "Pérdida",
          "x": 0.225,
          "xanchor": "center",
          "xref": "paper",
          "y": 1,
          "yanchor": "bottom",
          "yref": "paper"
         },
         {
          "font": {
           "size": 16
          },
          "showarrow": false,
          "text": "Precisión",
          "x": 0.775,
          "xanchor": "center",
          "xref": "paper",
          "y": 1,
          "yanchor": "bottom",
          "yref": "paper"
         }
        ],
        "height": 600,
        "legend": {
         "title": {
          "text": "Métricas"
         }
        },
        "template": {
         "data": {
          "bar": [
           {
            "error_x": {
             "color": "#2a3f5f"
            },
            "error_y": {
             "color": "#2a3f5f"
            },
            "marker": {
             "line": {
              "color": "white",
              "width": 0.5
             },
             "pattern": {
              "fillmode": "overlay",
              "size": 10,
              "solidity": 0.2
             }
            },
            "type": "bar"
           }
          ],
          "barpolar": [
           {
            "marker": {
             "line": {
              "color": "white",
              "width": 0.5
             },
             "pattern": {
              "fillmode": "overlay",
              "size": 10,
              "solidity": 0.2
             }
            },
            "type": "barpolar"
           }
          ],
          "carpet": [
           {
            "aaxis": {
             "endlinecolor": "#2a3f5f",
             "gridcolor": "#C8D4E3",
             "linecolor": "#C8D4E3",
             "minorgridcolor": "#C8D4E3",
             "startlinecolor": "#2a3f5f"
            },
            "baxis": {
             "endlinecolor": "#2a3f5f",
             "gridcolor": "#C8D4E3",
             "linecolor": "#C8D4E3",
             "minorgridcolor": "#C8D4E3",
             "startlinecolor": "#2a3f5f"
            },
            "type": "carpet"
           }
          ],
          "choropleth": [
           {
            "colorbar": {
             "outlinewidth": 0,
             "ticks": ""
            },
            "type": "choropleth"
           }
          ],
          "contour": [
           {
            "colorbar": {
             "outlinewidth": 0,
             "ticks": ""
            },
            "colorscale": [
             [
              0,
              "#0d0887"
             ],
             [
              0.1111111111111111,
              "#46039f"
             ],
             [
              0.2222222222222222,
              "#7201a8"
             ],
             [
              0.3333333333333333,
              "#9c179e"
             ],
             [
              0.4444444444444444,
              "#bd3786"
             ],
             [
              0.5555555555555556,
              "#d8576b"
             ],
             [
              0.6666666666666666,
              "#ed7953"
             ],
             [
              0.7777777777777778,
              "#fb9f3a"
             ],
             [
              0.8888888888888888,
              "#fdca26"
             ],
             [
              1,
              "#f0f921"
             ]
            ],
            "type": "contour"
           }
          ],
          "contourcarpet": [
           {
            "colorbar": {
             "outlinewidth": 0,
             "ticks": ""
            },
            "type": "contourcarpet"
           }
          ],
          "heatmap": [
           {
            "colorbar": {
             "outlinewidth": 0,
             "ticks": ""
            },
            "colorscale": [
             [
              0,
              "#0d0887"
             ],
             [
              0.1111111111111111,
              "#46039f"
             ],
             [
              0.2222222222222222,
              "#7201a8"
             ],
             [
              0.3333333333333333,
              "#9c179e"
             ],
             [
              0.4444444444444444,
              "#bd3786"
             ],
             [
              0.5555555555555556,
              "#d8576b"
             ],
             [
              0.6666666666666666,
              "#ed7953"
             ],
             [
              0.7777777777777778,
              "#fb9f3a"
             ],
             [
              0.8888888888888888,
              "#fdca26"
             ],
             [
              1,
              "#f0f921"
             ]
            ],
            "type": "heatmap"
           }
          ],
          "histogram": [
           {
            "marker": {
             "pattern": {
              "fillmode": "overlay",
              "size": 10,
              "solidity": 0.2
             }
            },
            "type": "histogram"
           }
          ],
          "histogram2d": [
           {
            "colorbar": {
             "outlinewidth": 0,
             "ticks": ""
            },
            "colorscale": [
             [
              0,
              "#0d0887"
             ],
             [
              0.1111111111111111,
              "#46039f"
             ],
             [
              0.2222222222222222,
              "#7201a8"
             ],
             [
              0.3333333333333333,
              "#9c179e"
             ],
             [
              0.4444444444444444,
              "#bd3786"
             ],
             [
              0.5555555555555556,
              "#d8576b"
             ],
             [
              0.6666666666666666,
              "#ed7953"
             ],
             [
              0.7777777777777778,
              "#fb9f3a"
             ],
             [
              0.8888888888888888,
              "#fdca26"
             ],
             [
              1,
              "#f0f921"
             ]
            ],
            "type": "histogram2d"
           }
          ],
          "histogram2dcontour": [
           {
            "colorbar": {
             "outlinewidth": 0,
             "ticks": ""
            },
            "colorscale": [
             [
              0,
              "#0d0887"
             ],
             [
              0.1111111111111111,
              "#46039f"
             ],
             [
              0.2222222222222222,
              "#7201a8"
             ],
             [
              0.3333333333333333,
              "#9c179e"
             ],
             [
              0.4444444444444444,
              "#bd3786"
             ],
             [
              0.5555555555555556,
              "#d8576b"
             ],
             [
              0.6666666666666666,
              "#ed7953"
             ],
             [
              0.7777777777777778,
              "#fb9f3a"
             ],
             [
              0.8888888888888888,
              "#fdca26"
             ],
             [
              1,
              "#f0f921"
             ]
            ],
            "type": "histogram2dcontour"
           }
          ],
          "mesh3d": [
           {
            "colorbar": {
             "outlinewidth": 0,
             "ticks": ""
            },
            "type": "mesh3d"
           }
          ],
          "parcoords": [
           {
            "line": {
             "colorbar": {
              "outlinewidth": 0,
              "ticks": ""
             }
            },
            "type": "parcoords"
           }
          ],
          "pie": [
           {
            "automargin": true,
            "type": "pie"
           }
          ],
          "scatter": [
           {
            "fillpattern": {
             "fillmode": "overlay",
             "size": 10,
             "solidity": 0.2
            },
            "type": "scatter"
           }
          ],
          "scatter3d": [
           {
            "line": {
             "colorbar": {
              "outlinewidth": 0,
              "ticks": ""
             }
            },
            "marker": {
             "colorbar": {
              "outlinewidth": 0,
              "ticks": ""
             }
            },
            "type": "scatter3d"
           }
          ],
          "scattercarpet": [
           {
            "marker": {
             "colorbar": {
              "outlinewidth": 0,
              "ticks": ""
             }
            },
            "type": "scattercarpet"
           }
          ],
          "scattergeo": [
           {
            "marker": {
             "colorbar": {
              "outlinewidth": 0,
              "ticks": ""
             }
            },
            "type": "scattergeo"
           }
          ],
          "scattergl": [
           {
            "marker": {
             "colorbar": {
              "outlinewidth": 0,
              "ticks": ""
             }
            },
            "type": "scattergl"
           }
          ],
          "scattermap": [
           {
            "marker": {
             "colorbar": {
              "outlinewidth": 0,
              "ticks": ""
             }
            },
            "type": "scattermap"
           }
          ],
          "scattermapbox": [
           {
            "marker": {
             "colorbar": {
              "outlinewidth": 0,
              "ticks": ""
             }
            },
            "type": "scattermapbox"
           }
          ],
          "scatterpolar": [
           {
            "marker": {
             "colorbar": {
              "outlinewidth": 0,
              "ticks": ""
             }
            },
            "type": "scatterpolar"
           }
          ],
          "scatterpolargl": [
           {
            "marker": {
             "colorbar": {
              "outlinewidth": 0,
              "ticks": ""
             }
            },
            "type": "scatterpolargl"
           }
          ],
          "scatterternary": [
           {
            "marker": {
             "colorbar": {
              "outlinewidth": 0,
              "ticks": ""
             }
            },
            "type": "scatterternary"
           }
          ],
          "surface": [
           {
            "colorbar": {
             "outlinewidth": 0,
             "ticks": ""
            },
            "colorscale": [
             [
              0,
              "#0d0887"
             ],
             [
              0.1111111111111111,
              "#46039f"
             ],
             [
              0.2222222222222222,
              "#7201a8"
             ],
             [
              0.3333333333333333,
              "#9c179e"
             ],
             [
              0.4444444444444444,
              "#bd3786"
             ],
             [
              0.5555555555555556,
              "#d8576b"
             ],
             [
              0.6666666666666666,
              "#ed7953"
             ],
             [
              0.7777777777777778,
              "#fb9f3a"
             ],
             [
              0.8888888888888888,
              "#fdca26"
             ],
             [
              1,
              "#f0f921"
             ]
            ],
            "type": "surface"
           }
          ],
          "table": [
           {
            "cells": {
             "fill": {
              "color": "#EBF0F8"
             },
             "line": {
              "color": "white"
             }
            },
            "header": {
             "fill": {
              "color": "#C8D4E3"
             },
             "line": {
              "color": "white"
             }
            },
            "type": "table"
           }
          ]
         },
         "layout": {
          "annotationdefaults": {
           "arrowcolor": "#2a3f5f",
           "arrowhead": 0,
           "arrowwidth": 1
          },
          "autotypenumbers": "strict",
          "coloraxis": {
           "colorbar": {
            "outlinewidth": 0,
            "ticks": ""
           }
          },
          "colorscale": {
           "diverging": [
            [
             0,
             "#8e0152"
            ],
            [
             0.1,
             "#c51b7d"
            ],
            [
             0.2,
             "#de77ae"
            ],
            [
             0.3,
             "#f1b6da"
            ],
            [
             0.4,
             "#fde0ef"
            ],
            [
             0.5,
             "#f7f7f7"
            ],
            [
             0.6,
             "#e6f5d0"
            ],
            [
             0.7,
             "#b8e186"
            ],
            [
             0.8,
             "#7fbc41"
            ],
            [
             0.9,
             "#4d9221"
            ],
            [
             1,
             "#276419"
            ]
           ],
           "sequential": [
            [
             0,
             "#0d0887"
            ],
            [
             0.1111111111111111,
             "#46039f"
            ],
            [
             0.2222222222222222,
             "#7201a8"
            ],
            [
             0.3333333333333333,
             "#9c179e"
            ],
            [
             0.4444444444444444,
             "#bd3786"
            ],
            [
             0.5555555555555556,
             "#d8576b"
            ],
            [
             0.6666666666666666,
             "#ed7953"
            ],
            [
             0.7777777777777778,
             "#fb9f3a"
            ],
            [
             0.8888888888888888,
             "#fdca26"
            ],
            [
             1,
             "#f0f921"
            ]
           ],
           "sequentialminus": [
            [
             0,
             "#0d0887"
            ],
            [
             0.1111111111111111,
             "#46039f"
            ],
            [
             0.2222222222222222,
             "#7201a8"
            ],
            [
             0.3333333333333333,
             "#9c179e"
            ],
            [
             0.4444444444444444,
             "#bd3786"
            ],
            [
             0.5555555555555556,
             "#d8576b"
            ],
            [
             0.6666666666666666,
             "#ed7953"
            ],
            [
             0.7777777777777778,
             "#fb9f3a"
            ],
            [
             0.8888888888888888,
             "#fdca26"
            ],
            [
             1,
             "#f0f921"
            ]
           ]
          },
          "colorway": [
           "#636efa",
           "#EF553B",
           "#00cc96",
           "#ab63fa",
           "#FFA15A",
           "#19d3f3",
           "#FF6692",
           "#B6E880",
           "#FF97FF",
           "#FECB52"
          ],
          "font": {
           "color": "#2a3f5f"
          },
          "geo": {
           "bgcolor": "white",
           "lakecolor": "white",
           "landcolor": "white",
           "showlakes": true,
           "showland": true,
           "subunitcolor": "#C8D4E3"
          },
          "hoverlabel": {
           "align": "left"
          },
          "hovermode": "closest",
          "mapbox": {
           "style": "light"
          },
          "paper_bgcolor": "white",
          "plot_bgcolor": "white",
          "polar": {
           "angularaxis": {
            "gridcolor": "#EBF0F8",
            "linecolor": "#EBF0F8",
            "ticks": ""
           },
           "bgcolor": "white",
           "radialaxis": {
            "gridcolor": "#EBF0F8",
            "linecolor": "#EBF0F8",
            "ticks": ""
           }
          },
          "scene": {
           "xaxis": {
            "backgroundcolor": "white",
            "gridcolor": "#DFE8F3",
            "gridwidth": 2,
            "linecolor": "#EBF0F8",
            "showbackground": true,
            "ticks": "",
            "zerolinecolor": "#EBF0F8"
           },
           "yaxis": {
            "backgroundcolor": "white",
            "gridcolor": "#DFE8F3",
            "gridwidth": 2,
            "linecolor": "#EBF0F8",
            "showbackground": true,
            "ticks": "",
            "zerolinecolor": "#EBF0F8"
           },
           "zaxis": {
            "backgroundcolor": "white",
            "gridcolor": "#DFE8F3",
            "gridwidth": 2,
            "linecolor": "#EBF0F8",
            "showbackground": true,
            "ticks": "",
            "zerolinecolor": "#EBF0F8"
           }
          },
          "shapedefaults": {
           "line": {
            "color": "#2a3f5f"
           }
          },
          "ternary": {
           "aaxis": {
            "gridcolor": "#DFE8F3",
            "linecolor": "#A2B1C6",
            "ticks": ""
           },
           "baxis": {
            "gridcolor": "#DFE8F3",
            "linecolor": "#A2B1C6",
            "ticks": ""
           },
           "bgcolor": "white",
           "caxis": {
            "gridcolor": "#DFE8F3",
            "linecolor": "#A2B1C6",
            "ticks": ""
           }
          },
          "title": {
           "x": 0.05
          },
          "xaxis": {
           "automargin": true,
           "gridcolor": "#EBF0F8",
           "linecolor": "#EBF0F8",
           "ticks": "",
           "title": {
            "standoff": 15
           },
           "zerolinecolor": "#EBF0F8",
           "zerolinewidth": 2
          },
          "yaxis": {
           "automargin": true,
           "gridcolor": "#EBF0F8",
           "linecolor": "#EBF0F8",
           "ticks": "",
           "title": {
            "standoff": 15
           },
           "zerolinecolor": "#EBF0F8",
           "zerolinewidth": 2
          }
         }
        },
        "title": {
         "text": "Datos con Rotaciones - Métricas de Entrenamiento"
        },
        "width": 1200,
        "xaxis": {
         "anchor": "y",
         "domain": [
          0,
          0.45
         ],
         "title": {
          "text": "Época"
         }
        },
        "xaxis2": {
         "anchor": "y2",
         "domain": [
          0.55,
          1
         ]
        },
        "yaxis": {
         "anchor": "x",
         "domain": [
          0,
          1
         ],
         "title": {
          "text": "Valor"
         }
        },
        "yaxis2": {
         "anchor": "x2",
         "domain": [
          0,
          1
         ]
        }
       }
      }
     },
     "metadata": {},
     "output_type": "display_data"
    },
    {
     "name": "stdout",
     "output_type": "stream",
     "text": [
      "\n",
      "=== COMPARACIÓN CON ROTACIONES EN TEST ===\n",
      "Rotación -45° - Original: 40.92%, Rotado: 99.31%\n",
      "Rotación -35° - Original: 45.86%, Rotado: 99.97%\n",
      "Rotación -25° - Original: 60.14%, Rotado: 100.00%\n",
      "Rotación -15° - Original: 79.44%, Rotado: 100.00%\n",
      "Rotación  -5° - Original: 98.94%, Rotado: 100.00%\n",
      "Rotación   5° - Original: 98.89%, Rotado: 99.97%\n",
      "Rotación  15° - Original: 78.56%, Rotado: 100.00%\n",
      "Rotación  25° - Original: 59.19%, Rotado: 100.00%\n",
      "Rotación  35° - Original: 45.58%, Rotado: 99.94%\n",
      "Rotación  45° - Original: 41.19%, Rotado: 98.72%\n"
     ]
    },
    {
     "data": {
      "image/png": "[encoded data removed]",
      "text/plain": [
       "<Figure size 1200x600 with 1 Axes>"
      ]
     },
     "metadata": {},
     "output_type": "display_data"
    }
   ],
   "source": [
    "from scipy.ndimage import rotate\n",
    "import numpy as np\n",
    "from tensorflow.keras.models import Sequential\n",
    "from tensorflow.keras.layers import Conv2D, MaxPooling2D, Flatten, Dense, Input, LeakyReLU\n",
    "from tensorflow.keras import optimizers, callbacks\n",
    "from plotly.subplots import make_subplots\n",
    "import plotly.graph_objects as go\n",
    "from sklearn.model_selection import train_test_split\n",
    "\n",
    "def generar_datos_rotados(x_data, y_data, min_grados=-45, max_grados=45, num_rotaciones=5):\n",
    "    \"\"\"\n",
    "    Genera nuevas imágenes rotadas aleatoriamente\n",
    "    \n",
    "    Args:\n",
    "        x_data: imágenes originales\n",
    "        y_data: etiquetas originales\n",
    "        min_grados: mínimo grado de rotación\n",
    "        max_grados: máximo grado de rotación\n",
    "        num_rotaciones: cantidad de rotaciones por imagen\n",
    "    \n",
    "    Returns:\n",
    "        x_augmented, y_augmented: datos aumentados con rotaciones\n",
    "    \"\"\"\n",
    "    x_rotated = []\n",
    "    y_rotated = []\n",
    "    \n",
    "    print(f\"Generando {num_rotaciones} rotaciones por imagen...\")\n",
    "    \n",
    "    for i, (img, label) in enumerate(zip(x_data, y_data)):\n",
    "        # Agregar imagen original\n",
    "        x_rotated.append(img)\n",
    "        y_rotated.append(label)\n",
    "        \n",
    "        # Generar rotaciones aleatorias\n",
    "        for _ in range(num_rotaciones):\n",
    "            angulo = np.random.uniform(min_grados, max_grados)\n",
    "            img_rotada = rotate(img, angulo, reshape=False, mode='reflect')\n",
    "            x_rotated.append(img_rotada)\n",
    "            y_rotated.append(label)\n",
    "        \n",
    "        if i % 100 == 0:\n",
    "            print(f\"\\rProcesando imagen {i+1}/{len(x_data)}\", end=\"\")\n",
    "    \n",
    "    print(f\"\\nDatos aumentados: {len(x_rotated)} imágenes (original: {len(x_data)})\")\n",
    "    \n",
    "    return np.array(x_rotated), np.array(y_rotated)\n",
    "\n",
    "# 2. Generar datos rotados\n",
    "print(\"\\n=== GENERANDO DATOS ROTADOS ===\")\n",
    "x_train_rotado, y_train_rotado = generar_datos_rotados(\n",
    "    x_train, y_train, \n",
    "    min_grados=-45, max_grados=45, \n",
    "    num_rotaciones=5\n",
    ")\n",
    "\n",
    "# 3. Entrenar con datos rotados\n",
    "print(\"\\n=== ENTRENAMIENTO CON DATOS ROTADOS ===\")\n",
    "model_rotado, history_rotado = entrenar_modelo_cnn(\n",
    "    x_train_rotado, y_train_rotado, x_test, y_test,\n",
    "    titulo=\"Datos con Rotaciones\"\n",
    ")\n",
    "\n",
    "# 4. Comparar rendimiento con rotaciones en test\n",
    "print(\"\\n=== COMPARACIÓN CON ROTACIONES EN TEST ===\")\n",
    "efectividades_orig = []\n",
    "efectividades_rot = []\n",
    "grados_test = []\n",
    "\n",
    "for i in range(10):\n",
    "    grados = -45 + i * 10\n",
    "    x_test_rot = np.array([rotate(img, grados, reshape=False, mode='reflect') for img in x_test])\n",
    "    \n",
    "    # Evaluar ambos modelos\n",
    "    pred_orig = model_original.evaluate(x_test_rot, y_test, verbose=0)\n",
    "    pred_rot = model_rotado.evaluate(x_test_rot, y_test, verbose=0)\n",
    "    \n",
    "    efectividades_orig.append(pred_orig[1] * 100)\n",
    "    efectividades_rot.append(pred_rot[1] * 100)\n",
    "    grados_test.append(grados)\n",
    "    \n",
    "    print(f\"Rotación {grados:3d}° - Original: {pred_orig[1]*100:.2f}%, Rotado: {pred_rot[1]*100:.2f}%\")\n",
    "\n",
    "# Gráfico comparativo\n",
    "import matplotlib.pyplot as plt\n",
    "plt.figure(figsize=(12, 6))\n",
    "plt.plot(grados_test, efectividades_orig, 'b-o', label='Modelo Original', linewidth=2)\n",
    "plt.plot(grados_test, efectividades_rot, 'r-s', label='Modelo con Rotaciones', linewidth=2)\n",
    "plt.title('Comparación de Robustez a Rotaciones')\n",
    "plt.xlabel('Grados de Rotación')\n",
    "plt.ylabel('Efectividad (%)')\n",
    "plt.legend()\n",
    "plt.grid(True, alpha=0.3)\n",
    "plt.show()"
   ]
  }
 ],
 "metadata": {
  "kernelspec": {
   "display_name": "env",
   "language": "python",
   "name": "python3"
  },
  "language_info": {
   "codemirror_mode": {
    "name": "ipython",
    "version": 3
   },
   "file_extension": ".py",
   "mimetype": "text/x-python",
   "name": "python",
   "nbconvert_exporter": "python",
   "pygments_lexer": "ipython3",
   "version": "3.13.7"
  }
 },
 "nbformat": 4,
 "nbformat_minor": 5
}
