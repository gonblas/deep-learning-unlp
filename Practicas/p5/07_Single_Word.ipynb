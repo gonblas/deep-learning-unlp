{
 "cells": [
  {
   "cell_type": "markdown",
   "id": "74c19b07",
   "metadata": {},
   "source": [
    "## Ejercicio 7\n",
    "\n",
    "Mozilla Common Voice es un proyecto (https://commonvoice.mozilla.org/es/datasets) que desarrolla una base de datos de voces, abierta y multi idioma, que cualquiera puede usar para entrenar aplicaciones que utilicen la voz como interfaz.\n",
    "\n",
    "En particular cuenta con un pequeño corpus denominado **Single Word** que contiene las palabras habladas SI, NO, Hey, Firefox y dígitos del cero al nueve.\n",
    "\n",
    "\n",
    "<div style=\"text-align: center;\">\n",
    "    <img src='../../images/p5-ej7.png' width=\"60%\">\n",
    "</div>\n",
    "\n",
    "### a)\n",
    "\n",
    "Utilizando los ejemplos de una versión seleccionada de estos audios en el Moodle del curso,\n",
    "transformarlos en imágenes para que puedan ser procesados por la red siguiendo los siguientes\n",
    "criterios:\n",
    "- Eliminar los silencios iniciales y finales. La comparación de los silencios en 2 audios produce una falsa coincidencia.\n",
    "- Elegir un tamaño fijo para los audios. Todas las imágenes deben tener el mismo tamaño. Como las palabras del corpus son breves un tamaño de 0.75 segundos es razonable.\n",
    "- Achicar/agrandar los audios manteniendo el tono de la voz\n",
    "- Pasar el audio del dominio del tiempo al domino de la frecuencia. Dividir el audio en pequeños intervalos y obtener un conjunto de valores que determinen las frecuencias presentes. Para esto puede utilizarse la transformada de Fourier (FFT) o los coeficientes cepstrales en frecuencia mel (MFCC) que aproximan la sensibilidad del oído humano.\n",
    "- Finalmente convertir los coeficientes en una imagen con compresión sin pérdida como PNG."
   ]
  },
  {
   "cell_type": "code",
   "execution_count": null,
   "id": "c72e38b2",
   "metadata": {
    "vscode": {
     "languageId": "plaintext"
    }
   },
   "outputs": [],
   "source": []
  },
  {
   "cell_type": "markdown",
   "id": "6e457cdb",
   "metadata": {},
   "source": [
    "### b)\n",
    "\n",
    "Utilizando las imágenes generadas en a), entrenar un modelo de red neuronal convolucional que permita reconocer las palabras del corpus Single Word"
   ]
  },
  {
   "cell_type": "code",
   "execution_count": null,
   "id": "33123009",
   "metadata": {
    "vscode": {
     "languageId": "plaintext"
    }
   },
   "outputs": [],
   "source": []
  }
 ],
 "metadata": {
  "language_info": {
   "name": "python"
  }
 },
 "nbformat": 4,
 "nbformat_minor": 5
}
