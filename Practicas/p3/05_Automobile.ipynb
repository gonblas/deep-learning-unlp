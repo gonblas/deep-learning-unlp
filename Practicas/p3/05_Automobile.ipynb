{
 "cells": [
  {
   "cell_type": "markdown",
   "id": "e43b8a6c",
   "metadata": {},
   "source": [
    "## Ejercicio 5\n",
    "\n",
    "A partir de los ejemplos del archivo **automobile-simple.csv**, utilizado en la práctica anterior, se entrenará un combinador lineal para predecir el precio del auto (atributo *price*) en función del tamaño del motor (atributo *engine-size*):\n",
    "\n",
    "### a) \n",
    "\n",
    "Antes de comenzar con el entrenamiento, complete los datos faltantes del atributo *price* utilizando el valor promedio.\n",
    "\n"
   ]
  },
  {
   "cell_type": "code",
   "execution_count": null,
   "id": "699c4acb",
   "metadata": {
    "vscode": {
     "languageId": "plaintext"
    }
   },
   "outputs": [],
   "source": []
  },
  {
   "cell_type": "markdown",
   "id": "aa22a693",
   "metadata": {},
   "source": [
    "### b) \n",
    "\n",
    "Luego de completar según lo indicado en a), realice el entrenamiento del combinador lineal:\n",
    "\n",
    "**i.** Sin normalizar los atributos.  \n",
    "**ii.** Normalizando ambos atributos linealmente.  \n",
    "**iii.** Normalizando ambos atributos utilizando media y desvío.  \n",
    "\n",
    "\n",
    "\n",
    "Analice el impacto de la normalización en el entrenamiento. ¿Qué resultados obtuvo sin normalizar los atributos? ¿Alguna de las normalizaciones es mejor? Explique."
   ]
  },
  {
   "cell_type": "code",
   "execution_count": null,
   "id": "2a0655c8",
   "metadata": {
    "vscode": {
     "languageId": "plaintext"
    }
   },
   "outputs": [],
   "source": []
  }
 ],
 "metadata": {
  "language_info": {
   "name": "python"
  }
 },
 "nbformat": 4,
 "nbformat_minor": 5
}
