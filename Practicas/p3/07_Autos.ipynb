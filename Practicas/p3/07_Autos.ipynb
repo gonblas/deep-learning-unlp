{
 "cells": [
  {
   "cell_type": "markdown",
   "id": "ca7199ce",
   "metadata": {},
   "source": [
    "## Ejercicio 7\n",
    "\n",
    "Utilizando los atributos numéricos del archivo Autos.csv entrene un combinador lineal para predecir el\n",
    "precio del auto en función del resto de los atributos. Tenga en cuenta la existencia de valores faltantes.\n",
    "Realice varias ejecuciones y observe los vectores de pesos obtenidos. ¿Puede identificar cuáles son los\n",
    "atributos con mayor incidencia en la determinación del precio? Explique."
   ]
  },
  {
   "cell_type": "code",
   "execution_count": null,
   "id": "b1f164b4",
   "metadata": {},
   "outputs": [],
   "source": []
  }
 ],
 "metadata": {
  "kernelspec": {
   "display_name": "env",
   "language": "python",
   "name": "python3"
  },
  "language_info": {
   "name": "python",
   "version": "3.13.5"
  }
 },
 "nbformat": 4,
 "nbformat_minor": 5
}
