{
 "cells": [
  {
   "cell_type": "markdown",
   "id": "ca7199ce",
   "metadata": {},
   "source": [
    "## Ejercicio 7\n",
    "\n",
    "Utilizando los atributos numéricos del archivo Autos.csv entrene un combinador lineal para predecir el\n",
    "precio del auto en función del resto de los atributos. Tenga en cuenta la existencia de valores faltantes.\n",
    "Realice varias ejecuciones y observe los vectores de pesos obtenidos. ¿Puede identificar cuáles son los\n",
    "atributos con mayor incidencia en la determinación del precio? Explique."
   ]
  },
  {
   "cell_type": "code",
   "execution_count": 2,
   "id": "b1f164b4",
   "metadata": {},
   "outputs": [
    {
     "data": {
      "text/plain": [
       "symboling            0\n",
       "normalized-losses    0\n",
       "make                 0\n",
       "fuel-type            0\n",
       "aspiration           0\n",
       "num-of-doors         0\n",
       "body-style           0\n",
       "drive-wheels         0\n",
       "engine-location      0\n",
       "wheel-base           0\n",
       "length               0\n",
       "width                0\n",
       "height               0\n",
       "curb-weight          0\n",
       "engine-type          0\n",
       "num-of-cylinders     0\n",
       "engine-size          0\n",
       "fuel-system          0\n",
       "bore                 0\n",
       "stroke               0\n",
       "compression-ratio    0\n",
       "horsepower           0\n",
       "peak-rpm             0\n",
       "city-mpg             0\n",
       "highway-mpg          0\n",
       "price                0\n",
       "dtype: int64"
      ]
     },
     "execution_count": 2,
     "metadata": {},
     "output_type": "execute_result"
    }
   ],
   "source": [
    "import pandas as pd\n",
    "import numpy as np\n",
    "\n",
    "DATOS_DIR   = '../../Datos/'\n",
    "data = pd.read_csv(DATOS_DIR + 'automobile.csv')\n",
    "\n",
    "# price_mean = data[\"price\"].mean()\n",
    "# data[\"price\"] = data[\"price\"].replace(np.nan, price_mean).astype(float)\n",
    "\n",
    "data.isnull().sum()"
   ]
  }
 ],
 "metadata": {
  "kernelspec": {
   "display_name": "env",
   "language": "python",
   "name": "python3"
  },
  "language_info": {
   "codemirror_mode": {
    "name": "ipython",
    "version": 3
   },
   "file_extension": ".py",
   "mimetype": "text/x-python",
   "name": "python",
   "nbconvert_exporter": "python",
   "pygments_lexer": "ipython3",
   "version": "3.13.7"
  }
 },
 "nbformat": 4,
 "nbformat_minor": 5
}
