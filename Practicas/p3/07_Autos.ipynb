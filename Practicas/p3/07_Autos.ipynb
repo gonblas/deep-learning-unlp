{
 "cells": [
  {
   "cell_type": "markdown",
   "id": "ca7199ce",
   "metadata": {},
   "source": [
    "## Ejercicio 7\n",
    "\n",
    "Utilizando los atributos numéricos del archivo Autos.csv entrene un combinador lineal para predecir el\n",
    "precio del auto en función del resto de los atributos. Tenga en cuenta la existencia de valores faltantes.\n",
    "Realice varias ejecuciones y observe los vectores de pesos obtenidos. ¿Puede identificar cuáles son los\n",
    "atributos con mayor incidencia en la determinación del precio? Explique."
   ]
  },
  {
   "cell_type": "code",
   "execution_count": 30,
   "id": "b1f164b4",
   "metadata": {},
   "outputs": [],
   "source": [
    "import pandas as pd\n",
    "\n",
    "ALPHA\t= 0.01\n",
    "MAX_ITE = 1000\n",
    "COTA\t= 10e-6\n",
    "\n",
    "DATOS_DIR   = '../../Datos/'\n",
    "data = pd.read_csv(DATOS_DIR + 'autos.csv')"
   ]
  },
  {
   "cell_type": "markdown",
   "id": "8b667bf6",
   "metadata": {},
   "source": [
    "##### Preprocesamiento de los datos"
   ]
  },
  {
   "cell_type": "code",
   "execution_count": 33,
   "id": "0239ce95",
   "metadata": {},
   "outputs": [],
   "source": [
    "import numpy as np\n",
    "data.dtypes\n",
    "data[\"price\"] = pd.to_numeric(data[\"price\"], errors=\"coerce\")\n",
    "numeric_data = data.select_dtypes(include=[np.number])\n",
    "numeric_data.isnull().sum()\n",
    "numeric_data = numeric_data.fillna(numeric_data.mean())\n"
   ]
  },
  {
   "cell_type": "markdown",
   "id": "29fbf385",
   "metadata": {},
   "source": [
    "##### Entrenamiento"
   ]
  },
  {
   "cell_type": "code",
   "execution_count": 42,
   "id": "bbed49c1",
   "metadata": {},
   "outputs": [
    {
     "name": "stdout",
     "output_type": "stream",
     "text": [
      "           Attribute  Mean weight (abs)\n",
      "0        engine-size           0.700918\n",
      "1           city-mpg           0.150580\n",
      "2        curb-weight           0.141827\n",
      "3             height           0.073316\n",
      "4  compression-ratio           0.071139\n",
      "5        highway-mpg           0.065128\n",
      "6              width           0.055743\n",
      "7          symboling           0.051453\n",
      "8             length           0.022567\n",
      "9         wheel-base           0.014068\n"
     ]
    }
   ],
   "source": [
    "import numpy as np\n",
    "import pandas as pd\n",
    "from Fuentes.ClassNeuronaGral import *\n",
    "from sklearn.preprocessing import MinMaxScaler\n",
    "\n",
    "X_raw = numeric_data.drop(\"price\", axis=1)\n",
    "T_raw = numeric_data[\"price\"].values.reshape(-1, 1)\n",
    "\n",
    "X_scaler, T_scaler = MinMaxScaler(), MinMaxScaler()\n",
    "X = X_scaler.fit_transform(X_raw)\n",
    "T = T_scaler.fit_transform(T_raw)\n",
    "\n",
    "attributes = [col for col in numeric_data.columns if col != \"price\"]\n",
    "\n",
    "n_runs = 10\n",
    "\n",
    "weight_abs_list = []\n",
    "\n",
    "for _ in range(n_runs):\n",
    "    ng = NeuronaGradiente(alpha=ALPHA, n_iter=MAX_ITE, cotaE=COTA, FUN=\"linear\")\n",
    "    ng.fit(X, T)\n",
    "    weight_abs_list.append(np.abs(ng.w_))\n",
    "\n",
    "weight_abs_array = np.array(weight_abs_list)\n",
    "weight_mean = weight_abs_array.mean(axis=0)\n",
    "\n",
    "weight_df = pd.DataFrame({\n",
    "    \"Attribute\": attributes,\n",
    "    \"Mean weight (abs)\": weight_mean\n",
    "})\n",
    "\n",
    "weight_df = weight_df.sort_values(by=\"Mean weight (abs)\", ascending=False).reset_index(drop=True)\n",
    "print(weight_df)\n"
   ]
  },
  {
   "cell_type": "markdown",
   "id": "200dc54f",
   "metadata": {},
   "source": [
    "> **Conclusión:** Los atributos más relevantes son:\n",
    "> - engine-size.\n",
    "> - city-mpg.\n",
    "> - curb-weight."
   ]
  }
 ],
 "metadata": {
  "kernelspec": {
   "display_name": "env",
   "language": "python",
   "name": "python3"
  },
  "language_info": {
   "codemirror_mode": {
    "name": "ipython",
    "version": 3
   },
   "file_extension": ".py",
   "mimetype": "text/x-python",
   "name": "python",
   "nbconvert_exporter": "python",
   "pygments_lexer": "ipython3",
   "version": "3.13.5"
  }
 },
 "nbformat": 4,
 "nbformat_minor": 5
}
