{
 "cells": [
  {
   "cell_type": "markdown",
   "id": "6b20dc4f",
   "metadata": {},
   "source": [
    "## Ejercicio 2\n",
    "\n",
    "El precio de una vivienda está dado por dos factores, la proximidad a centros comerciales, financieros, vías y demás que se mide a través del factor $j$, y de la condición misma de la vivienda que se mide por el factor $k$.  \n",
    "\n",
    "La relación entre estos factores y el precio de la vivienda en un barrio determinado está dada por:\n",
    "\n",
    "\n",
    "$$P(j, k) = k^2 - 2jk + 2j^2 + 18j - 20k + 201$$\n",
    "\n",
    "donde el precio está dado en miles de dólares.  \n",
    "\n",
    "\n",
    "Utilice la técnica de descenso de gradiente para determinar los valores de $j$ y $k$ que minimizan el precio de la vivienda.\n"
   ]
  },
  {
   "cell_type": "code",
   "execution_count": 4,
   "id": "ad6f4b89",
   "metadata": {},
   "outputs": [
    {
     "name": "stdout",
     "output_type": "stream",
     "text": [
      "j =  0.9993235930231037  y k =  10.998905550521155  minimizan el valor de la vivienda.\n",
      "Precio mínimo: 100.00000063228592  miles de dólares.\n"
     ]
    }
   ],
   "source": [
    "import random\n",
    "import sympy as sp\n",
    "\n",
    "# Definir variables simbólicas\n",
    "j, k = sp.symbols('j k', real=True)\n",
    "\n",
    "# Definir la función objetivo\n",
    "P = k**2 - 2*j*k + 2*(j**2) + 18*j - 20*k + 201\n",
    "\n",
    "# Calcular gradientes simbólicos\n",
    "dP_dj = sp.diff(P, j)\n",
    "dP_dk = sp.diff(P, k)\n",
    "\n",
    "# Convertir a funciones numéricas\n",
    "P_num = sp.lambdify((j, k), P, 'numpy')\n",
    "dP_dj_num = sp.lambdify((j, k), dP_dj, 'numpy')\n",
    "dP_dk_num = sp.lambdify((j, k), dP_dk, 'numpy')\n",
    "\n",
    "# Inicialización\n",
    "ALPHA = 0.1\n",
    "pj = random.uniform(-10, 10)\n",
    "pk = random.uniform(-10, 10)\n",
    "COTA = 1e-7\n",
    "MAX_ITER = 100000000\n",
    "\n",
    "for i in range(MAX_ITER):\n",
    "    grad_j = dP_dj_num(pj, pk)\n",
    "    grad_k = dP_dk_num(pj, pk)\n",
    "    pj_new = pj - ALPHA * grad_j\n",
    "    pk_new = pk - ALPHA * grad_k\n",
    "    if abs(P_num(pj_new, pk_new) - P_num(pj, pk)) < COTA:\n",
    "        break\n",
    "    pj, pk = pj_new, pk_new\n",
    "\n",
    "print(\"j = \", pj, \" y k = \", pk, \" minimizan el valor de la vivienda.\")\n",
    "print(\"Precio mínimo:\", P_num(pj, pk), \" miles de dólares.\")"
   ]
  }
 ],
 "metadata": {
  "kernelspec": {
   "display_name": "env",
   "language": "python",
   "name": "python3"
  },
  "language_info": {
   "codemirror_mode": {
    "name": "ipython",
    "version": 3
   },
   "file_extension": ".py",
   "mimetype": "text/x-python",
   "name": "python",
   "nbconvert_exporter": "python",
   "pygments_lexer": "ipython3",
   "version": "3.13.5"
  }
 },
 "nbformat": 4,
 "nbformat_minor": 5
}
