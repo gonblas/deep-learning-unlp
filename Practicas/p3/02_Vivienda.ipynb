{
 "cells": [
  {
   "cell_type": "markdown",
   "id": "6b20dc4f",
   "metadata": {},
   "source": [
    "## Ejercicio 2\n",
    "\n",
    "El precio de una vivienda está dado por dos factores, la proximidad a centros comerciales, financieros, vías y demás que se mide a través del factor $j$, y de la condición misma de la vivienda que se mide por el factor $k$.  \n",
    "\n",
    "La relación entre estos factores y el precio de la vivienda en un barrio determinado está dada por:\n",
    "\n",
    "\n",
    "$$P(j, k) = k^2 - 2jk + 2j^2 + 18j - 20k + 201$$\n",
    "\n",
    "donde el precio está dado en miles de dólares.  \n",
    "\n",
    "\n",
    "Utilice la técnica de descenso de gradiente para determinar los valores de $j$ y $k$ que minimizan el precio de la vivienda.\n"
   ]
  },
  {
   "cell_type": "code",
   "execution_count": 24,
   "id": "ad6f4b89",
   "metadata": {},
   "outputs": [
    {
     "name": "stdout",
     "output_type": "stream",
     "text": [
      "j =  0.999335060583045  y k =  10.998924105422908  minimizan el valor de la vivienda.\n"
     ]
    }
   ],
   "source": [
    "import random\n",
    "\n",
    "ALPHA = 0.1\n",
    "j = random.uniform(-10,10)\n",
    "k = random.uniform(-10,10)\n",
    "COTA = 0.0000001\n",
    "MAX_ITER = 100000000\n",
    "\n",
    "def P(j,k):\n",
    "\treturn k**2 - 2*j*k + 2*(j**2) + 18*j - 20*k + 201\n",
    "\n",
    "def grad_p(j,k):\n",
    "\tdf_dj = -2*k + 4*j + 18\n",
    "\tdf_dk = 2*k - 2*j - 20\n",
    "\treturn (df_dj, df_dk)\n",
    "\n",
    "for i in range(MAX_ITER):\n",
    "\tgrad = grad_p(j,k)\n",
    "\tj_new = j - ALPHA * grad[0]\n",
    "\tk_new = k - ALPHA * grad[1]\n",
    "\tif abs(P(j_new, k_new) - P(j, k)) < COTA:\n",
    "\t\tbreak\n",
    "\tj, k = j_new, k_new\n",
    "\n",
    "print(\"j = \", j, \" y k = \", k, \" minimizan el valor de la vivienda.\")"
   ]
  }
 ],
 "metadata": {
  "kernelspec": {
   "display_name": "env",
   "language": "python",
   "name": "python3"
  },
  "language_info": {
   "codemirror_mode": {
    "name": "ipython",
    "version": 3
   },
   "file_extension": ".py",
   "mimetype": "text/x-python",
   "name": "python",
   "nbconvert_exporter": "python",
   "pygments_lexer": "ipython3",
   "version": "3.13.7"
  }
 },
 "nbformat": 4,
 "nbformat_minor": 5
}
