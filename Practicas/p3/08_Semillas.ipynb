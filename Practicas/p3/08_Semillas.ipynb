{
 "cells": [
  {
   "cell_type": "markdown",
   "id": "31d77434",
   "metadata": {},
   "source": [
    "# Regresión Logística Múltiple (varias variables de entrada y salida sigmoide en (0,1) o (-1,1))\n",
    "\n",
    "## Ejercicio 8\n",
    "\n",
    "El archivo **semillas.csv** contiene información de granos que pertenecen a tres variedades diferentes de trigo. Entrene una neurona no lineal para determinar si una semilla es de **TIPO 2** o no. Divida el 60% de los ejemplos para entrenar y el 40% para realizar el testeo. Antes de entrenar, normalice todos los atributos numéricos aplicando media y desvío.\n",
    "\n",
    "Realice los siguientes experimentos con el fin de analizar cómo distintos hiperparámetros afectan la convergencia y el desempeño del modelo:\n",
    "\n",
    "### a) \n",
    "\n",
    "Lleve a cabo **20 experimentos**, utilizando la función **sigmoide**, variando la **tasa de aprendizaje** desde $\\alpha = 0.04$, incrementando en pasos de **0.04** (es decir, $\\alpha = 0.04, ~0.08, \\dots, ~0.80$). En cada experimento, registre:\n",
    "- Curva de **error** (error por iteración).  \n",
    "- Curva de **accuracy** (precisión por iteración).  \n",
    "- Cantidad total de iteraciones realizadas.  \n",
    "- Iteración en la que se alcanzó el **100% de accuracy**.  \n"
   ]
  },
  {
   "cell_type": "code",
   "execution_count": null,
   "id": "b9a3aac9",
   "metadata": {},
   "outputs": [],
   "source": []
  },
  {
   "cell_type": "markdown",
   "id": "59fab777",
   "metadata": {},
   "source": [
    "### b) \n",
    "\n",
    "Replique el punto a) utilizando **tangente hiperbólica**.  \n"
   ]
  },
  {
   "cell_type": "code",
   "execution_count": null,
   "id": "21d4ab40",
   "metadata": {},
   "outputs": [],
   "source": []
  },
  {
   "cell_type": "markdown",
   "id": "78b0fbba",
   "metadata": {},
   "source": [
    "### c) \n",
    "\n",
    "Compare y analice los resultados obtenidos en a) y b).  "
   ]
  },
  {
   "cell_type": "code",
   "execution_count": null,
   "id": "af0a9ea0",
   "metadata": {},
   "outputs": [],
   "source": []
  }
 ],
 "metadata": {
  "kernelspec": {
   "display_name": "env",
   "language": "python",
   "name": "python3"
  },
  "language_info": {
   "name": "python",
   "version": "3.13.5"
  }
 },
 "nbformat": 4,
 "nbformat_minor": 5
}
