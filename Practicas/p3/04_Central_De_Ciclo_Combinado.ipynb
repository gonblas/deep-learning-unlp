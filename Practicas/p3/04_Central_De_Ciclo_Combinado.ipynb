{
 "cells": [
  {
   "cell_type": "markdown",
   "id": "36edcbbe",
   "metadata": {},
   "source": [
    "## Ejercicio 4\n",
    "\n",
    "El archivo **ccpp.csv** contiene 9568 datos de una central de ciclo combinado recolectados entre 2006 y 2011. Usando la totalidad de los ejemplos se entrenaron 5 combinadores lineales con el objetivo de predecir el valor del atributo **PE** correspondiente a la cantidad de energía producida a partir del atributo **AT** (más detalles de este conjunto de datos aquí). Indique cuáles son los dos combinadores lineales con menor error cuadrático promedio a la hora de predecir el valor de **PE** en función de **AT**:\n",
    "\n",
    "a) $W = -2.00 \\;;\\; b = 500$  \n",
    "\n",
    "b) $W = -2.21 \\;;\\; b = 498$  \n",
    "\n",
    "c) $W = -2.30 \\;;\\; b = 497$  \n",
    "\n",
    "d) $W = -2.22 \\;;\\; b = 496.5$  \n",
    "\n",
    "e) $W = -2.16 \\;;\\; b = 496.91$  \n",
    "\n",
    "<div style=\"text-align: center;\">\n",
    "    <img src='../../images/p3-ej4.png' width=\"40%\">\n",
    "</div>\n"
   ]
  },
  {
   "cell_type": "code",
   "execution_count": null,
   "id": "a5822f62",
   "metadata": {},
   "outputs": [],
   "source": [
    "import pandas as pd\n",
    "import numpy as np\n",
    "\n",
    "DATOS_DIR   = '../../Datos/'\n",
    "data = pd.read_csv(DATOS_DIR + 'ccpp.csv')\n",
    "\n",
    "# Falta que suban el archivo ccpp.csv"
   ]
  }
 ],
 "metadata": {
  "kernelspec": {
   "display_name": "env",
   "language": "python",
   "name": "python3"
  },
  "language_info": {
   "name": "python",
   "version": "3.13.5"
  }
 },
 "nbformat": 4,
 "nbformat_minor": 5
}
