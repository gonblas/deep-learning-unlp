{
 "cells": [
  {
   "cell_type": "markdown",
   "id": "36edcbbe",
   "metadata": {},
   "source": [
    "## Ejercicio 4\n",
    "\n",
    "El archivo **ccpp.csv** contiene 9568 datos de una central de ciclo combinado recolectados entre 2006 y 2011. Usando la totalidad de los ejemplos se entrenaron 5 combinadores lineales con el objetivo de predecir el valor del atributo **PE** correspondiente a la cantidad de energía producida a partir del atributo **AT** (más detalles de este conjunto de datos [aquí](https://archive.ics.uci.edu/dataset/294/combined+cycle+power+plant)). Indique cuáles son los dos combinadores lineales con menor error cuadrático promedio a la hora de predecir el valor de **PE** en función de **AT**:\n",
    "\n",
    "a) $W = -2.00 \\;;\\; b = 500$  \n",
    "\n",
    "b) $W = -2.21 \\;;\\; b = 498$  \n",
    "\n",
    "c) $W = -2.30 \\;;\\; b = 497$  \n",
    "\n",
    "d) $W = -2.22 \\;;\\; b = 496.5$  \n",
    "\n",
    "e) $W = -2.16 \\;;\\; b = 496.91$  \n",
    "\n",
    "<div style=\"text-align: center;\">\n",
    "    <img src='../../images/p3-ej4.png' width=\"40%\">\n",
    "</div>\n"
   ]
  },
  {
   "cell_type": "code",
   "execution_count": 4,
   "id": "a5822f62",
   "metadata": {},
   "outputs": [
    {
     "name": "stdout",
     "output_type": "stream",
     "text": [
      "Modelo a: w=-2.0, b=500, MSE=71.1626\n",
      "Modelo b: w=-2.21, b=498, MSE=29.5571\n",
      "Modelo c: w=-2.3, b=497, MSE=36.9194\n",
      "Modelo d: w=-2.22, b=496.5, MSE=31.7856\n",
      "Modelo e: w=-2.16, b=496.91, MSE=29.4485\n"
     ]
    }
   ],
   "source": [
    "import pandas as pd\n",
    "import numpy as np\n",
    "from Fuentes.ClassNeuronaLineal import *\n",
    "\n",
    "DATOS_DIR   = '../../Datos/'\n",
    "data = pd.read_csv(DATOS_DIR + 'CCPP.csv')\n",
    "X = data['AT'].values.reshape(-1, 1)\n",
    "Y = data['PE'].values.reshape(-1, 1)\n",
    "\n",
    "comb_lineales = [\n",
    "\t{\n",
    "\t\t'w': -2.00,\n",
    "\t\t'b': 500\n",
    "\t},\n",
    " \t{\n",
    "\t\t'w': -2.21,\n",
    "\t\t'b': 498\n",
    " \t},\n",
    "\t{\t\n",
    "\t\t'w': -2.30,\n",
    "\t\t'b': 497\n",
    "\t},\n",
    "\t{\n",
    "\t\t'w': -2.22,\n",
    "\t\t'b': 496.5\n",
    "\t},\n",
    "\t{\n",
    "\t\t'w': -2.16,\n",
    "\t\t'b': 496.91\n",
    "\t}\n",
    "]\n",
    "\n",
    "\n",
    "for i, params in enumerate(comb_lineales):\n",
    "    nnp = NeuronaLineal()\n",
    "    nnp.b_ = params['b']\n",
    "    nnp.w_ = params['w']\n",
    "    Y_pred = nnp.predict(X)\n",
    "    mse = np.mean((Y - Y_pred) ** 2)\n",
    "    print(f\"Modelo {chr(ord('a') + i)}: w={nnp.w_}, b={nnp.b_}, MSE={mse:.4f}\")\t\n"
   ]
  },
  {
   "cell_type": "markdown",
   "id": "d5c9501a",
   "metadata": {},
   "source": [
    "> Conclusión: Los dos modelos con menos error cuadrático medio son el e) y b)."
   ]
  }
 ],
 "metadata": {
  "kernelspec": {
   "display_name": "env",
   "language": "python",
   "name": "python3"
  },
  "language_info": {
   "codemirror_mode": {
    "name": "ipython",
    "version": 3
   },
   "file_extension": ".py",
   "mimetype": "text/x-python",
   "name": "python",
   "nbconvert_exporter": "python",
   "pygments_lexer": "ipython3",
   "version": "3.13.7"
  }
 },
 "nbformat": 4,
 "nbformat_minor": 5
}
