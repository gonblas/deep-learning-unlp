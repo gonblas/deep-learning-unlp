{
 "cells": [
  {
   "cell_type": "markdown",
   "id": "2943b485",
   "metadata": {},
   "source": [
    "## Ejercicio 9\n",
    "\n",
    "Se ha realizado un análisis químico a tres tipos distintos de vinos producidos en una misma región de Italia. El número de muestras considerado es el siguiente:\n",
    "\n",
    "$$\n",
    "\t\\text{Tipo 1} \\rightarrow 59~\\text{muestras}, \\quad\\quad \\text{Tipo 2} \\rightarrow 71~\\text{muestras}, \\quad\\quad \\text{Tipo 3} \\rightarrow 48~\\text{muestras}\n",
    "$$\n",
    "\n",
    "\n",
    "El archivo **vinos.csv** permite observar los resultados de este análisis. Cada fila representa una muestra distinta y está formada, en primer lugar, por el número del tipo al cual pertenece el vino analizado, seguido por los 13 atributos que lo caracterizan.  \n",
    "\n",
    "Por ejemplo, la siguiente fila:\n",
    "\n",
    "$$\n",
    "\t2, ~12.29, ~3.17, ~2.21, ~18, ~88, ~2.85, ~2.99, ~0.45, ~2.81, ~2.3, ~1.42, ~2.83, ~406\n",
    "$$\n",
    "\n",
    "\n",
    "es el resultado del análisis de un vino correspondiente al **tipo 2** (primer valor de la fila), seguido por 13 valores separados por comas que indican los niveles de las mediciones realizadas a dicho vino.\n",
    "\n",
    "\n",
    "### a) \n",
    "\n",
    "Entrene una red neuronal formada por una única neurona para clasificar los vinos de **Tipo 1**.\n",
    "\n",
    "Realice **30 ejecuciones independientes** utilizando el **50%, 60%, 70%, 80% y 90%** de los ejemplos como entrenamiento y el resto como testeo. Para cada porcentaje, indique la cantidad promedio de ejemplos correctamente clasificados en entrenamiento y en testeo. Calcule también el promedio y el desvío de la cantidad de iteraciones realizadas.\n",
    "\n",
    "Utilice un máximo de 400 iteraciones y velocidades de aprendizaje 0.1, 0.2 y 0.3.\n",
    "\n",
    "Analice los resultados obtenidos utilizando:\n",
    "**i.** Función de activación ‘sigmoid’ y función de costo ‘ECM’ (error cuadrático medio)\n",
    "**ii.** Función de activación ‘sigmoid’ y función de costo ‘EC_binaria’ (entropía cruzada binaria)\n",
    "**iii.** Función de activación ‘tanh’ y función de costo ‘ECM’ (error cuadrático medio)\n",
    "\n"
   ]
  }
 ],
 "metadata": {
  "language_info": {
   "name": "python"
  }
 },
 "nbformat": 4,
 "nbformat_minor": 5
}
