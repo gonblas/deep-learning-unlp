{
 "cells": [
  {
   "cell_type": "markdown",
   "id": "1a338706",
   "metadata": {},
   "source": [
    "## Ejercicio 10\n",
    "\n",
    "A partir de los ejemplos del archivo **automobile-simple.csv**, utilice todos los ejemplos para generar un modelo de 1 neurona para clasificar si un auto es ecológico:\n",
    "\n",
    "### a) \n",
    "\n",
    "Elimine los registros que presenten valores faltantes y utilice el atributo eco-rating para generar un nuevo atributo binario que determine si un auto es ecológico o no. Considere que un auto es ecológico si el valor de \"eco-rating\" supera la media de dicho atributo."
   ]
  },
  {
   "cell_type": "code",
   "execution_count": 1,
   "id": "9ba859fe",
   "metadata": {},
   "outputs": [
    {
     "name": "stderr",
     "output_type": "stream",
     "text": [
      "/tmp/ipykernel_4286/1768326714.py:14: FutureWarning: Downcasting behavior in `replace` is deprecated and will be removed in a future version. To retain the old behavior, explicitly call `result.infer_objects(copy=False)`. To opt-in to the future behavior, set `pd.set_option('future.no_silent_downcasting', True)`\n",
      "  X[\"fuel-type-diesel\"] = data[\"fuel-type\"].replace({\"gas\":0, \"diesel\":1}).to_frame()\n",
      "/tmp/ipykernel_4286/1768326714.py:14: SettingWithCopyWarning: \n",
      "A value is trying to be set on a copy of a slice from a DataFrame.\n",
      "Try using .loc[row_indexer,col_indexer] = value instead\n",
      "\n",
      "See the caveats in the documentation: https://pandas.pydata.org/pandas-docs/stable/user_guide/indexing.html#returning-a-view-versus-a-copy\n",
      "  X[\"fuel-type-diesel\"] = data[\"fuel-type\"].replace({\"gas\":0, \"diesel\":1}).to_frame()\n",
      "/tmp/ipykernel_4286/1768326714.py:15: FutureWarning: Downcasting behavior in `replace` is deprecated and will be removed in a future version. To retain the old behavior, explicitly call `result.infer_objects(copy=False)`. To opt-in to the future behavior, set `pd.set_option('future.no_silent_downcasting', True)`\n",
      "  X[\"four-num-of-doors\"] = data[\"num-of-doors\"].replace({\"two\":0, \"four\":1}).to_frame()\n",
      "/tmp/ipykernel_4286/1768326714.py:15: SettingWithCopyWarning: \n",
      "A value is trying to be set on a copy of a slice from a DataFrame.\n",
      "Try using .loc[row_indexer,col_indexer] = value instead\n",
      "\n",
      "See the caveats in the documentation: https://pandas.pydata.org/pandas-docs/stable/user_guide/indexing.html#returning-a-view-versus-a-copy\n",
      "  X[\"four-num-of-doors\"] = data[\"num-of-doors\"].replace({\"two\":0, \"four\":1}).to_frame()\n"
     ]
    }
   ],
   "source": [
    "import pandas as pd\n",
    "\n",
    "DATOS_DIR   = '../../Datos/'\n",
    "data = pd.read_csv(DATOS_DIR + 'automobile-simple.csv')\n",
    "data = data.dropna()\n",
    "\n",
    "T = (data[\"eco-rating\"] > data[\"eco-rating\"].mean()).astype(int)\n",
    "\n",
    "numeric_cols = [\"curb-weight\", \"engine-size\", \"horsepower\", \n",
    "                \"city-mpg\", \"highway-mpg\", \"price\", \n",
    "                \"volume\"]\n",
    "\n",
    "X = data[numeric_cols]\n",
    "X[\"fuel-type-diesel\"] = data[\"fuel-type\"].replace({\"gas\":0, \"diesel\":1}).to_frame()\n",
    "X[\"four-num-of-doors\"] = data[\"num-of-doors\"].replace({\"two\":0, \"four\":1}).to_frame()\n",
    "\n",
    "X = X.to_numpy()"
   ]
  },
  {
   "cell_type": "markdown",
   "id": "23b441a9",
   "metadata": {},
   "source": [
    "### b) \n",
    "\n",
    "Luego de completar según lo indicado en a), aplique normalización y realice el entrenamiento utilizando los atributos numéricos:"
   ]
  },
  {
   "cell_type": "code",
   "execution_count": 2,
   "id": "7eefbed3",
   "metadata": {},
   "outputs": [],
   "source": [
    "X = (X - X.mean()) / X.std()"
   ]
  },
  {
   "cell_type": "markdown",
   "id": "aa154907",
   "metadata": {},
   "source": [
    "**i.** Utilizando salida sigmoide (sigmoid) para la neurona."
   ]
  },
  {
   "cell_type": "code",
   "execution_count": 6,
   "id": "8888df87",
   "metadata": {},
   "outputs": [
    {
     "name": "stdout",
     "output_type": "stream",
     "text": [
      "Exactitud (sigmoid):  0.7563451776649747\n"
     ]
    }
   ],
   "source": [
    "from Fuentes.ClassNeuronaGral import *\n",
    "ALPHA = 0.05\n",
    "MAX_ITER = 1000\n",
    "COTA = 10e-6\n",
    "\n",
    "ng = NeuronaGradiente(alpha=ALPHA, n_iter=MAX_ITER, cotaE=COTA, FUN='sigmoid')\n",
    "print(\"Exactitud (sigmoid): \", ng.fit(X, T).accuracy_[-1])\n"
   ]
  },
  {
   "cell_type": "markdown",
   "id": "47d4f0f8",
   "metadata": {},
   "source": [
    "**ii.** Utilizando salida tangente hiperbólico (tanh) para la neurona."
   ]
  },
  {
   "cell_type": "code",
   "execution_count": 8,
   "id": "46b1c5f7",
   "metadata": {},
   "outputs": [
    {
     "name": "stdout",
     "output_type": "stream",
     "text": [
      "Exactitud (tanh):  0.8426395939086294\n"
     ]
    }
   ],
   "source": [
    "ng = NeuronaGradiente(alpha=ALPHA, n_iter=MAX_ITER, cotaE=COTA, FUN='tanh')\n",
    "T_tanh = pd.Series(np.where(data[\"eco-rating\"] > data[\"eco-rating\"].mean(), 1, -1))\n",
    "print(\"Exactitud (tanh): \", ng.fit(X, T_tanh).accuracy_[-1])"
   ]
  }
 ],
 "metadata": {
  "kernelspec": {
   "display_name": "env",
   "language": "python",
   "name": "python3"
  },
  "language_info": {
   "codemirror_mode": {
    "name": "ipython",
    "version": 3
   },
   "file_extension": ".py",
   "mimetype": "text/x-python",
   "name": "python",
   "nbconvert_exporter": "python",
   "pygments_lexer": "ipython3",
   "version": "3.13.5"
  }
 },
 "nbformat": 4,
 "nbformat_minor": 5
}
