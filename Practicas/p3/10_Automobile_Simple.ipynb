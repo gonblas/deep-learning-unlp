{
 "cells": [
  {
   "cell_type": "markdown",
   "id": "1a338706",
   "metadata": {},
   "source": [
    "## Ejercicio 10\n",
    "\n",
    "A partir de los ejemplos del archivo **automobile-simple.csv**, utilice todos los ejemplos para generar un modelo de 1 neurona para clasificar si un auto es ecológico:\n",
    "\n",
    "### a) \n",
    "\n",
    "Elimine los registros que presenten valores faltantes y utilice el atributo eco-rating para generar un nuevo atributo binario que determine si un auto es ecológico o no. Considere que un auto es ecológico si el valor de \"eco-rating\" supera la media de dicho atributo."
   ]
  },
  {
   "cell_type": "code",
   "execution_count": null,
   "id": "9ba859fe",
   "metadata": {
    "vscode": {
     "languageId": "plaintext"
    }
   },
   "outputs": [],
   "source": []
  },
  {
   "cell_type": "markdown",
   "id": "23b441a9",
   "metadata": {},
   "source": [
    "### b) \n",
    "\n",
    "Luego de completar según lo indicado en a), aplique normalización y realice el entrenamiento utilizando los atributos numéricos:\n",
    "\n",
    "**i.** Utilizando salida sigmoide (sigmoid) para la neurona.\n",
    "\n",
    "**ii.** Utilizando salida tangente hiperbólico (tanh) para la neurona."
   ]
  },
  {
   "cell_type": "code",
   "execution_count": null,
   "id": "7eefbed3",
   "metadata": {
    "vscode": {
     "languageId": "plaintext"
    }
   },
   "outputs": [],
   "source": []
  }
 ],
 "metadata": {
  "language_info": {
   "name": "python"
  }
 },
 "nbformat": 4,
 "nbformat_minor": 5
}
