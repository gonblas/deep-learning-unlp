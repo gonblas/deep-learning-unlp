{
 "cells": [
  {
   "cell_type": "markdown",
   "id": "23cec463",
   "metadata": {},
   "source": [
    "# Regresión Lineal Simple (una única variable de entrada o variable independiente)\n",
    "\n",
    "## Ejercicio 3\n",
    "\n",
    "A continuación, se presentan datos de entrenamiento y tiempo promedio de un recorrido de corredores para una distancia fija. Los datos están organizados en una tabla con las horas de entrenamiento semanales y el tiempo promedio en minutos para completar el recorrido:\n",
    "\n",
    "<div align=\"center\">\n",
    "\t<table style=\"border-collapse: collapse; text-align: center;\">\n",
    "\t<tr style=\"background-color:#4DA6D8; color:white;\">\n",
    "\t\t<th style=\"padding:8px; border:1px solid #ddd;\">Horas de Entrenamiento</th>\n",
    "\t\t<th style=\"padding:8px; border:1px solid #ddd;\">Tiempo Promedio (min)</th>\n",
    "\t</tr>\n",
    "\t<tr><td>2</td><td>30.5</td></tr>\n",
    "\t<tr><td>3</td><td>29.3</td></tr>\n",
    "\t<tr><td>4</td><td>26.7</td></tr>\n",
    "\t<tr><td>4</td><td>26.0</td></tr>\n",
    "\t<tr><td>5</td><td>25.5</td></tr>\n",
    "\t<tr><td>6</td><td>24.7</td></tr>\n",
    "\t<tr><td>6</td><td>23.5</td></tr>\n",
    "\t<tr><td>7</td><td>23.0</td></tr>\n",
    "\t<tr><td>7</td><td>22.5</td></tr>\n",
    "\t<tr><td>8</td><td>21.0</td></tr>\n",
    "\t<tr><td>10</td><td>21.0</td></tr>\n",
    "\t<tr><td>10</td><td>20.5</td></tr>\n",
    "\t</table>\n",
    "</div>\n",
    "\n",
    "A partir de los datos de entrenamiento y tiempos de recorrido de los corredores, se desea obtener la recta de regresión que permita predecir el tiempo promedio que un corredor tardará en recorrer la distancia fija a partir de las horas de entrenamiento semanales. Responder:\n",
    "\n",
    "\n",
    "### a)  \n",
    "\n",
    "Calcule la correlación lineal entre estas dos variables y dibuje el diagrama de dispersión correspondiente. ¿La recta de regresión será de utilidad?\n"
   ]
  },
  {
   "cell_type": "code",
   "execution_count": 44,
   "id": "5a63f129",
   "metadata": {},
   "outputs": [
    {
     "name": "stdout",
     "output_type": "stream",
     "text": [
      "Correlación entre horas de entrenamiento y tiempo promedio: -0.9597463860068594\n"
     ]
    }
   ],
   "source": [
    "import pandas as pd\n",
    "import matplotlib.pyplot as plt\n",
    "\n",
    "\n",
    "data = pd.DataFrame({\n",
    "    'horas_entrenamiento': [2, 3, 4, 4, 5, 6, 6, 7, 7, 8, 10, 10],\n",
    "    'tiempo_promedio': [30.5, 29.3, 26.7, 26.0, 25.5, 24.7, 23.5, 23.0, 22.5, 21.0, 21.0, 20.5]\n",
    "})\n",
    "\n",
    "print(\"Correlación entre horas de entrenamiento y tiempo promedio:\", data.corr().iloc[0,1]) #-0.96: la recta de regresión será de utilidad pues existe una alta correlación lineal"
   ]
  },
  {
   "cell_type": "markdown",
   "id": "7b55053c",
   "metadata": {},
   "source": [
    "### b)  \n",
    "\n",
    "Indique la ecuación del error cuadrático medio que se debería minimizar si se utilizara la técnica de descenso de gradiente."
   ]
  },
  {
   "cell_type": "markdown",
   "id": "3af4c362",
   "metadata": {},
   "source": [
    "El error cuadrático, valor a minimizar, que se utiliza en esta técnica es:\n",
    "\n",
    "$$\n",
    "\\xi = \\left\\langle \\epsilon_{k}^{2} \\right\\rangle = \\frac{1}{L} \\left[ \\sum_{i=1}^L (y_i - (m x_i + b))^2 \\right]\n",
    "$$\n",
    "\n",
    "Para $L$ puntos, siendo $y_{i}$ el valor de la función a tratar en el punto *i-esimo*."
   ]
  },
  {
   "cell_type": "markdown",
   "id": "b3af43ad",
   "metadata": {},
   "source": [
    "### c)  \n",
    "\n",
    "Indique la ecuación de error que se minimiza al utilizar la técnica de descenso de gradiente estocástico.  \n",
    "¿Qué ventaja tiene su uso con respecto a la ecuación indicada en b)?"
   ]
  },
  {
   "cell_type": "markdown",
   "id": "69452c64",
   "metadata": {},
   "source": [
    "El valor a minimizar en esta técnica es:\n",
    "\n",
    "$$\n",
    "\\xi = \\left\\langle \\epsilon_{k}^{2} \\right\\rangle \\approx (y_i - (m x_i + b))^2\n",
    "$$\n",
    "\n",
    "Esta ecuación si bien es una aproximación y no tiene la misma exactitud que la anterior, tiene la ventaja de no requerir todos los puntos para el cálculo, sino que permite realizar el cálculo por separado y permite no recalcular todo cuando se añade un nuevo punto.\n"
   ]
  },
  {
   "cell_type": "markdown",
   "id": "06e9e049",
   "metadata": {},
   "source": [
    "### d)  \n",
    "\n",
    "Utilice la técnica de descenso de gradiente estocástico para obtener los coeficientes de la recta de regresión que permita predecir el tiempo promedio que un corredor tardará en recorrer la distancia fija a partir de las horas de entrenamiento semanales.\n"
   ]
  },
  {
   "cell_type": "code",
   "execution_count": 45,
   "id": "42cabd7b",
   "metadata": {},
   "outputs": [
    {
     "name": "stdout",
     "output_type": "stream",
     "text": [
      "m: -1.7440188513115014, b: 34.08481128512727\n"
     ]
    }
   ],
   "source": [
    "import numpy as np\n",
    "\n",
    "ALPHA = 0.01\n",
    "MAX_EPOCHS = 1000\n",
    "m, b = np.random.uniform(-50, 50,size=2)\n",
    "n = len(data)\n",
    "TOLERANCE = 1e-6\n",
    "\n",
    "prev_E = 0\n",
    "E = 1\n",
    "\n",
    "for epoch in range(MAX_EPOCHS):\n",
    "    prev_E = E\n",
    "    E = 0\n",
    "    for i in range(n):\n",
    "        x_i = data['horas_entrenamiento'][i]\n",
    "        y_i = data['tiempo_promedio'][i]\n",
    "        y_pred = m * x_i + b\n",
    "        error = y_i - y_pred\n",
    "        grad_b = -2 * error\n",
    "        grad_m = -2 * error * x_i\n",
    "        b -= ALPHA * grad_b\n",
    "        m -= ALPHA * grad_m\n",
    "        E += error**2\n",
    "    E /= n\n",
    "    if abs(E - prev_E) < TOLERANCE:\n",
    "        break\n",
    "\n",
    "print(f\"m: {m}, b: {b}\")"
   ]
  },
  {
   "cell_type": "markdown",
   "id": "18f583a9",
   "metadata": {},
   "source": [
    "### e)  \n",
    "\n",
    "Utilice la recta obtenida en d) para predecir el tiempo promedio que tardará en recorrer la distancia fija un corredor que entrena 9 horas semanales.\n",
    "\n"
   ]
  },
  {
   "cell_type": "code",
   "execution_count": 49,
   "id": "2c7f4046",
   "metadata": {},
   "outputs": [
    {
     "name": "stdout",
     "output_type": "stream",
     "text": [
      "Un corredor que entrena 9 horas semanales tardaría en promedio: 18.38864162332376 minutos\n"
     ]
    }
   ],
   "source": [
    "print(\"Un corredor que entrena 9 horas semanales tardaría en promedio:\", m*9 + b, \"minutos\")"
   ]
  }
 ],
 "metadata": {
  "kernelspec": {
   "display_name": "env",
   "language": "python",
   "name": "python3"
  },
  "language_info": {
   "codemirror_mode": {
    "name": "ipython",
    "version": 3
   },
   "file_extension": ".py",
   "mimetype": "text/x-python",
   "name": "python",
   "nbconvert_exporter": "python",
   "pygments_lexer": "ipython3",
   "version": "3.13.7"
  }
 },
 "nbformat": 4,
 "nbformat_minor": 5
}
