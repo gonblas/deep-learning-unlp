{
 "cells": [
  {
   "cell_type": "markdown",
   "id": "0a0198c3",
   "metadata": {},
   "source": [
    "# Optimización de funciones utilizando la técnica del descenso de gradiente\n",
    "\n",
    "## Ejercicio 1\n",
    "\n",
    "Dada la función  \n",
    "\n",
    "$$f(x,y) = \\frac{x}{2x^2 + 3y^2 + 1}$$\n",
    "\n",
    "\n",
    "cuyas derivadas parciales son  \n",
    "\n",
    "$$\\frac{\\partial f(x,y)}{\\partial x} = \\frac{-2x^2 + 3y^2 + 1}{(2x^2 + 3y^2 + 1)^2} \\quad\\quad\\quad\\quad \\frac{\\partial f(x,y)}{\\partial y} = \\frac{-6xy}{(2x^2 + 3y^2 + 1)^2}$$\n",
    "\n",
    "\n",
    "### a)\n",
    "Indique el vector gradiente para $x = 1$ e $y=-1$.\n"
   ]
  },
  {
   "cell_type": "markdown",
   "id": "11fc1771",
   "metadata": {},
   "source": [
    "Sea el gradiente el vector:\n",
    "\n",
    "$$\n",
    "\\nabla f (x,y) = \\left\\langle \\frac{\\partial f(x,y)}{\\partial x}, \\frac{\\partial f(x,y)}{\\partial y} \\right\\rangle\n",
    "$$\n",
    "\n",
    "Entonces:\n",
    "\n",
    "$$\n",
    "\\nabla f (1,-1) = \\left\\langle \\frac{1}{18}, \\frac{1}{6} \\right\\rangle\n",
    "$$"
   ]
  },
  {
   "cell_type": "markdown",
   "id": "757e9b45",
   "metadata": {},
   "source": [
    "### b)\n",
    "\n",
    "Si a partir de ($x = 0.20$; $y = -1$) tuviera que elegir una dirección en la cual la función crezca, ¿qué acción tomaría?\n",
    "\n",
    "i. Incrementar los valores de $x$ e $y$  \n",
    "ii. Disminuir los valores de $x$ e $y$  \n",
    "iii. Incrementar el valor de $x$ y disminuir el de $y$  \n",
    "iv. Disminuir el valor de $x$ e incrementar el de $y$  "
   ]
  },
  {
   "cell_type": "markdown",
   "id": "ab471ab7",
   "metadata": {},
   "source": [
    "Para saber en que dirección la función crece a partir del punto $(0.2, -1)$, calculamos el gradiente, el cuál indica la dirección de mayor crecimiento:\n",
    "\n",
    "$$\n",
    "\\nabla f (0.2,-1) = \\left\\langle 0.2355, 0.0721 \\right\\rangle\n",
    "$$\n",
    "\n",
    "Por lo tanto se elige cómo correcta la dirección **i**: incrementar los valores de $x$ e $y$."
   ]
  },
  {
   "cell_type": "markdown",
   "id": "6e405d7d",
   "metadata": {},
   "source": [
    "### c)\n",
    "Una vez elegida la dirección en b), el movimiento a realizar será una fracción del módulo del vector gradiente.  \n",
    "¿Cuál sería la nueva posición si se considera $\\alpha = 0.1$? ¿Cuál es el valor de la función en la nueva ubicación?"
   ]
  },
  {
   "cell_type": "markdown",
   "id": "94356fe5",
   "metadata": {},
   "source": [
    "Sea la velocidad de cambio $\\alpha = 0.1$, entonces:\n",
    "\n",
    "$$\n",
    "\t(x_{t+1},y_{t+1}) = (x_{t},y_{t}) + \\alpha \\nabla f(x,y)\n",
    "$$\n",
    "\n",
    "Siendo $t$ el instante inicial y $t+1$ luego del movimiento hacia la dirección de mayor crecimiento de la función. Entonces:\n",
    "\n",
    "$$\n",
    "\t(x_{t+1},y_{t+1}) = (0.2,-1) + 0.1 \\cdot \\left\\langle 0.2355, 0.0721 \\right\\rangle\n",
    "$$\n",
    "\n",
    "$$\n",
    "\t(x_{t+1},y_{t+1}) = (0.22355, −0.99279)\n",
    "$$\n",
    "\n",
    "Allí, la función vale:\n",
    "\n",
    "$$\n",
    "\tf(x_{t+1},y_{t+1}) = 0.0551\n",
    "$$"
   ]
  },
  {
   "cell_type": "markdown",
   "id": "94180fe7",
   "metadata": {},
   "source": [
    "\n",
    "### d)\n",
    "Considere nuevamente las opciones del inciso b) pero ahora debe buscar una dirección, a partir de $(x = 0.20;\\; y = -1)$, en la cual la función disminuya. ¿Cuál sería su elección?"
   ]
  },
  {
   "cell_type": "markdown",
   "id": "a21b76de",
   "metadata": {},
   "source": [
    "Si ahora queremos ir en dirección de mayor decrecimiento debemos ir en la dirección contraria al gradiente, es decir, disminuir los valores de $x$ e $y$. "
   ]
  },
  {
   "cell_type": "markdown",
   "id": "653a24f8",
   "metadata": {},
   "source": [
    "\n",
    "### e)\n",
    "\n",
    "Repita lo solicitado en c) para la dirección elegida en d) donde el objetivo fue hallar una ubicación donde la función tome un valor menor."
   ]
  },
  {
   "cell_type": "markdown",
   "id": "e8e28a73",
   "metadata": {},
   "source": [
    "Sea la velocidad de cambio $\\alpha = 0.1$ y si queremos ir en dirección de mayor decrecimiento:\n",
    "\n",
    "$$\n",
    "\t(x_{t+1},y_{t+1}) = (x_{t},y_{t}) - \\alpha \\nabla f(x,y)\n",
    "$$\n",
    "\n",
    "Siendo $t$ el instante inicial y $t+1$ luego del movimiento hacia la dirección de mayor crecimiento de la función. Entonces:\n",
    "\n",
    "$$\n",
    "\t(x_{t+1},y_{t+1}) = (0.17645, −1.00721)\n",
    "$$\n",
    "\n",
    "Allí, la función vale:\n",
    "\n",
    "$$\n",
    "\tf(x_{t+1},y_{t+1}) = 0.0430\n",
    "$$"
   ]
  },
  {
   "cell_type": "markdown",
   "id": "7ef4d829",
   "metadata": {},
   "source": [
    "### f)\n",
    "\n",
    "Utilice la técnica del descenso de gradiente para calcular el valor y la ubicación del **mínimo** de la función $f(x,y)$ que se observa en la figura."
   ]
  },
  {
   "cell_type": "code",
   "execution_count": 16,
   "id": "b275cf1f",
   "metadata": {},
   "outputs": [
    {
     "name": "stdout",
     "output_type": "stream",
     "text": [
      "f( -0.7289240590709183 ,  -0.02731207078003632 ) =  -0.35300722477631585\n"
     ]
    }
   ],
   "source": [
    "# Partiendo del punto inicial $(x,y) = (0.2,-1)$, la función vale:\n",
    "ALPHA = 0.1\n",
    "x = 0.2\n",
    "y = -1\n",
    "COTA = 0.0001\n",
    "MAX_ITER = 1000\n",
    "\n",
    "def f(x,y):\n",
    "\treturn x /(2*(x**2) + 3*(y**2) + 1)\n",
    "\n",
    "def grad_f(x,y):\n",
    "\tdf_dx = (-2*x**2 + 3*y**2 + 1) / (2*x**2 + 3*y**2 + 1)**2\n",
    "\tdf_dy = (-6*x*y) / (2*x**2 + 3*y**2 + 1)**2\n",
    "\treturn (df_dx, df_dy)\n",
    "\n",
    "for i in range(MAX_ITER):\n",
    "\tgrad = grad_f(x,y)\n",
    "\tx_new = x - ALPHA * grad[0]\n",
    "\ty_new = y - ALPHA * grad[1]\n",
    "\tif abs(f(x_new, y_new) - f(x, y)) < COTA:\n",
    "\t\tbreak\n",
    "\tx, y = x_new, y_new\n",
    "\n",
    "print(\"f(\", x, \", \", y, \") = \", f(x,y))"
   ]
  },
  {
   "cell_type": "markdown",
   "id": "a83920c4",
   "metadata": {},
   "source": [
    "### g)\n",
    "\n",
    "Ídem f) para el **máximo** de la función $f(x,y)$."
   ]
  },
  {
   "cell_type": "code",
   "execution_count": 17,
   "id": "b362899c",
   "metadata": {},
   "outputs": [
    {
     "name": "stdout",
     "output_type": "stream",
     "text": [
      "f( 0.7340477763872973 ,  -0.02459181578752629 ) =  0.35299811723599817\n"
     ]
    }
   ],
   "source": [
    "for i in range(MAX_ITER):\n",
    "\tgrad = grad_f(x,y)\n",
    "\tx_new = x + ALPHA * grad[0]\n",
    "\ty_new = y + ALPHA * grad[1]\n",
    "\tif abs(f(x_new, y_new) - f(x, y)) < COTA:\n",
    "\t\tbreak\n",
    "\tx, y = x_new, y_new\n",
    "\n",
    "print(\"f(\", x, \", \", y, \") = \", f(x,y))"
   ]
  }
 ],
 "metadata": {
  "kernelspec": {
   "display_name": "env",
   "language": "python",
   "name": "python3"
  },
  "language_info": {
   "codemirror_mode": {
    "name": "ipython",
    "version": 3
   },
   "file_extension": ".py",
   "mimetype": "text/x-python",
   "name": "python",
   "nbconvert_exporter": "python",
   "pygments_lexer": "ipython3",
   "version": "3.13.7"
  }
 },
 "nbformat": 4,
 "nbformat_minor": 5
}
