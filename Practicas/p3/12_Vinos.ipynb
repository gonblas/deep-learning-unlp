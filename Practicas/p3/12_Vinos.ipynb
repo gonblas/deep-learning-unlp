{
 "cells": [
  {
   "cell_type": "markdown",
   "id": "7a8396db",
   "metadata": {},
   "source": [
    "## Ejercicio 12\n",
    "\n",
    "Utilice una red neuronal formada por una única capa de salida de 3 neuronas para clasificar las muestras de vino del archivo Vinos.csv descripto en el ejercicio anterior.\n",
    "\n",
    "Realice 30 ejecuciones independientes utilizando el 60% y 80% de los ejemplos como entrenamiento y el resto como testeo.\n",
    "\n",
    "Utilice un máximo de 400 iteraciones y velocidades de aprendizaje 0.1, 0.2 y 0.3.\n",
    "\n",
    "Complete la siguiente tabla con los resultados de las siguientes configuraciones\n",
    "\n",
    "### a)\n",
    "\n",
    "Función de activación ‘sigmoid’ y función de costo ‘ECM’ (error cuadrático medio)\n"
   ]
  },
  {
   "cell_type": "code",
   "execution_count": null,
   "id": "504f9ee1",
   "metadata": {},
   "outputs": [],
   "source": []
  },
  {
   "cell_type": "markdown",
   "id": "f2984593",
   "metadata": {},
   "source": [
    "### b) \n",
    "\n",
    "Función de activación ‘sigmoid’ y función de costo ‘EC_binaria’ (entropía cruzada binaria)\n"
   ]
  },
  {
   "cell_type": "code",
   "execution_count": null,
   "id": "47e15353",
   "metadata": {},
   "outputs": [],
   "source": []
  },
  {
   "cell_type": "markdown",
   "id": "cfa5513b",
   "metadata": {},
   "source": [
    "### c) \n",
    "\n",
    "Función de activación ‘tanh’ y función de costo ‘ECM’ (error cuadrático medio)"
   ]
  },
  {
   "cell_type": "code",
   "execution_count": null,
   "id": "11f5c8d7",
   "metadata": {},
   "outputs": [],
   "source": []
  },
  {
   "cell_type": "markdown",
   "id": "50e5959d",
   "metadata": {},
   "source": [
    "### d) \n",
    "\n",
    "Capa ‘Softmax’ y función de costo ‘EC’ (entropía cruzada)"
   ]
  }
 ],
 "metadata": {
  "kernelspec": {
   "display_name": "env",
   "language": "python",
   "name": "python3"
  },
  "language_info": {
   "name": "python",
   "version": "3.13.5"
  }
 },
 "nbformat": 4,
 "nbformat_minor": 5
}
