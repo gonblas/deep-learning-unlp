{
 "cells": [
  {
   "cell_type": "markdown",
   "id": "639b5924",
   "metadata": {},
   "source": [
    "# Regresión Logística multiclase\n",
    "## Ejercicio 11\n",
    "\n",
    "Se busca predecir si el tipo de fármaco que se debe administrar a un paciente afectado de rinitis alérgica es el habitual o no. Se dispone de información correspondiente a las historias clínicas de pacientes atendidos previamente\n",
    "\n",
    "\n",
    "### a) \n",
    "\n",
    "Numerice los atributos nominales y utilice el archivo **drugs_train.csv** para entrenar un modelo con 5 neuronas que sea capaz de predecir el tipo de fármaco que se debe administrar a un paciente afectado de rinitis alérgica."
   ]
  },
  {
   "cell_type": "code",
   "execution_count": null,
   "id": "be93f45e",
   "metadata": {},
   "outputs": [
    {
     "name": "stdout",
     "output_type": "stream",
     "text": [
      "[[0 0 1 0 0]\n",
      " [0 0 0 0 1]\n",
      " [0 0 0 0 1]\n",
      " [0 0 1 0 0]\n",
      " [0 0 0 0 1]]\n"
     ]
    }
   ],
   "source": [
    "import pandas as pd\n",
    "\n",
    "DATOS_DIR   = '../../Datos/'\n",
    "train_data = pd.read_csv(DATOS_DIR + 'drugs_train.csv')\n",
    "\n",
    "# Codificar columna 'Drug' en one-hot\n",
    "train_T = pd.get_dummies(train_data[\"Drug\"]).astype(int).to_numpy()\n",
    "train_X = train_data.drop(columns=[\"Drug\"])\n",
    "\n",
    "def label_encoding_preprocess_data(data: pd.DataFrame) -> pd.DataFrame:\n",
    "    NewSeEstiraColumn = pd.get_dummies(\n",
    "        data['Sex'], prefix='Sex', drop_first=True\n",
    "    ).astype(int)\n",
    "    data = pd.concat([NewSeEstiraColumn, data], axis=1)\n",
    "    data.drop(['Sex'], axis=1, inplace=True)\n",
    "\n",
    "    Map = {\n",
    "        \"BP\": {\n",
    "            \"LOW\": 0,\n",
    "            \"NORMAL\": 1,\n",
    "            \"HIGH\": 2,\n",
    "        },\n",
    "        \"Cholesterol\": {\n",
    "            \"NORMAL\": 0,\n",
    "            \"HIGH\": 1,\n",
    "        }\n",
    "    }\n",
    "    data.replace(Map, inplace=True)\n",
    "\n",
    "    return data\n",
    "\n",
    "train_X = label_encoding_preprocess_data(train_X)\n",
    "train_X = (train_X - train_X.min()) / (train_X.max() - train_X.min())\n",
    "train_X = train_X.to_numpy()\n"
   ]
  },
  {
   "cell_type": "markdown",
   "id": "2f05d285",
   "metadata": {},
   "source": [
    "### b) \n",
    "\n",
    "Luego utilice el archivo **drugs_test.csv** para medir la calidad del modelo."
   ]
  },
  {
   "cell_type": "code",
   "execution_count": 6,
   "id": "23b66fd9",
   "metadata": {},
   "outputs": [
    {
     "name": "stderr",
     "output_type": "stream",
     "text": [
      "/tmp/ipykernel_381283/3430638826.py:28: FutureWarning: Downcasting behavior in `replace` is deprecated and will be removed in a future version. To retain the old behavior, explicitly call `result.infer_objects(copy=False)`. To opt-in to the future behavior, set `pd.set_option('future.no_silent_downcasting', True)`\n",
      "  data.replace(Map, inplace=True)\n"
     ]
    }
   ],
   "source": [
    "DATOS_DIR   = '../../Datos/'\n",
    "test_data = pd.read_csv(DATOS_DIR + 'drugs_test.csv')\n",
    "\n",
    "test_T = (test_data[\"Drug\"] == \"drugY\").astype(int).to_numpy()\n",
    "test_X = test_data.drop(columns=[\"Drug\"])\n",
    "test_X = label_encoding_preprocess_data(test_X)"
   ]
  }
 ],
 "metadata": {
  "kernelspec": {
   "display_name": "env",
   "language": "python",
   "name": "python3"
  },
  "language_info": {
   "codemirror_mode": {
    "name": "ipython",
    "version": 3
   },
   "file_extension": ".py",
   "mimetype": "text/x-python",
   "name": "python",
   "nbconvert_exporter": "python",
   "pygments_lexer": "ipython3",
   "version": "3.13.7"
  }
 },
 "nbformat": 4,
 "nbformat_minor": 5
}
