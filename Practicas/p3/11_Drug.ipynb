{
 "cells": [
  {
   "cell_type": "markdown",
   "id": "639b5924",
   "metadata": {},
   "source": [
    "# Regresión Logística multiclase\n",
    "## Ejercicio 11\n",
    "\n",
    "Se busca predecir si el tipo de fármaco que se debe administrar a un paciente afectado de rinitis alérgica es el habitual o no. Se dispone de información correspondiente a las historias clínicas de pacientes atendidos previamente\n",
    "\n",
    "\n",
    "### a) \n",
    "\n",
    "Numerice los atributos nominales y utilice el archivo **drugs_train.csv** para entrenar un modelo con 5 neuronas que sea capaz de predecir el tipo de fármaco que se debe administrar a un paciente afectado de rinitis alérgica."
   ]
  },
  {
   "cell_type": "code",
   "execution_count": 14,
   "id": "be93f45e",
   "metadata": {},
   "outputs": [
    {
     "name": "stderr",
     "output_type": "stream",
     "text": [
      "/tmp/ipykernel_67722/3507343385.py:28: FutureWarning: Downcasting behavior in `replace` is deprecated and will be removed in a future version. To retain the old behavior, explicitly call `result.infer_objects(copy=False)`. To opt-in to the future behavior, set `pd.set_option('future.no_silent_downcasting', True)`\n",
      "  data.replace(Map, inplace=True)\n"
     ]
    },
    {
     "data": {
      "text/plain": [
       "<Fuentes.ClassRNMulticlase.RNMulticlase at 0x7f9457ab1480>"
      ]
     },
     "execution_count": 14,
     "metadata": {},
     "output_type": "execute_result"
    }
   ],
   "source": [
    "import pandas as pd\n",
    "from Fuentes.ClassRNMulticlase import *\n",
    "\n",
    "DATOS_DIR   = '../../Datos/'\n",
    "train_data = pd.read_csv(DATOS_DIR + 'drugs_train.csv')\n",
    "\n",
    "train_T = pd.get_dummies(train_data[\"Drug\"]).astype(int).to_numpy()\n",
    "train_X = train_data.drop(columns=[\"Drug\"])\n",
    "\n",
    "def label_encoding_preprocess_data(data: pd.DataFrame) -> pd.DataFrame:\n",
    "    NewSeEstiraColumn = pd.get_dummies(\n",
    "        data['Sex'], prefix='Sex', drop_first=True\n",
    "    ).astype(int)\n",
    "    data = pd.concat([NewSeEstiraColumn, data], axis=1)\n",
    "    data.drop(['Sex'], axis=1, inplace=True)\n",
    "\n",
    "    Map = {\n",
    "        \"BP\": {\n",
    "            \"LOW\": 0,\n",
    "            \"NORMAL\": 1,\n",
    "            \"HIGH\": 2,\n",
    "        },\n",
    "        \"Cholesterol\": {\n",
    "            \"NORMAL\": 0,\n",
    "            \"HIGH\": 1,\n",
    "        }\n",
    "    }\n",
    "    data.replace(Map, inplace=True)\n",
    "\n",
    "    return data\n",
    "\n",
    "train_X = label_encoding_preprocess_data(train_X).to_numpy()\n",
    "nn = RNMulticlase(alpha=0.01, n_iter=1000, cotaE=1e-6, FUN='sigmoid', COSTO='ECM', random_state=None)\n",
    "nn.fit(train_X, train_T)"
   ]
  },
  {
   "cell_type": "markdown",
   "id": "2f05d285",
   "metadata": {},
   "source": [
    "### b) \n",
    "\n",
    "Luego utilice el archivo **drugs_test.csv** para medir la calidad del modelo."
   ]
  },
  {
   "cell_type": "code",
   "execution_count": 23,
   "id": "23b66fd9",
   "metadata": {},
   "outputs": [
    {
     "name": "stdout",
     "output_type": "stream",
     "text": [
      "Accuracy: 0.42\n"
     ]
    },
    {
     "name": "stderr",
     "output_type": "stream",
     "text": [
      "/tmp/ipykernel_67722/3507343385.py:28: FutureWarning: Downcasting behavior in `replace` is deprecated and will be removed in a future version. To retain the old behavior, explicitly call `result.infer_objects(copy=False)`. To opt-in to the future behavior, set `pd.set_option('future.no_silent_downcasting', True)`\n",
      "  data.replace(Map, inplace=True)\n"
     ]
    }
   ],
   "source": [
    "DATOS_DIR   = '../../Datos/'\n",
    "test_data = pd.read_csv(DATOS_DIR + 'drugs_test.csv')\n",
    "\n",
    "test_T = pd.get_dummies(test_data[\"Drug\"]).astype(int).to_numpy()\n",
    "test_X = test_data.drop(columns=[\"Drug\"])\n",
    "test_X = label_encoding_preprocess_data(test_X).to_numpy()\n",
    "\n",
    "test_Y = nn.predict(test_X)\n",
    "true_Y = np.argmax(test_T, axis=1)\n",
    "accuracy = np.mean(test_Y == true_Y)\n",
    "print(f\"Accuracy: {accuracy:.2f}\")\n"
   ]
  }
 ],
 "metadata": {
  "kernelspec": {
   "display_name": "env",
   "language": "python",
   "name": "python3"
  },
  "language_info": {
   "codemirror_mode": {
    "name": "ipython",
    "version": 3
   },
   "file_extension": ".py",
   "mimetype": "text/x-python",
   "name": "python",
   "nbconvert_exporter": "python",
   "pygments_lexer": "ipython3",
   "version": "3.13.5"
  }
 },
 "nbformat": 4,
 "nbformat_minor": 5
}
