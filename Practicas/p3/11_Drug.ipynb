{
 "cells": [
  {
   "cell_type": "markdown",
   "id": "639b5924",
   "metadata": {},
   "source": [
    "# Regresión Logística multiclase\n",
    "## Ejercicio 11\n",
    "\n",
    "Se busca predecir si el tipo de fármaco que se debe administrar a un paciente afectado de rinitis alérgica es el habitual o no. Se dispone de información correspondiente a las historias clínicas de pacientes atendidos previamente\n",
    "\n",
    "\n",
    "### a) \n",
    "\n",
    "Numerice los atributos nominales y utilice el archivo **drug_train.csv** para entrenar un modelo con 5 neuronas que sea capaz de predecir el tipo de fármaco que se debe administrar a un paciente afectado de rinitis alérgica."
   ]
  },
  {
   "cell_type": "code",
   "execution_count": null,
   "id": "be93f45e",
   "metadata": {
    "vscode": {
     "languageId": "plaintext"
    }
   },
   "outputs": [],
   "source": []
  },
  {
   "cell_type": "markdown",
   "id": "2f05d285",
   "metadata": {},
   "source": [
    "### b) \n",
    "\n",
    "Luego utilice el archivo drug_test.csv para medir la calidad del modelo."
   ]
  },
  {
   "cell_type": "code",
   "execution_count": null,
   "id": "23b66fd9",
   "metadata": {
    "vscode": {
     "languageId": "plaintext"
    }
   },
   "outputs": [],
   "source": []
  }
 ],
 "metadata": {
  "language_info": {
   "name": "python"
  }
 },
 "nbformat": 4,
 "nbformat_minor": 5
}
