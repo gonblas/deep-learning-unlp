{
 "cells": [
  {
   "cell_type": "markdown",
   "id": "daaca78e",
   "metadata": {},
   "source": [
    "# Regresión Lineal Múltiple (dos o más variables de entrada)\n",
    "\n",
    "## Ejercicio 6\n",
    "\n",
    "Utilice los scripts disponibles en la teoría y práctica para entrenar un combinador lineal.  \n",
    "El modelo debe recibir tres dígitos binarios y retornar la representación decimal del número que resulta de la combinación de dígitos (para las entradas 000, 010 y 101 debe obtener las salidas 0, 2 y 5, respectivamente).\n",
    "\n",
    "a) Utilizando el bias o peso W0 (comportamiento normal).  \n"
   ]
  },
  {
   "cell_type": "code",
   "execution_count": null,
   "id": "ed2ebbf5",
   "metadata": {},
   "outputs": [],
   "source": []
  },
  {
   "cell_type": "markdown",
   "id": "b1f98acf",
   "metadata": {},
   "source": [
    "### b) \n",
    "\n",
    "Utilizando únicamente las tres entradas correspondientes a los dígitos binarios anulando el bias o W0 del cálculo.  \n",
    "\n",
    "Compare la cantidad de iteraciones necesarias para obtener el vector de pesos correcto en ambos casos. Observe el valor del arco correspondiente al bias en a)."
   ]
  },
  {
   "cell_type": "code",
   "execution_count": null,
   "id": "5c5a9841",
   "metadata": {},
   "outputs": [],
   "source": []
  }
 ],
 "metadata": {
  "kernelspec": {
   "display_name": "env",
   "language": "python",
   "name": "python3"
  },
  "language_info": {
   "name": "python",
   "version": "3.13.5"
  }
 },
 "nbformat": 4,
 "nbformat_minor": 5
}
