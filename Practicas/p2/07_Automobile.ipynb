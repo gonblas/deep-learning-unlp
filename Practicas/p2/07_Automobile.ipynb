{
 "cells": [
  {
   "cell_type": "markdown",
   "id": "67190165",
   "metadata": {},
   "source": [
    "## Ejercicio 7\n",
    "\n",
    "El archivo **automobile_simple.csv** contiene 11 atributos de automóviles de un total de 205 registros. Es una versión modificada y simplificada del dataset disponible en el repositorio UCI https://archive.ics.uci.edu/ml/datasets/Automobile. La siguiente tabla contiene una breve descripción de los\n",
    "atributos que contiene el archivo y caracterizan a cada vehículo.\n",
    "\n",
    "<table style=\"border-collapse: collapse; width: 100%;\">\n",
    "  <thead>\n",
    "    <tr style=\"background-color: #4da6d8; color: white; text-align: left;\">\n",
    "      <th style=\"padding: 8px;\">Atributo</th>\n",
    "      <th style=\"padding: 8px;\">Descripción</th>\n",
    "    </tr>\n",
    "  </thead>\n",
    "  <tbody>\n",
    "    <tr>\n",
    "      <td style=\"padding: 8px;\"><b>make</b></td>\n",
    "      <td style=\"padding: 8px;\">Marca: alfa-romero, audi, bmw, chevrolet…</td>\n",
    "    </tr>\n",
    "    <tr>\n",
    "      <td style=\"padding: 8px;\"><b>fuel-type</b></td>\n",
    "      <td style=\"padding: 8px;\">Tipo de combustible: diesel, gasolina.</td>\n",
    "    </tr>\n",
    "    <tr>\n",
    "      <td style=\"padding: 8px;\"><b>num-of-doors</b></td>\n",
    "      <td style=\"padding: 8px;\">Número de puertas: cuatro, dos.</td>\n",
    "    </tr>\n",
    "    <tr>\n",
    "      <td style=\"padding: 8px;\"><b>body-style</b></td>\n",
    "      <td style=\"padding: 8px;\">Tipo de carrocería: techo duro, wagon, sedán, hatchback, descapotable.</td>\n",
    "    </tr>\n",
    "    <tr>\n",
    "      <td style=\"padding: 8px;\"><b>curb-weight</b></td>\n",
    "      <td style=\"padding: 8px;\">Peso en vacío: numérico de 1488 a 4066.</td>\n",
    "    </tr>\n",
    "    <tr>\n",
    "      <td style=\"padding: 8px;\"><b>engine-size</b></td>\n",
    "      <td style=\"padding: 8px;\">Tamaño del motor: numérico de 61 a 326.</td>\n",
    "    </tr>\n",
    "    <tr>\n",
    "      <td style=\"padding: 8px;\"><b>horsepower</b></td>\n",
    "      <td style=\"padding: 8px;\">Potencia: numérico de 48 a 288.</td>\n",
    "    </tr>\n",
    "    <tr>\n",
    "      <td style=\"padding: 8px;\"><b>city-mpg</b></td>\n",
    "      <td style=\"padding: 8px;\">Rendimiento en ciudad (en millas por galón): numérico de 13 a 49.</td>\n",
    "    </tr>\n",
    "    <tr>\n",
    "      <td style=\"padding: 8px;\"><b>highway-mpg</b></td>\n",
    "      <td style=\"padding: 8px;\">Rendimiento en ruta (en millas por galón): numérico de 16 a 54.</td>\n",
    "    </tr>\n",
    "    <tr>\n",
    "      <td style=\"padding: 8px;\"><b>price</b></td>\n",
    "      <td style=\"padding: 8px;\">Precio en USD: numérico de 5118 a 45400.</td>\n",
    "    </tr>\n",
    "    <tr>\n",
    "      <td style=\"padding: 8px;\"><b>volume</b></td>\n",
    "      <td style=\"padding: 8px;\">Volumen del vehículo (alto x ancho x alto).</td>\n",
    "    </tr>\n",
    "    <tr>\n",
    "      <td style=\"padding: 8px;\"><b>eco-rating</b></td>\n",
    "      <td style=\"padding: 8px;\">Evaluación de la sostenibilidad ambiental del vehículo basado en su volumen, peso, consumo de combustible y tipo de combustible utilizado.</td>\n",
    "    </tr>\n",
    "  </tbody>\n",
    "</table>\n",
    "\n",
    "\n",
    "\n",
    "### a) \n",
    "\n",
    "Para cada atributo indique si es Discreto, Continuo, Nominal u Ordinal."
   ]
  },
  {
   "cell_type": "markdown",
   "id": "4e48287d",
   "metadata": {},
   "source": [
    "- **make:** nominal.\n",
    "- **fuel-type:** nominal.\n",
    "- **num-of-doors:** ordinal.\n",
    "- **body-style:** nominal.\n",
    "- **curb-weight:** discreto.\n",
    "- **engine-size:** discreto.\n",
    "- **horsepower:** continuo.\n",
    "- **city-mpg:** discreto.\n",
    "- **highway-mpg:** discreto.\n",
    "- **price:** continuo.\n",
    "- **volume:** continuo.\n",
    "- **eco-rating:** continuo."
   ]
  },
  {
   "cell_type": "code",
   "execution_count": 28,
   "id": "3a0153eb",
   "metadata": {},
   "outputs": [
    {
     "data": {
      "text/plain": [
       "make             object\n",
       "fuel-type        object\n",
       "num-of-doors     object\n",
       "body-style       object\n",
       "curb-weight       int64\n",
       "engine-size       int64\n",
       "horsepower      float64\n",
       "city-mpg          int64\n",
       "highway-mpg       int64\n",
       "price           float64\n",
       "volume          float64\n",
       "eco-rating      float64\n",
       "dtype: object"
      ]
     },
     "execution_count": 28,
     "metadata": {},
     "output_type": "execute_result"
    }
   ],
   "source": [
    "import pandas as pd\n",
    "import numpy as np\n",
    "import matplotlib.pyplot as plt\n",
    "from Fuentes.ClassPerceptron import Perceptron\n",
    "\n",
    "DATOS_DIR   = '../../Datos/p2/'\n",
    "data = pd.read_csv(DATOS_DIR + 'automobile-simple.csv')\n",
    "data.dtypes"
   ]
  },
  {
   "cell_type": "markdown",
   "id": "6db0349e",
   "metadata": {},
   "source": [
    "\n",
    "### b) \n",
    "\n",
    "Elimine los registros que presenten valores faltantes.\n"
   ]
  },
  {
   "cell_type": "code",
   "execution_count": 29,
   "id": "fb1fdc75",
   "metadata": {},
   "outputs": [],
   "source": [
    "data = data.dropna()"
   ]
  },
  {
   "cell_type": "markdown",
   "id": "c07b1062",
   "metadata": {},
   "source": [
    "### c) \n",
    "Calcule la matriz de correlación usando los atributos numéricos.\n"
   ]
  },
  {
   "cell_type": "code",
   "execution_count": 30,
   "id": "e7aad464",
   "metadata": {},
   "outputs": [
    {
     "name": "stdout",
     "output_type": "stream",
     "text": [
      "             curb-weight  engine-size  horsepower  city-mpg  highway-mpg  \\\n",
      "curb-weight     1.000000     0.848932    0.759925 -0.755559    -0.800113   \n",
      "engine-size     0.848932     1.000000    0.825286 -0.655737    -0.684662   \n",
      "horsepower      0.759925     0.825286    1.000000 -0.821960    -0.803658   \n",
      "city-mpg       -0.755559    -0.655737   -0.821960  1.000000     0.972407   \n",
      "highway-mpg    -0.800113    -0.684662   -0.803658  0.972407     1.000000   \n",
      "price           0.834732     0.873708    0.811953 -0.692948    -0.708659   \n",
      "volume          0.822823     0.592571    0.449278 -0.554978    -0.608072   \n",
      "\n",
      "                price    volume  \n",
      "curb-weight  0.834732  0.822823  \n",
      "engine-size  0.873708  0.592571  \n",
      "horsepower   0.811953  0.449278  \n",
      "city-mpg    -0.692948 -0.554978  \n",
      "highway-mpg -0.708659 -0.608072  \n",
      "price        1.000000  0.631578  \n",
      "volume       0.631578  1.000000  \n"
     ]
    }
   ],
   "source": [
    "ppn = Perceptron(alpha=0.5, n_iter=100, random_state=1)\n",
    "\n",
    "numeric_cols = [\"curb-weight\", \"engine-size\", \"horsepower\", \n",
    "                \"city-mpg\", \"highway-mpg\", \"price\", \n",
    "                \"volume\"]\n",
    "\n",
    "df_num = data[numeric_cols]\n",
    "corr_matrix = df_num.corr()\n",
    "\n",
    "print(corr_matrix)\n"
   ]
  },
  {
   "cell_type": "markdown",
   "id": "c6c9db68",
   "metadata": {},
   "source": [
    "\n",
    "### d) \n",
    "\n",
    "Realice el entrenamiento de un perceptrón para que aprenda a clasificar si un auto es ecológico. Tenga\n",
    "en cuenta los siguientes pasos:\n",
    "\n",
    "#### I.\n",
    "\n",
    "Utilice el atributo eco-rating para generar un nuevo atributo binario que determine si un auto es ecológico o no. Un auto es considerado ecológico si el valor de eco-rating supera la media de dicho atributo."
   ]
  },
  {
   "cell_type": "code",
   "execution_count": 31,
   "id": "4596b6a4",
   "metadata": {},
   "outputs": [],
   "source": [
    "T = (data[\"eco-rating\"] > data[\"eco-rating\"].mean()).astype(int)\n",
    "X = data.drop(columns=[\"make\", \"fuel-type\", \"num-of-doors\", \"body-style\", \"eco-rating\"]) # Elimino las no numéricas y la target"
   ]
  },
  {
   "cell_type": "markdown",
   "id": "42087b09",
   "metadata": {},
   "source": [
    "#### II. \n",
    "\n",
    "Genere y compare 3 modelos utilizando diferentes normalizaciones (Sin normalizar, normalización lineal, normalización estándar).\n",
    "\n"
   ]
  },
  {
   "cell_type": "code",
   "execution_count": 32,
   "id": "32e11157",
   "metadata": {},
   "outputs": [
    {
     "name": "stdout",
     "output_type": "stream",
     "text": [
      "Aciertos sin normalizacion: 104 de 197\n",
      "Aciertos normalizacion lineal: 188 de 197\n",
      "Aciertos normalizacion estandar: 195 de 197\n"
     ]
    }
   ],
   "source": [
    "def evaluar_perceptron(X, T, alpha=0.05, max_iter=10, random_state=1):\n",
    "    resultados = {}\n",
    "\n",
    "    # Caso 1: Sin normalización\n",
    "    ppn = Perceptron(alpha=alpha, n_iter=max_iter, random_state=random_state)\n",
    "    ppn.fit(X.values, T.values)\n",
    "    Y = ppn.predict(X.values)\n",
    "    resultados[\"sin_normalizacion\"] = sum(Y == T)\n",
    "\n",
    "    # Caso 2: Normalización lineal (0 a 1)\n",
    "    X_lin = (X - X.min()) / (X.max() - X.min())\n",
    "    ppn = Perceptron(alpha=alpha, n_iter=max_iter, random_state=random_state)\n",
    "    ppn.fit(X_lin.values, T.values)\n",
    "    Y = ppn.predict(X_lin.values)\n",
    "    resultados[\"normalizacion_lineal\"] = sum(Y == T)\n",
    "\n",
    "    # Caso 3: Normalización estándar (z-score)\n",
    "    X_std = (X - X.mean()) / X.std()\n",
    "    ppn = Perceptron(alpha=alpha, n_iter=max_iter, random_state=random_state)\n",
    "    ppn.fit(X_std.values, T.values)\n",
    "    Y = ppn.predict(X_std.values)\n",
    "    resultados[\"normalizacion_estandar\"] = sum(Y == T)\n",
    "\n",
    "    # Mostrar resultados\n",
    "    for caso, aciertos in resultados.items():\n",
    "        print(f\"Aciertos {caso.replace('_', ' ')}: {aciertos} de {len(T)}\")\n",
    "\n",
    "    return resultados\n",
    "\n",
    "resultados = evaluar_perceptron(X, T)\n"
   ]
  },
  {
   "cell_type": "markdown",
   "id": "810cd4b1",
   "metadata": {},
   "source": [
    "#### III. \n",
    "\n",
    "Teniendo en cuenta la matriz de correlación del punto c) repita el punto II) eliminando dos atributos fuertemente correlacionados (uno negativo y otro positivo). Compare y reflexione sobre los resultados obtenidos."
   ]
  },
  {
   "cell_type": "code",
   "execution_count": 33,
   "id": "629dfef9",
   "metadata": {},
   "outputs": [
    {
     "name": "stdout",
     "output_type": "stream",
     "text": [
      "highway-mpg  city-mpg    0.972407\n",
      "dtype: float64 \n",
      " horsepower  city-mpg   -0.82196\n",
      "dtype: float64\n",
      "Aciertos sin normalizacion: 104 de 197\n",
      "Aciertos normalizacion lineal: 188 de 197\n",
      "Aciertos normalizacion estandar: 191 de 197\n"
     ]
    }
   ],
   "source": [
    "corr_pairs = corr_matrix.unstack()\n",
    "corr_pairs = corr_pairs.drop(labels=[(col, col) for col in corr_matrix.columns])\n",
    "corr_sorted = corr_pairs.sort_values(ascending=False)\n",
    "corr_sorted = corr_pairs.loc[corr_sorted.index]\n",
    "\n",
    "print(corr_sorted.head(1), \"\\n\", corr_sorted.tail(1)) \n",
    "# Tengo que eliminar  eco-rating  highway-mpg  0.984258\n",
    "# y \t\t\t\t  eco-rating  curb-weight -0.842957\n",
    "\n",
    "\n",
    "X = X.drop(columns=[\"city-mpg\"])\n",
    "resultados_sin_corr = evaluar_perceptron(X, T)\n"
   ]
  },
  {
   "cell_type": "markdown",
   "id": "24cf9b01",
   "metadata": {},
   "source": [
    "> **Conclusión:** ni idea."
   ]
  }
 ],
 "metadata": {
  "kernelspec": {
   "display_name": "env",
   "language": "python",
   "name": "python3"
  },
  "language_info": {
   "codemirror_mode": {
    "name": "ipython",
    "version": 3
   },
   "file_extension": ".py",
   "mimetype": "text/x-python",
   "name": "python",
   "nbconvert_exporter": "python",
   "pygments_lexer": "ipython3",
   "version": "3.13.7"
  }
 },
 "nbformat": 4,
 "nbformat_minor": 5
}
