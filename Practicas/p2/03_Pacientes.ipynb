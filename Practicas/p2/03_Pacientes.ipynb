{
 "cells": [
  {
   "cell_type": "markdown",
   "id": "aff1e208",
   "metadata": {},
   "source": [
    "## Ejercicio 3\n",
    "\n",
    "La Tabla 1 muestra información correspondiente de pacientes para determinar si deben realizarse un examen médico en función de su edad, altura y riesgo médico.\n",
    "\n",
    "<div style=\"text-align: center;\">\n",
    "  <table border=\"1\" cellpadding=\"5\" cellspacing=\"0\" style=\"margin: 0 auto; border-collapse: collapse;\">\n",
    "    <thead>\n",
    "      <tr style=\"background-color: #4f81bd;\">\n",
    "        <th>EDAD</th>\n",
    "        <th>RIESGO</th>\n",
    "        <th>EXAMEN</th>\n",
    "      </tr>\n",
    "    </thead>\n",
    "    <tbody>\n",
    "      <tr>\n",
    "        <td>55</td>\n",
    "        <td>ALTO</td>\n",
    "        <td>SI</td>\n",
    "      </tr>\n",
    "      <tr>\n",
    "        <td>56</td>\n",
    "        <td>MEDIO</td>\n",
    "        <td>NO</td>\n",
    "      </tr>\n",
    "      <tr>\n",
    "        <td>58</td>\n",
    "        <td>MEDIO</td>\n",
    "        <td>SI</td>\n",
    "      </tr>\n",
    "      <tr>\n",
    "        <td>56</td>\n",
    "        <td>BAJO</td>\n",
    "        <td>NO</td>\n",
    "      </tr>\n",
    "      <tr>\n",
    "        <td>59</td>\n",
    "        <td>BAJO</td>\n",
    "        <td>NO</td>\n",
    "      </tr>\n",
    "      <tr>\n",
    "        <td>57</td>\n",
    "        <td>MEDIO</td>\n",
    "        <td>SI</td>\n",
    "      </tr>\n",
    "      <tr>\n",
    "        <td>60</td>\n",
    "        <td>BAJO</td>\n",
    "        <td>SI</td>\n",
    "      </tr>\n",
    "      <tr>\n",
    "        <td>53</td>\n",
    "        <td>ALTO</td>\n",
    "        <td>NO</td>\n",
    "      </tr>\n",
    "      <tr>\n",
    "        <td>59</td>\n",
    "        <td>MEDIO</td>\n",
    "        <td>SI</td>\n",
    "      </tr>\n",
    "    </tbody>\n",
    "  </table>\n",
    "</div>\n",
    "\n",
    "\n",
    "Donde:\n",
    "- EDAD es un atributo numérico que indica la edad del paciente.\n",
    "- RIESGO es el nivel de riesgo del paciente.\n",
    "- EXAMEN indica si debe realizarse un examen extra.\n",
    "\n",
    "Para obtener transformar el atributo nominal RIESGO en uno numérico se lo numerizó de la siguiente forma: BAJO = 1, MEDIO = 2 y ALTO = 3.\n",
    "\n",
    "### a)\n",
    "\n",
    "Luego de la numerización se calculó el coeficiente de correlación lineal entre los atributos EDAD y RIESGO y se obtuvo como resultado -0.71. ¿Cómo debe interpretarse este valor?"
   ]
  },
  {
   "cell_type": "markdown",
   "id": "093ab5c5",
   "metadata": {},
   "source": [
    "Este resultado puede interpretarse de la siguiente manera: a medida que la edad aumenta el riesgo disminuye, siguiendo una relación lineal débil."
   ]
  },
  {
   "cell_type": "markdown",
   "id": "d4c6aace",
   "metadata": {},
   "source": [
    "### b) \n",
    "\n",
    "Luego de numerizar el atributo RIESGO y de normalizar los atributos de manera lineal entre 0 y 1, los ejemplos fueron utilizados para entrenar un perceptrón capaz de predecir correctamente el atributo EXAMEN. Los pesos obtenidos fueron los siguientes:\n",
    "\n",
    "**W(EDAD) = 0.0807** **W(RIESGO) = 0.074** **Sesgo o Bias = -0.0742**\n",
    "\n",
    "¿Cuál será la respuesta del perceptrón para los siguientes valores?\n",
    "\n",
    "**(EDAD, RIESGO) = (50, BAJO)**, **(51, MEDIO)**, **(54, ALTO)**\n"
   ]
  },
  {
   "cell_type": "code",
   "execution_count": 1,
   "id": "0ef3170e",
   "metadata": {},
   "outputs": [
    {
     "name": "stdout",
     "output_type": "stream",
     "text": [
      "Ejemplo: {'Edad': 50, 'Riesgo': 1}, a: 1\n",
      "Ejemplo: {'Edad': 51, 'Riesgo': 2}, a: 1\n",
      "Ejemplo: {'Edad': 54, 'Riesgo': 3}, a: 1\n"
     ]
    }
   ],
   "source": [
    "perceptron = {\n",
    "\t\"w_edad\": 0.0807,\n",
    "\t\"w_riesgo\": -0.074,\n",
    "\t\"bias\": -0.0742\n",
    "}\n",
    "\n",
    "examples = [\n",
    "\t{\"Edad\": 50, \"Riesgo\": 1},\n",
    "\t{\"Edad\": 51, \"Riesgo\": 2},\n",
    "\t{\"Edad\": 54, \"Riesgo\": 3},\n",
    "]\n",
    "\n",
    "for ex in examples:\n",
    "\tz = (perceptron[\"w_edad\"] * ex[\"Edad\"] +\n",
    "\t\tperceptron[\"w_riesgo\"] * ex[\"Riesgo\"] -\n",
    "\t\tperceptron[\"bias\"])\n",
    "\ta = 1 if (z >= 0) else 0\n",
    "\tprint(f\"Ejemplo: {ex}, a: {a}\")"
   ]
  }
 ],
 "metadata": {
  "kernelspec": {
   "display_name": "env",
   "language": "python",
   "name": "python3"
  },
  "language_info": {
   "codemirror_mode": {
    "name": "ipython",
    "version": 3
   },
   "file_extension": ".py",
   "mimetype": "text/x-python",
   "name": "python",
   "nbconvert_exporter": "python",
   "pygments_lexer": "ipython3",
   "version": "3.13.7"
  }
 },
 "nbformat": 4,
 "nbformat_minor": 5
}
