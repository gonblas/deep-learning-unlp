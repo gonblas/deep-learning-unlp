{
 "cells": [
  {
   "cell_type": "markdown",
   "id": "89154f7c",
   "metadata": {},
   "source": [
    "## Ejercicio 6\n",
    "\n",
    "El archivo **zoo.csv** contiene información de 101 animales caracterizados por distintos atributos.\n",
    "\n",
    "A1. Nombre del animal\n",
    "A2. Tiene Pelo\n",
    "A3. Plumas\n",
    "A4. Huevos\n",
    "A5. Leche\n",
    "A6. Vuela\n",
    "A7. Acuático\n",
    "A8. Depredador\n",
    "A9. Dentado\n",
    "A10. Vertebrado\n",
    "A11. Branquias\n",
    "A12. Venenoso\n",
    "A13. Aletas\n",
    "A14. Patas\n",
    "A15. Cola\n",
    "A16. Domestico\n",
    "A17. Tamaño gato\n",
    "A18. Clase\n",
    "\n",
    "Salvo los atributos A1 y A18 que contienen texto y el A14 que contiene el número de patas del animal, el resto toma el valor 1 si el animal posee la característica y 0 si no. Hay 7 valores de clase posible (atributo A18): mamífero, ave, pez, invertebrado, insecto, reptil y anfibio.\n",
    "\n",
    "### a)\n",
    "\n",
    "Realice un gráfico que visualice de la cantidad de ejemplos por cada valor del atributo clase y analice que tipos de problema podrían surgir al entrenar un modelo para clasificación."
   ]
  },
  {
   "cell_type": "code",
   "execution_count": 4,
   "id": "86e55e4c",
   "metadata": {},
   "outputs": [
    {
     "data": {
      "image/png": "[encoded data removed]",
      "text/plain": [
       "<Figure size 640x480 with 1 Axes>"
      ]
     },
     "metadata": {},
     "output_type": "display_data"
    },
    {
     "data": {
      "text/plain": [
       "animal           object\n",
       "Tiene_Pelo        int64\n",
       "Tiene_Plumas      int64\n",
       "Nace_de_huevo     int64\n",
       "Toma_Leche        int64\n",
       "Vuela             int64\n",
       "Acuatico          int64\n",
       "Depredador        int64\n",
       "Dentado           int64\n",
       "Vertebrado        int64\n",
       "Respira           int64\n",
       "Venenoso          int64\n",
       "Tiene_Aletas      int64\n",
       "Cant_Patas        int64\n",
       "Tiene_Cola        int64\n",
       "Domestico         int64\n",
       "Tamano_Gato       int64\n",
       "Clase            object\n",
       "dtype: object"
      ]
     },
     "execution_count": 4,
     "metadata": {},
     "output_type": "execute_result"
    }
   ],
   "source": [
    "import pandas as pd\n",
    "import numpy as np\n",
    "import matplotlib.pyplot as plt\n",
    "from Fuentes.ClassPerceptron import Perceptron\n",
    "\n",
    "DATOS_DIR   = '../../Datos/'\n",
    "data = pd.read_csv(DATOS_DIR + 'zoo.csv')\n",
    "\n",
    "bars = data['Clase'].value_counts()\n",
    "plt.figure()\n",
    "N = len(bars)\n",
    "plt.bar(np.arange( N ), bars)  # Gráfico de bars\n",
    "plt.title('Clase')      # Colocamos el título\n",
    "plt.ylabel('Frecuencia')\n",
    "# Colocamos las etiquetas del eje x\n",
    "plt.xticks(np.arange( N ), bars.index)\n",
    "plt.show()\n",
    "\n",
    "data.dtypes\n"
   ]
  },
  {
   "cell_type": "markdown",
   "id": "7d1b3d4b",
   "metadata": {},
   "source": [
    "Puede observarse la disparidad de ejemplos de cada clase de animal. Esto puede provocar una falta de entrenamiento para las clases con menos ejemplos. El modelo tiende a predecir siempre la clase con más ejemplos, porque eso minimiza el error global, sin aprender nada."
   ]
  },
  {
   "cell_type": "markdown",
   "id": "8417100f",
   "metadata": {},
   "source": [
    "### b)\n",
    "\n",
    "Utilice todos los ejemplos para entrenar un perceptrón que sea capaz de reconocer si un animal es un mamífero. Entrene varias veces si es necesario y verifique que funcione correctamente."
   ]
  },
  {
   "cell_type": "code",
   "execution_count": 83,
   "id": "a831c749",
   "metadata": {},
   "outputs": [
    {
     "name": "stdout",
     "output_type": "stream",
     "text": [
      "Resultados para la clase 'Mamifero':\n",
      "  Efectividad promedio: 100.00%\n",
      "  Iteraciones promedio: 12.07\n",
      "  Pesos promedio en valor absoluto: [0.288158   0.12928013 0.32824766 0.32347123 0.10465224 0.04955868\n",
      " 0.06914442 0.09490351 0.00258478 0.07823589 0.11857042 0.00256616\n",
      " 0.03624324 0.02031417 0.01173541 0.16830034]\n"
     ]
    }
   ],
   "source": [
    "def evaluar_perceptron_promedio_abs(data, clase, alpha=0.01, max_iter=200, n_repeticiones=100):\n",
    "    X = np.array(data.iloc[:, 1:-1])\n",
    "    T = (data[\"Clase\"] == clase).astype(int)\n",
    "    \n",
    "    efectividades = []\n",
    "    iteraciones = []\n",
    "    pesos = []\n",
    "    \n",
    "    for _ in range(n_repeticiones):\n",
    "        ppn = Perceptron(alpha=alpha, n_iter=max_iter, draw=False)\n",
    "        ppn.fit(X, T)\n",
    "        Y = ppn.predict(X)\n",
    "        efectividades.append(100.0 * np.sum(Y == T) / len(T))\n",
    "        iteraciones.append(len(ppn.errors_))\n",
    "        pesos.append(ppn.w_)\n",
    "    \n",
    "    pesos_promedio = np.mean(np.array(pesos), axis=0)\n",
    "    \n",
    "    resultados = {\n",
    "        \"promedio_efectividad\": np.mean(efectividades),\n",
    "        \"promedio_iteraciones\": np.mean(iteraciones),\n",
    "        \"promedio_pesos_abs\": np.abs(pesos_promedio)\n",
    "    }\n",
    "    \n",
    "    print(f\"Resultados para la clase '{clase}':\")\n",
    "    print(f\"  Efectividad promedio: {resultados['promedio_efectividad']:.2f}%\")\n",
    "    print(f\"  Iteraciones promedio: {resultados['promedio_iteraciones']:.2f}\")\n",
    "    print(f\"  Pesos promedio en valor absoluto: {resultados['promedio_pesos_abs']}\")\n",
    "    \n",
    "    return resultados\n",
    "\n",
    "resultados_mamifero_abs = evaluar_perceptron_promedio_abs(data, clase=\"Mamifero\", alpha=0.01, max_iter=200, n_repeticiones=100)\n"
   ]
  },
  {
   "cell_type": "markdown",
   "id": "20ba2d0e",
   "metadata": {},
   "source": [
    "### c) \n",
    "\n",
    "Observe los pesos del perceptrón entrenado en a) ¿Puede determinar cuáles son las características más relevantes para decidir si se trata de un mamífero o no? Realice varias ejecuciones independientes y observe si las características más relevantes siguen siendo las mismas."
   ]
  },
  {
   "cell_type": "markdown",
   "id": "c8950831",
   "metadata": {},
   "source": [
    "##### Análisis de pesos\n",
    "\n",
    "Aquellos que son más grandes en módulo corresponden a características que permiten diferenciar mejor si es un mamífero o no, puesto que hacer más probable que la salida cambie de valor:\n",
    "- **Tiene_pelo**\n",
    "- **Nace_de_huevo**\n",
    "- **Toma_leche**\n",
    "\n",
    "\n",
    "Se analizó todo en módulo sobre varias iteraciones para saber aquellos pesos que más influían en la decisión de si es mamífero o no. Lo mismo haré con el resto de clases a analizar."
   ]
  },
  {
   "cell_type": "markdown",
   "id": "387fd97c",
   "metadata": {},
   "source": [
    "### d) \n",
    "\n",
    "Repita b) y c) para las aves."
   ]
  },
  {
   "cell_type": "code",
   "execution_count": 85,
   "id": "c842a2dc",
   "metadata": {},
   "outputs": [
    {
     "name": "stdout",
     "output_type": "stream",
     "text": [
      "Resultados para la clase 'Ave':\n",
      "  Efectividad promedio: 100.00%\n",
      "  Iteraciones promedio: 11.54\n",
      "  Pesos promedio en valor absoluto: [0.10720552 0.36901734 0.02118224 0.10498722 0.19451542 0.0715898\n",
      " 0.05434162 0.28729429 0.07745799 0.02124754 0.06646373 0.13620011\n",
      " 0.08403305 0.09842232 0.02694036 0.03119658]\n"
     ]
    }
   ],
   "source": [
    "resultados_aves_abs = evaluar_perceptron_promedio_abs(data, clase=\"Ave\", alpha=0.01, max_iter=200, n_repeticiones=100)\n"
   ]
  },
  {
   "cell_type": "markdown",
   "id": "c904c5e6",
   "metadata": {},
   "source": [
    "##### Análisis de pesos\n",
    "- **Tiene_plumas**\n",
    "- **Dentado**\n",
    "- **Vuela**"
   ]
  },
  {
   "cell_type": "markdown",
   "id": "55492334",
   "metadata": {},
   "source": [
    "### e)\n",
    "\n",
    "Repita b) y c) para los reptiles."
   ]
  },
  {
   "cell_type": "code",
   "execution_count": 86,
   "id": "ab7504f1",
   "metadata": {},
   "outputs": [
    {
     "name": "stdout",
     "output_type": "stream",
     "text": [
      "Resultados para la clase 'Reptil':\n",
      "  Efectividad promedio: 100.00%\n",
      "  Iteraciones promedio: 40.06\n",
      "  Pesos promedio en valor absoluto: [0.21246277 0.2635401  0.0480157  0.23384371 0.17313415 0.25725488\n",
      " 0.01984946 0.03898322 0.15950482 0.02568164 0.06123705 0.22999064\n",
      " 0.03381575 0.20678257 0.09364571 0.0306212 ]\n"
     ]
    }
   ],
   "source": [
    "resultados_reptiles_abs = evaluar_perceptron_promedio_abs(data, clase=\"Reptil\", alpha=0.01, max_iter=200, n_repeticiones=100)"
   ]
  },
  {
   "cell_type": "markdown",
   "id": "ec1f8e56",
   "metadata": {},
   "source": [
    "##### Análisis de pesos\n",
    "\n",
    "- **Tiene_plumas**\n",
    "- **Acuatico**\n",
    "- **Toma_Leche**\n",
    "- **Tiene_pelo**\n",
    "\n",
    "En particular, se ve cómo los pesos se parecen más entre sí. No hay pesos que sean muchos mas influyentes que otros. No hay suficientes datos para que alguno sobresalga como muy influyente."
   ]
  }
 ],
 "metadata": {
  "kernelspec": {
   "display_name": "env",
   "language": "python",
   "name": "python3"
  },
  "language_info": {
   "codemirror_mode": {
    "name": "ipython",
    "version": 3
   },
   "file_extension": ".py",
   "mimetype": "text/x-python",
   "name": "python",
   "nbconvert_exporter": "python",
   "pygments_lexer": "ipython3",
   "version": "3.13.5"
  }
 },
 "nbformat": 4,
 "nbformat_minor": 5
}
