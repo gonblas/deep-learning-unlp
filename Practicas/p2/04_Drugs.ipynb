{
 "cells": [
  {
   "cell_type": "markdown",
   "id": "4a5083d2",
   "metadata": {},
   "source": [
    "## Ejercicio 4\n",
    "\n",
    "Se busca predecir si el tipo de fármaco que se debe administrar a un paciente afectado de rinitis alérgica es el habitual o no. Se dispone de información correspondiente a las historias clínicas de pacientes atendidos previamente. Las variables relevadas son las siguientes:\n",
    "\n",
    "- **Age:** Edad\n",
    "- **Sex:** Sexo\n",
    "- **BP (Blood Pressure):** Presión sanguínea.\n",
    "- **Cholesterol:** nivel de colesterol.\n",
    "- **Na:** Nivel de sodio en la sangre.\n",
    "- **K:** Nivel de potasio en la sangre.\n",
    "- **Class:** Fármaco suministrado. Cada paciente ha sido medicado con un único fármaco de 5 posibles: DrugA, DrugB, DrugC, DrugX, DrugY\n",
    "\n",
    "### a) \n",
    "\n",
    "Utilice el archivo **drug_train.csv** para entrenar un perceptrón que sea capaz de predecir si el tipo de fármaco que se debe administrar a un paciente afectado de rinitis alérgica es el habitual (suministro de DrugY) o no."
   ]
  },
  {
   "cell_type": "code",
   "execution_count": 40,
   "id": "38f04590",
   "metadata": {},
   "outputs": [
    {
     "name": "stderr",
     "output_type": "stream",
     "text": [
      "/tmp/ipykernel_709131/3178348950.py:31: FutureWarning: Downcasting behavior in `replace` is deprecated and will be removed in a future version. To retain the old behavior, explicitly call `result.infer_objects(copy=False)`. To opt-in to the future behavior, set `pd.set_option('future.no_silent_downcasting', True)`\n",
      "  data.replace(Map, inplace=True)\n"
     ]
    },
    {
     "data": {
      "text/plain": [
       "<Fuentes.ClassPerceptron.Perceptron at 0x7fdf5c7de350>"
      ]
     },
     "execution_count": 40,
     "metadata": {},
     "output_type": "execute_result"
    }
   ],
   "source": [
    "import pandas as pd\n",
    "import numpy as np\n",
    "import matplotlib.pyplot as plt\n",
    "from Fuentes.ClassPerceptron import Perceptron\n",
    "\n",
    "ALPHA = 0.05\n",
    "N_ITER = 100\n",
    "\n",
    "DATOS_DIR   = '../../Datos/'\n",
    "train_data = pd.read_csv(DATOS_DIR + 'drugs_train.csv')\n",
    "\n",
    "def label_encoding_preprocess_data(data: pd.DataFrame) -> pd.DataFrame:\n",
    "    # Codificación one-hot para 'Sex'\n",
    "    NewSeEstiraColumn = pd.get_dummies(\n",
    "        data['Sex'], prefix='Sex', drop_first=True\n",
    "    ).astype(int)\n",
    "    data = pd.concat([NewSeEstiraColumn, data], axis=1)\n",
    "    data.drop(['Sex'], axis=1, inplace=True)\n",
    "\n",
    "    Map = {\n",
    "        \"BP\": {\n",
    "            \"LOW\": 0,\n",
    "            \"NORMAL\": 1,\n",
    "            \"HIGH\": 2,\n",
    "        },\n",
    "        \"Cholesterol\": {\n",
    "            \"NORMAL\": 0,\n",
    "            \"HIGH\": 1,\n",
    "        }\n",
    "    }\n",
    "    data.replace(Map, inplace=True)\n",
    "\n",
    "    return data\n",
    "\n",
    "preprocessed_data = label_encoding_preprocess_data(train_data)\n",
    "\n",
    "ppn = Perceptron(alpha=ALPHA, n_iter=N_ITER, random_state=1)\n",
    "\n",
    "X_train = preprocessed_data[['Age', 'Sex_M', 'BP', 'Cholesterol']].values\n",
    "Y_train = (preprocessed_data[\"Drug\"] == \"drugY\").astype(int)\n",
    "ppn.fit(X_train, Y_train)"
   ]
  },
  {
   "cell_type": "markdown",
   "id": "7d3c0ea9",
   "metadata": {},
   "source": [
    "### b) \n",
    "\n",
    "Luego utilice el archivo **drug_test.csv** para medir la calidad del modelo."
   ]
  },
  {
   "cell_type": "code",
   "execution_count": 41,
   "id": "1385ec65",
   "metadata": {},
   "outputs": [
    {
     "name": "stdout",
     "output_type": "stream",
     "text": [
      "\n",
      "DrugY clasificada con  45.00% de efectividad en 100 iteraciones\n"
     ]
    },
    {
     "name": "stderr",
     "output_type": "stream",
     "text": [
      "/tmp/ipykernel_709131/3178348950.py:31: FutureWarning: Downcasting behavior in `replace` is deprecated and will be removed in a future version. To retain the old behavior, explicitly call `result.infer_objects(copy=False)`. To opt-in to the future behavior, set `pd.set_option('future.no_silent_downcasting', True)`\n",
      "  data.replace(Map, inplace=True)\n"
     ]
    }
   ],
   "source": [
    "test_data = pd.read_csv(DATOS_DIR + 'drugs_test.csv')\n",
    "\n",
    "training_data_not_normalized = label_encoding_preprocess_data(test_data)\n",
    "X_test = training_data_not_normalized[['Age', 'Sex_M', 'BP', 'Cholesterol']].values\n",
    "T_test = (training_data_not_normalized[\"Drug\"] == \"drugY\").astype(int)\n",
    "Y_test = ppn.predict(X_test)\n",
    "\n",
    "efectividad = 100.0*np.sum(Y_test==T_test)/len(Y_test)\n",
    "iter = len(ppn.errors_)\n",
    "print(\"\\nDrugY clasificada con %6.2f%% de efectividad en %d iteraciones\" % (efectividad, iter))\n"
   ]
  },
  {
   "cell_type": "markdown",
   "id": "4a9da0ee",
   "metadata": {},
   "source": [
    "### c) \n",
    "\n",
    "Resuelva el problema:\n",
    "- Numerizando los atributos ordinales utilizando dos representaciones diferentes: como entero único y de manera binaria (dummy).\n",
    "- Normalizando de diferentes formas: Sin normalizar, normalización lineal, normalización con media y desvío."
   ]
  },
  {
   "cell_type": "markdown",
   "id": "84faedca",
   "metadata": {},
   "source": [
    "##### Numerización como entero único (label-encoding)"
   ]
  },
  {
   "cell_type": "code",
   "execution_count": 42,
   "id": "3861b69c",
   "metadata": {},
   "outputs": [
    {
     "name": "stdout",
     "output_type": "stream",
     "text": [
      "\n",
      "Label-encoding sin normalizar con  45.00% de efectividad en 100 iteraciones\n",
      "Label-encoding con normalización lineal:  45.00%\n",
      "Label-encoding con normalización estándar:  42.50%\n"
     ]
    }
   ],
   "source": [
    "# La numerización como entero único es la que hice en un principio. A partir de la misma normalizo de las distintas formas\n",
    "print(\"\\nLabel-encoding sin normalizar con %6.2f%% de efectividad en %d iteraciones\" % (efectividad, iter))\n",
    "\n",
    "# Normalización lineal (0 a 1)\n",
    "X_train_lin = (X_train - X_train.min(axis=0)) / (X_train.max(axis=0) - X_train.min(axis=0))\n",
    "X_test_lin  = (X_test  - X_train.min(axis=0)) / (X_train.max(axis=0) - X_train.min(axis=0))\n",
    "\n",
    "ppn.fit(X_train_lin, Y_train)\n",
    "Y_test_lin = ppn.predict(X_test_lin)\n",
    "efectividad_lin = 100.0*np.sum(Y_test_lin==T_test)/len(T_test)\n",
    "print(\"Label-encoding con normalización lineal: %6.2f%%\" % efectividad_lin)\n",
    "\n",
    "# --- CASO 3: Normalización estándar (z-score) ---\n",
    "X_train_std = (X_train - X_train.mean(axis=0)) / X_train.std(axis=0)\n",
    "X_test_std  = (X_test  - X_train.mean(axis=0)) / X_train.std(axis=0)\n",
    "\n",
    "ppn.fit(X_train_std, Y_train)\n",
    "Y_test_std = ppn.predict(X_test_std)\n",
    "efectividad_std = 100.0*np.sum(Y_test_std==T_test)/len(T_test)\n",
    "print(\"Label-encoding con normalización estándar: %6.2f%%\" % efectividad_std)"
   ]
  },
  {
   "cell_type": "markdown",
   "id": "2cf16e31",
   "metadata": {},
   "source": [
    "##### Numerización de manera binaria (dummy/one-hot-encoding)"
   ]
  },
  {
   "cell_type": "code",
   "execution_count": null,
   "id": "5450f8e7",
   "metadata": {},
   "outputs": [
    {
     "name": "stdout",
     "output_type": "stream",
     "text": [
      "One-hot encoding sin normalizar:  45.00% de efectividad en 100 iteraciones\n",
      "One-hot encoding con normalización lineal:  97.50%\n",
      "One-hot encoding con normalización estándar:  95.00%\n"
     ]
    }
   ],
   "source": [
    "def one_hot_preprocess_data(data: pd.DataFrame) -> pd.DataFrame:\n",
    "    categorical_cols = ['Sex', 'BP', 'Cholesterol']\n",
    "    dummies = pd.get_dummies(data[categorical_cols], drop_first=False).astype(int)\n",
    "    data = data.drop(columns=categorical_cols)\n",
    "    data = pd.concat([dummies, data], axis=1)\n",
    "    return data\n",
    "\n",
    "train_data_oh = one_hot_preprocess_data(train_data)\n",
    "test_data_oh  = one_hot_preprocess_data(test_data)\n",
    "\n",
    "# --- Definir X y T ---\n",
    "X_train = train_data_oh.drop(columns=['Drug']).values\n",
    "Y_train = (train_data_oh[\"Drug\"] == \"drugY\").astype(int)\n",
    "\n",
    "X_test = test_data_oh.drop(columns=['Drug']).values\n",
    "T_test = (test_data_oh[\"Drug\"] == \"drugY\").astype(int)\n",
    "\n",
    "ppn = Perceptron(alpha=ALPHA, n_iter=N_ITER, random_state=1)\n",
    "\n",
    "# --- CASO 1: Sin normalizar ---\n",
    "ppn.fit(X_train, Y_train)\n",
    "Y_test_raw = ppn.predict(X_test)\n",
    "efectividad_raw = 100.0*np.sum(Y_test_raw==T_test)/len(T_test)\n",
    "print(\"One-hot encoding sin normalizar: %6.2f%% de efectividad en %d iteraciones\" % (efectividad_raw, len(ppn.errors_)))\n",
    "\n",
    "# --- CASO 2: Normalización lineal (0 a 1) ---\n",
    "X_train_lin = (X_train - X_train.min(axis=0)) / (X_train.max(axis=0) - X_train.min(axis=0))\n",
    "X_test_lin  = (X_test  - X_train.min(axis=0)) / (X_train.max(axis=0) - X_train.min(axis=0))\n",
    "\n",
    "ppn.fit(X_train_lin, Y_train)\n",
    "Y_test_lin = ppn.predict(X_test_lin)\n",
    "efectividad_lin = 100.0*np.sum(Y_test_lin==T_test)/len(T_test)\n",
    "print(\"One-hot encoding con normalización lineal: %6.2f%%\" % efectividad_lin)\n",
    "\n",
    "# --- CASO 3: Normalización estándar (z-score) ---\n",
    "X_train_std = (X_train - X_train.mean(axis=0)) / X_train.std(axis=0)\n",
    "X_test_std  = (X_test  - X_train.mean(axis=0)) / X_train.std(axis=0)\n",
    "\n",
    "ppn.fit(X_train_std, Y_train)\n",
    "Y_test_std = ppn.predict(X_test_std)\n",
    "efectividad_std = 100.0*np.sum(Y_test_std==T_test)/len(T_test)\n",
    "print(\"One-hot encoding con normalización estándar: %6.2f%%\" % efectividad_std)\n"
   ]
  },
  {
   "cell_type": "markdown",
   "id": "abaac602",
   "metadata": {},
   "source": [
    "> **Conclusión:** El orden de los datos no se ve bien reflejado por el label-encoding al normalizar."
   ]
  }
 ],
 "metadata": {
  "kernelspec": {
   "display_name": "env",
   "language": "python",
   "name": "python3"
  },
  "language_info": {
   "codemirror_mode": {
    "name": "ipython",
    "version": 3
   },
   "file_extension": ".py",
   "mimetype": "text/x-python",
   "name": "python",
   "nbconvert_exporter": "python",
   "pygments_lexer": "ipython3",
   "version": "3.13.5"
  }
 },
 "nbformat": 4,
 "nbformat_minor": 5
}
