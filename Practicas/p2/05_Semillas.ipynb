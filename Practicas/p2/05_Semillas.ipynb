{
 "cells": [
  {
   "cell_type": "markdown",
   "id": "84804b6f",
   "metadata": {},
   "source": [
    "## Ejercicio 5\n",
    "\n",
    "El archivo **semillas.csv** contiene información de granos que pertenecen a tres variedades diferentes de trigo: Kama, Rosa y Canadiense. El total es de 210 ejemplos a razón de 70 ejemplos para cada tipo de grano, seleccionados al azar para el experimento. La información registrada corresponde al resultado de la visualización de alta calidad de la estructura interna del núcleo efectuada utilizando una técnica de rayos X blandos. Este tipo de estudio no es destructivo y es considerablemente más económico que otras técnicas de imagen más sofisticadas como la microscopía de barrido o la tecnología láser. Las imágenes se grabaron en placas KODAK de rayos x de 13x18 cm. Los estudios se realizaron utilizando granos de trigo cosechados combinados procedentes de campos experimentales, explorados en el Instituto de Agrofísica de la Academia Polaca de Ciencias en Lublin. Para construir los datos, se midieron siete parámetros geométricos de cada grano de trigo:\n",
    "\n",
    "- área A\n",
    "- perímetro P\n",
    "- compacidad C = 4 * pi * A / P ^ 2\n",
    "- longitud del núcleo\n",
    "- ancho del núcleo\n",
    "- coeficiente de asimetría\n",
    "- longitud del surco del núcleo\n",
    "\n",
    "A partir de los 210 ejemplos, luego de normalizarlos utilizando los valores de media y desvío, se logró entrenar un perceptrón capaz de identificar, con una precisión del 100%, uno de los tres tipos de semillas. Para realizar el entrenamiento se utilizó una velocidad de aprendizaje de 0.05 y un máximo de 200 iteraciones. Indique cuál es el tipo de semilla que puede ser reconocido correctamente por un perceptrón."
   ]
  },
  {
   "cell_type": "code",
   "execution_count": null,
   "id": "9bd16f9c",
   "metadata": {},
   "outputs": [
    {
     "name": "stdout",
     "output_type": "stream",
     "text": [
      "195\n",
      "210\n",
      "201\n"
     ]
    }
   ],
   "source": [
    "import pandas as pd\n",
    "import numpy as np\n",
    "import matplotlib.pyplot as plt\n",
    "from Fuentes.ClassPerceptron import Perceptron\n",
    "\n",
    "DATOS_DIR   = '../../Datos/p2/'\n",
    "data = pd.read_csv(DATOS_DIR + 'semillas.csv')\n",
    "\n",
    "ALPHA = 0.05\n",
    "MAX_ITERATIONS = 200\n",
    "\n",
    "X = data.drop(columns=[\"Clase\"])\n",
    "y = data[\"Clase\"]   \n",
    "X_norm = (X - X.mean()) / X.std()\n",
    "data = pd.concat([X_norm, y], axis=1)\n",
    "\n",
    "data[\"Clase_Tipo1\"] = (data[\"Clase\"] == \"Tipo1\").astype(int)\n",
    "data[\"Clase_Tipo2\"] = (data[\"Clase\"] == \"Tipo2\").astype(int)\n",
    "data[\"Clase_Tipo3\"] = (data[\"Clase\"] == \"Tipo3\").astype(int)\n",
    "\n",
    "ppn = Perceptron(alpha=ALPHA, n_iter=MAX_ITERATIONS, random_state=1)\n",
    "ppn.fit(data[[\"Area\", \"Perimetro\", \"Compacidad\", \"LongNucleo\", \"AnchoNucleo\", \"Asimetria\", \"LongSurco\"]].values, data[\"Clase_Tipo1\"].values)\n",
    "Y = ppn.predict(data[[\"Area\", \"Perimetro\", \"Compacidad\", \"LongNucleo\", \"AnchoNucleo\", \"Asimetria\", \"LongSurco\"]].values)\n",
    "print(sum(Y == data[\"Clase_Tipo1\"].values))\n",
    "\n",
    "ppn = Perceptron(alpha=ALPHA, n_iter=MAX_ITERATIONS, random_state=1)\n",
    "ppn.fit(data[[\"Area\", \"Perimetro\", \"Compacidad\", \"LongNucleo\", \"AnchoNucleo\", \"Asimetria\", \"LongSurco\"]].values, data[\"Clase_Tipo2\"].values)\n",
    "Y = ppn.predict(data[[\"Area\", \"Perimetro\", \"Compacidad\", \"LongNucleo\", \"AnchoNucleo\", \"Asimetria\", \"LongSurco\"]].values)\n",
    "print(sum(Y == data[\"Clase_Tipo2\"].values))\n",
    "\n",
    "ppn = Perceptron(alpha=ALPHA, n_iter=MAX_ITERATIONS, random_state=1)\n",
    "ppn.fit(data[[\"Area\", \"Perimetro\", \"Compacidad\", \"LongNucleo\", \"AnchoNucleo\", \"Asimetria\", \"LongSurco\"]].values, data[\"Clase_Tipo3\"].values)\n",
    "Y = ppn.predict(data[[\"Area\", \"Perimetro\", \"Compacidad\", \"LongNucleo\", \"AnchoNucleo\", \"Asimetria\", \"LongSurco\"]].values)\n",
    "print(sum(Y == data[\"Clase_Tipo3\"].values))\n"
   ]
  },
  {
   "cell_type": "markdown",
   "id": "c450dd62",
   "metadata": {},
   "source": [
    "> **Conclusión:** La clase 2 puede ser perfectamente reconocida por un perceptrón luego de una normalización z-score."
   ]
  }
 ],
 "metadata": {
  "kernelspec": {
   "display_name": "env",
   "language": "python",
   "name": "python3"
  },
  "language_info": {
   "codemirror_mode": {
    "name": "ipython",
    "version": 3
   },
   "file_extension": ".py",
   "mimetype": "text/x-python",
   "name": "python",
   "nbconvert_exporter": "python",
   "pygments_lexer": "ipython3",
   "version": "3.13.7"
  }
 },
 "nbformat": 4,
 "nbformat_minor": 5
}
