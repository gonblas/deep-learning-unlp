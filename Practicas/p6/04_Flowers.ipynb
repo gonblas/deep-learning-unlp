{
 "cells": [
  {
   "cell_type": "markdown",
   "id": "66899561",
   "metadata": {},
   "source": [
    "## Ejercicio 4\n",
    "\n",
    "Replique el ejercicio anterior utilizando el dataset **“Flowers”** compuesto por imágenes de flores. El objetivo es entrenar un autoencoder que coloree imágenes en escala de grises. Obtenga una imagen en escala de grises de cada imagen a color para generar el dataset de entrada del autoencoder.\n",
    "\n",
    "<div style=\"text-align: center;\">\n",
    "    <img src='../../images/p5-ej5.png' width=\"60%\">\n",
    "</div>"
   ]
  },
  {
   "cell_type": "code",
   "execution_count": null,
   "id": "7da00fa6",
   "metadata": {
    "vscode": {
     "languageId": "plaintext"
    }
   },
   "outputs": [],
   "source": []
  }
 ],
 "metadata": {
  "language_info": {
   "name": "python"
  }
 },
 "nbformat": 4,
 "nbformat_minor": 5
}
