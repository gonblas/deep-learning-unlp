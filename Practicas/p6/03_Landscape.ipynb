{
 "cells": [
  {
   "cell_type": "markdown",
   "id": "f2e13212",
   "metadata": {},
   "source": [
    "## Ejercicio 3\n",
    "\n",
    "El dataset Landscape Image Colorization consta de 7219 imágenes de calles, edificios, montañas, glaciares, y árboles, entre otros. Este contiene dos versiones de cada imagen: una en escala de grises y otra en color, almacenadas en dos carpetas separadas. La versión original de este archivo está disponible en:\n",
    "\n",
    "https://www.kaggle.com/datasets/theblackmamba31/landscape-image-colorization/data\n",
    "\n",
    "<div style=\"text-align: center;\">\n",
    "    <img src='../../images/p6-ej3.png' width=\"60%\">\n",
    "</div>\n",
    "\n",
    "Desarrolle un modelo de autoencoder que permita generar versiones a color de imágenes en escala de grises. Utilice capas convolucionales tanto en el bloque codificador como decodificador. \n",
    "\n",
    "Dado que en la etapa del decodificador requiere capas para aumentar la dimensión para formar la imagen final, implemente 3 versiones diferentes:\n",
    "\n",
    "**a)** Utilizando capas Upsampling2D.\n",
    "\n",
    "**b)** Utilizando capas Reescale.\n",
    "\n",
    "**c)** Utilizando capas Conv2DTranspose.\n",
    "\n",
    "Luego de entrenados los distintos modelos compare los resultados de las imágenes coloreadas."
   ]
  },
  {
   "cell_type": "markdown",
   "id": "6fb3c441",
   "metadata": {},
   "source": [
    "#### Inciso a)"
   ]
  },
  {
   "cell_type": "code",
   "execution_count": null,
   "id": "4711ca49",
   "metadata": {},
   "outputs": [],
   "source": []
  },
  {
   "cell_type": "markdown",
   "id": "0e5c540f",
   "metadata": {},
   "source": [
    "#### Inciso b)"
   ]
  },
  {
   "cell_type": "code",
   "execution_count": null,
   "id": "fb94e21d",
   "metadata": {},
   "outputs": [],
   "source": []
  },
  {
   "cell_type": "markdown",
   "id": "0488d595",
   "metadata": {},
   "source": [
    "#### Inciso c)"
   ]
  },
  {
   "cell_type": "code",
   "execution_count": null,
   "id": "daa068b6",
   "metadata": {},
   "outputs": [],
   "source": []
  }
 ],
 "metadata": {
  "kernelspec": {
   "display_name": ".venv",
   "language": "python",
   "name": "python3"
  },
  "language_info": {
   "name": "python",
   "version": "3.13.7"
  }
 },
 "nbformat": 4,
 "nbformat_minor": 5
}
