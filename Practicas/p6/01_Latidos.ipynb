{
 "cells": [
  {
   "cell_type": "markdown",
   "id": "a2610ca9",
   "metadata": {},
   "source": [
    "# Práctica 5 - Redes Neuronales Convolucionales\n",
    "\n",
    "## Ejercicio 1\n",
    "\n",
    "El archivo **ecg.csv** contiene 5,000 latidos cardíacos provenientes del dataset \"ECG5000\", una colección de datos de electrocardiograma (ECG) de \"BIDMC Congestive Heart Failure Database”. Cada fila representa un ECG completo de un paciente, compuesto por 140 puntos de datos (lecturas). Cada fila contiene una etiqueta que indica si el ECG es normal (valor 1) o anormal (valor 0). La versión original del archivo se encuentra en: https://www.kaggle.com/datasets/devavratatripathy/ecg-dataset\n",
    "\n",
    "<div style=\"text-align: center;\">\n",
    "    <img src='../../images/p6-ej1.png' width=\"60%\">\n",
    "</div>\n",
    "\n",
    "Desarrolle un modelo de autoencoder utilizando redes neuronales densas con TensorFlow/Keras que posibilite diferenciar electrocardiogramas normales de anormales.\n"
   ]
  },
  {
   "cell_type": "code",
   "execution_count": null,
   "id": "17b9f602",
   "metadata": {
    "vscode": {
     "languageId": "plaintext"
    }
   },
   "outputs": [],
   "source": []
  }
 ],
 "metadata": {
  "kernelspec": {
   "display_name": "env",
   "language": "python",
   "name": "python3"
  },
  "language_info": {
   "codemirror_mode": {
    "name": "ipython",
    "version": 3
   },
   "file_extension": ".py",
   "mimetype": "text/x-python",
   "name": "python",
   "nbconvert_exporter": "python",
   "pygments_lexer": "ipython3",
   "version": "3.13.7"
  }
 },
 "nbformat": 4,
 "nbformat_minor": 5
}
