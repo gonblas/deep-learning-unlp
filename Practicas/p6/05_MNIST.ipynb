{
 "cells": [
  {
   "cell_type": "markdown",
   "id": "c61fa42b",
   "metadata": {},
   "source": [
    "## Ejercicio 5\n",
    "\n",
    "El dataset MNIST consiste en un conjunto de 70,000 imágenes en escala de grises de dígitos escritos a mano (0 a 9), con un tamaño de 28x28 píxeles.\n",
    "\n",
    "<div style=\"text-align: center;\">\n",
    "    <img src='../../images/p6-ej5.png' width=\"80%\">\n",
    "</div>\n",
    "\n",
    "\n",
    "Desarrolle un autoencoder variacional para realizar una representación comprimida del dataset MNIST, utilizando TensorFlow/Keras. Use 2 dimensiones para codificar el espacio latente. Luego de entrenar el modelo:\n",
    "\n",
    "### a) \n",
    "\n",
    "Grafique en una cuadrícula las imágenes resultantes al variar las dimensiones de control del espacio latente.\n"
   ]
  },
  {
   "cell_type": "code",
   "execution_count": null,
   "id": "a8d194c0",
   "metadata": {
    "vscode": {
     "languageId": "plaintext"
    }
   },
   "outputs": [],
   "source": []
  },
  {
   "cell_type": "markdown",
   "id": "7da3d08f",
   "metadata": {},
   "source": [
    "### b) \n",
    "\n",
    "Utilizando 2 controles deslizantes para variar los parámetros, grafique una imagen reconstruida que se actualice automáticamente al mover cualquiera de los controles."
   ]
  },
  {
   "cell_type": "code",
   "execution_count": null,
   "id": "7c707453",
   "metadata": {
    "vscode": {
     "languageId": "plaintext"
    }
   },
   "outputs": [],
   "source": []
  }
 ],
 "metadata": {
  "language_info": {
   "name": "python"
  }
 },
 "nbformat": 4,
 "nbformat_minor": 5
}
