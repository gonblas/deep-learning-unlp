{
 "cells": [
  {
   "cell_type": "markdown",
   "id": "59dd5ada",
   "metadata": {},
   "source": [
    "## Ejercicio 2\n",
    "\n",
    "Desarrolle un modelo de autoencoder que permita detectar transacciones realizadas con tarjetas de crédito fraudulentas.\n",
    "\n",
    "Utilice el dataset **creditcard.csv** provisto en la carpeta de datos del Moodle o descárguelo desde el enlace: https://www.kaggle.com/datasets/mlg-ulb/creditcardfraud. Este presenta transacciones que ocurrieron en dos días, donde se detectaron 492 fraudes de un total de 284,807 transacciones. Los datos están altamente desbalanceados, ya que la clase positiva (fraudes) representa menos del 0.2% de todas las transacciones."
   ]
  },
  {
   "cell_type": "code",
   "execution_count": null,
   "id": "589e8b1a",
   "metadata": {
    "vscode": {
     "languageId": "plaintext"
    }
   },
   "outputs": [],
   "source": []
  }
 ],
 "metadata": {
  "language_info": {
   "name": "python"
  }
 },
 "nbformat": 4,
 "nbformat_minor": 5
}
