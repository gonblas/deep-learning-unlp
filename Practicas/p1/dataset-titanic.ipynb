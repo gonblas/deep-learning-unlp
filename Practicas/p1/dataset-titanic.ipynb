{
 "cells": [
  {
   "cell_type": "markdown",
   "id": "2c0d1dcf",
   "metadata": {},
   "source": [
    "# Dataset Titanic\n",
    "\n",
    "El dataset del Titanic, es un conjunto de datos clásico utilizado para tareas de clasificación binaria. Se basa en información histórica de los pasajeros del RMS Titanic, que se hundió en 1912 tras chocar con un iceberg. El objetivo principal es predecir si un pasajero sobrevivió o no, basado en características como su clase social,\n",
    "edad, género y otros factores socioeconómicos.\n",
    "\n",
    "El RMS Titanic se hundió el 15 de abril de 1912 durante su viaje inaugural. De las aproximadamente 2,224\n",
    "personas a bordo, más de 1,500 murieron, convirtiendo este evento en uno de los naufragios más mortíferos en tiempos de paz.\n",
    "\n",
    "| **Atributo** |                         **Descripción**                          |\n",
    "| :----------: | :--------------------------------------------------------------: |\n",
    "| PassengerId  |                 Identificador único del pasajero                 |\n",
    "|   Survived   | Variable objetivo: Indica si el pasajero sobrevivió (1) o no (0) |\n",
    "|    Pclass    |        Clase del ticket (proxy de estatus socioeconómico)        |\n",
    "|     Name     | Nombre completo del pasajero, incluyendo títulos (ej. Mr., Mrs.) |\n",
    "|     Sex      |                Género del pasajero (male, female)                |\n",
    "|     Age      |          Edad en años (puede ser fraccional para niños)          |\n",
    "|    SibSp     |                Número de hermanos/esposos a bordo                |\n",
    "|    Parch     |                  Número de padres/hijos a bordo                  |\n",
    "|    Ticket    |                        Número del ticket                         |\n",
    "|     Fare     |                   Tarifa pagada por el ticket                    |\n",
    "|    Cabin     |               Número de cabina (muchos faltantes)                |\n",
    "|   Embarked   |                   Puerto de embarque (C, Q, S)                   |\n"
   ]
  },
  {
   "cell_type": "code",
   "execution_count": null,
   "id": "e846ac85",
   "metadata": {
    "vscode": {
     "languageId": "plaintext"
    }
   },
   "outputs": [],
   "source": [
    "ColabNotebook = 'google.colab' in str(get_ipython())\n",
    "\n",
    "if ColabNotebook:\n",
    "    # monta G-drive en entorno COLAB\n",
    "    from google.colab import drive\n",
    "    drive.mount('/content/drive/')\n",
    "\n",
    "    DATOS_DIR = '/content/drive/MyDrive/Colab Notebooks/DATOS/'  # carpeta donde se encuentran los datasets\n",
    "else:\n",
    "    DATOS_DIR   = '../../Datos/p1/' # carpeta LOCAL donde se encuentran los datasets\n",
    "\n",
    "\n",
    "import pandas as pd\n",
    "import numpy as np\n",
    "import matplotlib.pyplot as plt\n",
    "\n",
    "data = pd.read_csv(DATOS_DIR + '???????.csv')"
   ]
  },
  {
   "cell_type": "markdown",
   "id": "a56bb102",
   "metadata": {},
   "source": [
    "## Ejercicio 7\n",
    "\n",
    "Realice las siguientes tareas para preparar el dataset para que pueda ser utilizado para entrenar modelos de redes neuronales.\n",
    "\n",
    "### a) Visualice las primeras 5 filas y el resumen estadístico."
   ]
  },
  {
   "cell_type": "code",
   "execution_count": null,
   "id": "f1457ca2",
   "metadata": {
    "vscode": {
     "languageId": "plaintext"
    }
   },
   "outputs": [],
   "source": []
  },
  {
   "cell_type": "markdown",
   "id": "f00a490d",
   "metadata": {},
   "source": [
    "### b) Identifique los atributos (columnas) con valores nulos y su porcentaje."
   ]
  },
  {
   "cell_type": "code",
   "execution_count": null,
   "id": "84500b73",
   "metadata": {
    "vscode": {
     "languageId": "plaintext"
    }
   },
   "outputs": [],
   "source": []
  },
  {
   "cell_type": "markdown",
   "id": "b1e01bb6",
   "metadata": {},
   "source": [
    "### c) Analizar los valores faltantes y discutir cuales serían las alternativas posibles para tratarlos."
   ]
  },
  {
   "cell_type": "code",
   "execution_count": null,
   "id": "d9980174",
   "metadata": {
    "vscode": {
     "languageId": "plaintext"
    }
   },
   "outputs": [],
   "source": []
  },
  {
   "cell_type": "markdown",
   "id": "d0aadc9b",
   "metadata": {},
   "source": [
    "### d) Los nombres de los pasajeros van acompañados de títulos que pueden ser importantes para la interpretación de los datos o para completar información faltante:\n",
    "\n",
    "**i.** Extrae el título (como Mr, Miss, Mrs, Master, etc.) del nombre de cada pasajero y crea una nueva columna llamada Title.\n",
    "\n",
    "**ii.** Unifica los valores para que queden Mr, Miss (Mlle, Ms), Mrs (Mme), Master, Others (resto).\n",
    "\n",
    "**iii.** Computa las edades faltantes utilizando la edad promedio por categoría.\n"
   ]
  },
  {
   "cell_type": "code",
   "execution_count": null,
   "id": "7157d344",
   "metadata": {
    "vscode": {
     "languageId": "plaintext"
    }
   },
   "outputs": [],
   "source": []
  },
  {
   "cell_type": "markdown",
   "id": "59ca1368",
   "metadata": {},
   "source": [
    "### e) Complete los valores faltantes utilizando las estrategias planteadas en los puntos anteriores."
   ]
  },
  {
   "cell_type": "code",
   "execution_count": null,
   "id": "929d5b53",
   "metadata": {
    "vscode": {
     "languageId": "plaintext"
    }
   },
   "outputs": [],
   "source": []
  },
  {
   "cell_type": "markdown",
   "id": "2136b576",
   "metadata": {},
   "source": [
    "### f) Cree un nuevo atributo FamilySize que contabiliza los integrantes de familia a partir de los atributos SibSp (hermanos y esposo) y Parch (padres e hijos). No olvidar contar a la persona."
   ]
  },
  {
   "cell_type": "code",
   "execution_count": null,
   "id": "fa1bc313",
   "metadata": {
    "vscode": {
     "languageId": "plaintext"
    }
   },
   "outputs": [],
   "source": []
  },
  {
   "cell_type": "markdown",
   "id": "a9ad72b5",
   "metadata": {},
   "source": [
    "### g) Numerice los atributos categóricos: Sex, Embarked, y Title."
   ]
  },
  {
   "cell_type": "code",
   "execution_count": null,
   "id": "1c9af5c3",
   "metadata": {
    "vscode": {
     "languageId": "plaintext"
    }
   },
   "outputs": [],
   "source": []
  },
  {
   "cell_type": "markdown",
   "id": "af154ccb",
   "metadata": {},
   "source": [
    "### h) Discuta y responda ¿Por qué one-hot encoding podría ser preferible a label encoding para el atributo Pclass?"
   ]
  },
  {
   "cell_type": "code",
   "execution_count": null,
   "id": "4909cd60",
   "metadata": {
    "vscode": {
     "languageId": "plaintext"
    }
   },
   "outputs": [],
   "source": []
  },
  {
   "cell_type": "markdown",
   "id": "030434bc",
   "metadata": {},
   "source": [
    "### i) Visualiza distribuciones: Histograma de Age, gráfico de barras para Survived por Sex y Pclass."
   ]
  },
  {
   "cell_type": "markdown",
   "id": "cda70a5f",
   "metadata": {},
   "source": [
    "## Ejercicio 8\n",
    "\n",
    "Calcule la correlación lineal entre los atributos **“Fare”** (Tarifa) y **“PClass”** (clase del ticket). Indique la intensidad de la correlación (no hay correlación/débil/fuerte) y el tipo (positiva/negativa). Explique el significado del valor de correlación obtenido.\n",
    "\n",
    "<div style=\"display: flex; justify-content: center;\">\n",
    "  <table border=\"1\" cellpadding=\"5\" cellspacing=\"0\" style=\"border-collapse: collapse; text-align: center;\">\n",
    "    <thead>\n",
    "      <tr>\n",
    "\t  \t<th></th>\n",
    "        <th style=\"background-color:#2E86C1; color:white;\">Fare/PClass</th>\n",
    "        <th style=\"background-color:#2E86C1; color:white;\">PClass</th>\n",
    "      </tr>\n",
    "    </thead>\n",
    "    <tbody>\n",
    "      <tr>\n",
    "        <td style=\"background-color:#2E86C1; color:white;\">Valor</td>\n",
    "        <td></td>\n",
    "\t\t<td></td>\n",
    "      </tr>\n",
    "      <tr>\n",
    "        <td style=\"background-color:#2E86C1; color:white;\">Intensidad</td>\n",
    "        <td></td>\n",
    "\t\t<td></td>\n",
    "      </tr>\n",
    "      <tr>\n",
    "        <td style=\"background-color:#2E86C1; color:white;\">Tipo</td>\n",
    "        <td></td>\n",
    "\t\t<td></td>\n",
    "      </tr>\n",
    "      <tr>\n",
    "        <td style=\"background-color:#2E86C1; color:white;\">Significado</td>\n",
    "        <td></td>\n",
    "\t\t<td></td>\n",
    "      </tr>\n",
    "    </tbody>\n",
    "  </table>\n",
    "</div>\n"
   ]
  },
  {
   "cell_type": "code",
   "execution_count": null,
   "id": "a0d8cb02",
   "metadata": {
    "vscode": {
     "languageId": "plaintext"
    }
   },
   "outputs": [],
   "source": []
  },
  {
   "cell_type": "markdown",
   "id": "59abe0aa",
   "metadata": {},
   "source": [
    "## Ejercicio 9\n",
    "\n",
    "Realice un análisis sobre los valores de los atributos del dataset automobile.csv. Para cada atributo que no pueda ser procesado directamente, indique que problema tiene (valores nulos o vacíos, valores categóricos, valores atípicos o outliers, etc.) y como solucionarlo."
   ]
  },
  {
   "cell_type": "code",
   "execution_count": null,
   "id": "edb37240",
   "metadata": {
    "vscode": {
     "languageId": "plaintext"
    }
   },
   "outputs": [],
   "source": []
  },
  {
   "cell_type": "markdown",
   "id": "88484b70",
   "metadata": {},
   "source": [
    "## Ejercicio 10\n",
    "\n",
    "Dada la siguiente tabla con mediciones de 2 características correspondientes a mediciones de altura y peso de personas:\n",
    "\n",
    "<div style=\"display: flex; justify-content: center;\">\n",
    "  <table border=\"1\" cellpadding=\"5\" cellspacing=\"0\" style=\"border-collapse: collapse; text-align: center;\">\n",
    "    <tbody>\n",
    "      <tr>\n",
    "        <td style=\"background-color:#2E86C1; color:white;\">Altura</td>\n",
    "\t\t<td>1.65</td> <td>1.81</td> <td>1.70</td> <td>1.62</td> <td>1.74</td> <td>1.70</td> <td>1.80</td> <td>1.73</td> <td>1.68</td>\n",
    "      </tr>\n",
    "      <tr>\n",
    "        <td style=\"background-color:#2E86C1; color:white;\">Peso</td>\n",
    "        <td>75</td> <td>86</td> <td>82</td> <td>78</td> <td>77</td> <td>87</td> <td>90</td> <td>83</td> <td>80</td>\n",
    "      </tr>\n",
    "    </tbody>\n",
    "  </table>\n",
    "</div>\n",
    "\n",
    "### a) Aplique las siguientes normalizaciones y grafíquelas con un diagrama de caja:\n",
    "\n",
    "$$\n",
    "MinMax: \\frac{x_{i}-min(x)}{max(x)- min(x)}\\quad\\quad\\quad\\quad Standard: \\frac{x_{i} - media(x)}{stddev(x)} \\quad\\quad\\quad\\quad Robust: \\frac{x_{i} - Q1(x)}{Q3(x)-Q1(x)}\n",
    "$$"
   ]
  },
  {
   "cell_type": "code",
   "execution_count": null,
   "id": "4f19c873",
   "metadata": {
    "vscode": {
     "languageId": "plaintext"
    }
   },
   "outputs": [],
   "source": []
  },
  {
   "cell_type": "markdown",
   "id": "6a087584",
   "metadata": {},
   "source": [
    "### b) Agregue la siguiente medición (2.20, 120) y repita el punto a)"
   ]
  },
  {
   "cell_type": "code",
   "execution_count": null,
   "id": "5f67d2b5",
   "metadata": {
    "vscode": {
     "languageId": "plaintext"
    }
   },
   "outputs": [],
   "source": []
  },
  {
   "cell_type": "markdown",
   "id": "ea71b1e5",
   "metadata": {},
   "source": [
    "### c) Compare los diagramas de caja entre las normalizaciones de los puntos a) y b) y comente las diferencias."
   ]
  },
  {
   "cell_type": "code",
   "execution_count": null,
   "id": "997b83ea",
   "metadata": {
    "vscode": {
     "languageId": "plaintext"
    }
   },
   "outputs": [],
   "source": []
  }
 ],
 "metadata": {
  "language_info": {
   "name": "python"
  }
 },
 "nbformat": 4,
 "nbformat_minor": 5
}
