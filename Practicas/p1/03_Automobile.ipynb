{
 "cells": [
  {
   "cell_type": "markdown",
   "id": "5173647f",
   "metadata": {},
   "source": [
    "# Dataset de Automóviles (Automobile)\n",
    "\n",
    "El dataset **“Automobile”** reúne información técnica y de seguros de **205 vehículos** de distintas marcas y modelos, extraída del _Ward's Automotive Yearbook_ de 1985 y donada al repositorio de **UCI Machine Learning** en 1987.\n",
    "\n",
    "El objetivo principal es predecir el **precio de venta** de los automóviles y evaluar su **riesgo de seguro**, lo que lo convierte en un recurso útil tanto para tareas de **regresión** como de **clasificación**. Además, debido a la presencia de valores faltantes en varios atributos clave, es un conjunto ideal para **ejercicios de limpieza y preprocesamiento de datos**.\n",
    "\n",
    "El dataset contiene **26 atributos** que abarcan información del fabricante, características técnicas, dimensiones, especificaciones del motor, consumo de combustible y variables de riesgo.\n",
    "\n",
    "|     **Atributo**      | **Descripción**                                                                      |\n",
    "| :-------------------: | :----------------------------------------------------------------------------------- |\n",
    "|     **symboling**     | Clasificación de riesgo de seguro (-3 = muy seguro, 0 = promedio, +3 = muy riesgoso) |\n",
    "| **normalized-losses** | Pérdidas normalizadas por categoría de tamaño (65 – 256, con valores faltantes)      |\n",
    "|       **make**        | Marca del vehículo (ej: alfa-romero, audi, bmw, honda, toyota, volkswagen, etc.)     |\n",
    "|     **fuel-type**     | Tipo de combustible: `gas` (gasolina) o `diesel`                                     |\n",
    "|    **aspiration**     | Sistema de admisión: `std` (natural) o `turbo` (turboalimentado)                     |\n",
    "|   **num-of-doors**    | Número de puertas: `two` o `four` (con valores faltantes)                            |\n",
    "|    **body-style**     | Estilo de carrocería: sedan, hatchback, wagon, hardtop, convertible                  |\n",
    "|   **drive-wheels**    | Tipo de tracción: `fwd` (delantera), `rwd` (trasera), `4wd` (4x4)                    |\n",
    "|  **engine-location**  | Ubicación del motor: delantero o trasero                                             |\n",
    "|    **wheel-base**     | Distancia entre ejes (86.6 – 120.9 pulgadas)                                         |\n",
    "|      **length**       | Longitud total del vehículo (141.1 – 208.1 pulgadas)                                 |\n",
    "|       **width**       | Anchura del vehículo (60.3 – 72.3 pulgadas)                                          |\n",
    "|      **height**       | Altura del vehículo (47.8 – 59.8 pulgadas)                                           |\n",
    "|    **curb-weight**    | Peso en vacío del vehículo (1,488 – 4,066 lbs)                                       |\n",
    "|    **engine-type**    | Tipo de motor (`ohc`, `ohcf`, `dohc`, `rotor`, etc.)                                 |\n",
    "| **num-of-cylinders**  | Número de cilindros (three, four, five, six, eight, twelve, etc.)                    |\n",
    "|    **engine-size**    | Tamaño del motor en cc (61 – 326)                                                    |\n",
    "|    **fuel-system**    | Sistema de inyección/combustible (`mpfi`, `2bbl`, `mfi`, `idi`, etc.)                |\n",
    "|       **bore**        | Diámetro del cilindro (2.54 – 3.94 pulgadas, con valores faltantes)                  |\n",
    "|      **stroke**       | Carrera del pistón (2.07 – 4.17 pulgadas, con valores faltantes)                     |\n",
    "| **compression-ratio** | Relación de compresión (7 – 23)                                                      |\n",
    "|    **horsepower**     | Potencia en caballos de fuerza (48 – 288, con valores faltantes)                     |\n",
    "|     **peak-rpm**      | Revoluciones máximas por minuto (4,150 – 6,600, con valores faltantes)               |\n",
    "|     **city-mpg**      | Consumo de combustible en ciudad (13 – 49 mpg)                                       |\n",
    "|    **highway-mpg**    | Consumo de combustible en carretera (16 – 54 mpg)                                    |\n",
    "| **price** _(Target)_  | Precio de venta del vehículo en dólares (5,118 – 45,400 USD, con valores faltantes)  |\n"
   ]
  },
  {
   "cell_type": "code",
   "execution_count": 72,
   "id": "8bf20b8f",
   "metadata": {},
   "outputs": [],
   "source": [
    "ColabNotebook = 'google.colab' in str(get_ipython())\n",
    "\n",
    "if ColabNotebook:\n",
    "    # monta G-drive en entorno COLAB\n",
    "    from google.colab import drive\n",
    "    drive.mount('/content/drive/')\n",
    "\n",
    "    DATOS_DIR = '/content/drive/MyDrive/Colab Notebooks/DATOS/'  # carpeta donde se encuentran los datasets\n",
    "else:\n",
    "    DATOS_DIR   = '../../Datos/p1/' # carpeta LOCAL donde se encuentran los datasets\n",
    "\n",
    "\n",
    "import pandas as pd\n",
    "import numpy as np\n",
    "import matplotlib.pyplot as plt\n",
    "\n",
    "data = pd.read_csv(DATOS_DIR + 'automobile.csv')"
   ]
  },
  {
   "cell_type": "markdown",
   "id": "7ec49783",
   "metadata": {},
   "source": [
    "## Ejercicio 9\n",
    "\n",
    "Realice un análisis sobre los valores de los atributos del dataset automobile.csv. Para cada atributo que no pueda ser procesado directamente, indique que problema tiene (valores nulos o vacíos, valores categóricos, valores atípicos o outliers, etc.) y como solucionarlo."
   ]
  },
  {
   "cell_type": "code",
   "execution_count": 91,
   "id": "5c579aba",
   "metadata": {},
   "outputs": [
    {
     "name": "stdout",
     "output_type": "stream",
     "text": [
      "fuel-system\n",
      "mpfi    94\n",
      "2bbl    66\n",
      "idi     20\n",
      "1bbl    11\n",
      "spdi     9\n",
      "4bbl     3\n",
      "mfi      1\n",
      "spfi     1\n",
      "Name: count, dtype: int64\n"
     ]
    }
   ],
   "source": [
    "# Analizo los posibles problemas en los datos\n",
    "\n",
    "data.head()\n",
    "\n",
    "# Valores nulos o faltantes\n",
    "# print(data.isnull().sum()) # No hay valores nulos\n",
    "# print((data == '?').sum())\n",
    "\n",
    "# Reducción de valores atípicos\n",
    "#print(data[\"make\"].value_counts())\n",
    "#print(data[\"engine-type\"].value_counts())\n",
    "print(data[\"fuel-system\"].value_counts())"
   ]
  },
  {
   "cell_type": "markdown",
   "id": "fb2670cc",
   "metadata": {},
   "source": [
    "#### Problemas Detectados\n",
    "\n",
    "##### Valores nulos o vacios\n",
    "\n",
    "Si bien no hay valores nulos. Hay campos que tiene '?' (valores faltantes/vacios). Dependiendo el caso se procede distinto:\n",
    "- normalized-losses: Al ser 41 los valores faltantes, el valor que más se repite en la columna, no podemos eliminar las filas con valores faltantes. Cómo los datos están normalizados podemos utilizar la media para los valores faltantes.\n",
    "- Para el resto: al ser muy pocos valores faltantes podemos eliminar las filas que tienen tales valores faltantes.\n",
    "\n",
    "\n",
    "##### Valores categóricos\n",
    "\n",
    "- fuel-type: dos categorias sin orden -> codificación binaria\n",
    "- aspiration: dos categorias sin orden -> codificación binaria\n",
    "- num-of-doors: al tener dos categorías (2 y 4 puertas) pero ser estas la cantidad de puertas del auto, para no tener una incorrecta interpretación y tener un resultado cómo \"2 puertas\" -> one-hot-encoding\n",
    "- drive-wheels: 3 categorias sin orden -> one-hot-encoding\n",
    "- engine-location: dos categorias sin orden -> codificacion binaria\n",
    "\n",
    "\n",
    "##### Valores atípicos (outliers)\n",
    "\n",
    "- make: la marca tiene muchas opciones. Quizas se pueda reducir los valores más atípicos en una categoría común.\n",
    "- engine-type: rotor y dohcv quizas pueden reducirse a una categoría común.\n",
    "- fuel-system: mismo caso que el anterior. Incluso más marcada la diferencia.\n",
    "\n"
   ]
  }
 ],
 "metadata": {
  "kernelspec": {
   "display_name": "env",
   "language": "python",
   "name": "python3"
  },
  "language_info": {
   "codemirror_mode": {
    "name": "ipython",
    "version": 3
   },
   "file_extension": ".py",
   "mimetype": "text/x-python",
   "name": "python",
   "nbconvert_exporter": "python",
   "pygments_lexer": "ipython3",
   "version": "3.13.5"
  }
 },
 "nbformat": 4,
 "nbformat_minor": 5
}
