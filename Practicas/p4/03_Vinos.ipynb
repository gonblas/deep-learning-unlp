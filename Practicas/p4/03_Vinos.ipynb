{
 "cells": [
  {
   "cell_type": "markdown",
   "id": "1b9dad72",
   "metadata": {},
   "source": [
    "## Ejercicio 3\n",
    "\n",
    "El archivo **Vinos.csv** tiene información referida a 13 características químicas y/o visuales de varias muestras de vinos pertenecientes a 3 clases distintas.  \n",
    "\n",
    "Utilice el 80% de los ejemplos del archivo Vinos.csv para entrenar un multiperceptrón que sea capaz que distinguir entre las 3 clases de vinos. Observe la tasa de acierto obtenida sobre el 20% restante.  \n",
    "\n",
    "Fuente de datos: **Wine Data Set** - https://archive.ics.uci.edu/ml/datasets/wine  "
   ]
  },
  {
   "cell_type": "code",
   "execution_count": 1,
   "id": "5948944f",
   "metadata": {},
   "outputs": [
    {
     "name": "stdout",
     "output_type": "stream",
     "text": [
      "Efectividad: 100.00%\n",
      "      Score:   1.00\n"
     ]
    }
   ],
   "source": [
    "import pandas as pd\n",
    "import numpy as np\n",
    "from sklearn import preprocessing, model_selection\n",
    "from sklearn.neural_network import MLPClassifier\n",
    "\n",
    "TEST_SIZE = 0.2\n",
    "\n",
    "DATOS_DIR   = '../../Datos/'\n",
    "data = pd.read_csv(DATOS_DIR + 'wine.csv', header=None)\n",
    "binarizer = preprocessing.LabelBinarizer()\n",
    "\n",
    "X_raw = np.array(data.iloc[:,1:])\n",
    "Y_raw = np.array(data.iloc[:,0])  \n",
    "Y_raw = binarizer.fit_transform(Y_raw)\n",
    "X_train, X_test, Y_train, Y_test = model_selection.train_test_split(X_raw, Y_raw, test_size=TEST_SIZE)\n",
    "\n",
    "scaler = preprocessing.StandardScaler()\n",
    "X_train  = scaler.fit_transform(X_train)\n",
    "X_test   = scaler.transform(X_test)\n",
    "\n",
    "\n",
    "FunH = 'tanh'   # opciones: identity logistic tanh relu\n",
    "ocultas = (4)\n",
    "\n",
    "alfa = 0.005\n",
    "CotaError = 1.0e-4\n",
    "MAX_ITE = 2500\n",
    "\n",
    "modelo = MLPClassifier(max_iter=MAX_ITE, hidden_layer_sizes=ocultas, alpha=alfa,\n",
    "                    solver='adam', activation=FunH, tol=CotaError,\n",
    "                    verbose=False).fit(X_train, Y_train)\n",
    "\n",
    "Y_pred = modelo.predict(X_train)\n",
    "score = modelo.score(X_train, Y_train)\n",
    "\n",
    "Y_it = binarizer.inverse_transform(Y_train)\n",
    "Y_pred_it = binarizer.inverse_transform(Y_pred)\n",
    "\n",
    "\n",
    "print('Efectividad: %6.2f%%' % (100*(Y_pred_it == Y_it).sum()/len(Y_it)) )\n",
    "print('      Score: %6.2f' % (score) )"
   ]
  },
  {
   "cell_type": "code",
   "execution_count": 2,
   "id": "cbf2ff52",
   "metadata": {},
   "outputs": [
    {
     "name": "stdout",
     "output_type": "stream",
     "text": [
      "Efectividad:  97.22%\n",
      "      Score:   0.94\n"
     ]
    }
   ],
   "source": [
    "#  ########### Medición del testeo ######################\n",
    "Y_pred = modelo.predict(X_test)\n",
    "score = modelo.score(X_test, Y_test)\n",
    "\n",
    "# \"invierte\" la transformacion binaria para obtener los nombres de las clases\n",
    "Y_it = binarizer.inverse_transform(Y_test)\n",
    "Y_pred_it = binarizer.inverse_transform(Y_pred)\n",
    "\n",
    "print('Efectividad: %6.2f%%' % (100*(Y_pred_it == Y_it).sum()/len(Y_it)) )\n",
    "print('      Score: %6.2f' % (score) )\n"
   ]
  }
 ],
 "metadata": {
  "kernelspec": {
   "display_name": "env",
   "language": "python",
   "name": "python3"
  },
  "language_info": {
   "codemirror_mode": {
    "name": "ipython",
    "version": 3
   },
   "file_extension": ".py",
   "mimetype": "text/x-python",
   "name": "python",
   "nbconvert_exporter": "python",
   "pygments_lexer": "ipython3",
   "version": "3.13.7"
  }
 },
 "nbformat": 4,
 "nbformat_minor": 5
}
