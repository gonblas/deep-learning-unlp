{
 "cells": [
  {
   "cell_type": "markdown",
   "id": "8a3abf80",
   "metadata": {},
   "source": [
    "# Parte 2 - Multiperceptrón con Tensorflow/Keras\n",
    "\n",
    "## Ejercicio 7\n",
    "\n",
    "Re-implemente el modelo del ejercicio 4 (Balance.csv) utilizando un Multiperceptrón Tensorflow/Keras.  \n"
   ]
  },
  {
   "cell_type": "code",
   "execution_count": null,
   "id": "cd46f604",
   "metadata": {
    "vscode": {
     "languageId": "plaintext"
    }
   },
   "outputs": [],
   "source": []
  }
 ],
 "metadata": {
  "language_info": {
   "name": "python"
  }
 },
 "nbformat": 4,
 "nbformat_minor": 5
}
