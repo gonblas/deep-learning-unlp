{
 "cells": [
  {
   "cell_type": "markdown",
   "id": "539ea13f",
   "metadata": {},
   "source": [
    "## Ejercicio 2\n",
    "\n",
    "Se desea utilizar una red multiperceptrón para reconocer muestras de tres variedades diferentes de trigo:  Kama, Rosa y Canadiense. Para entrenarla se utilizará una parte de los ejemplos del archivo **SEMILLAS.CSV**.  \n",
    "\n",
    "Fuente de datos: **Seeds Data Set** - https://archive.ics.uci.edu/ml/datasets/seeds  \n",
    "\n",
    "### a)\n",
    "\n",
    "Con respecto a la arquitectura, indique:  \n",
    "\n",
    "- La cantidad de neuronas de la capa de entrada.  \n",
    "- La cantidad de neuronas de la capa de salida.  \n",
    "- La cantidad de pesos (arcos) que tiene la red si se utiliza una única capa oculta formada por 4 neuronas.  "
   ]
  },
  {
   "cell_type": "code",
   "execution_count": null,
   "id": "2ccf1ac1",
   "metadata": {
    "vscode": {
     "languageId": "plaintext"
    }
   },
   "outputs": [],
   "source": []
  },
  {
   "cell_type": "markdown",
   "id": "524ea4ce",
   "metadata": {},
   "source": [
    "### b)\n",
    "\n",
    "La arquitectura del multiperceptrón utilizado para predecir los 3 tipos de semillas está formada por 3 capas: la capa de entrada, una única capa oculta de 4 neuronas y la capa de salida. Las funciones de activación para las capas oculta y de salida son “tanh” y “sigmoid” respectivamente. Indique cuáles de los siguientes factores inciden en la dirección de cambio (signo de la modificación) de los pesos de la red:  \n",
    "\n",
    "- El error cometido en la predicción.  \n",
    "- El valor de la derivada de la función de activación.  \n",
    "- Los valores anteriores de los pesos de la red.  \n"
   ]
  },
  {
   "cell_type": "code",
   "execution_count": null,
   "id": "8524ab86",
   "metadata": {
    "vscode": {
     "languageId": "plaintext"
    }
   },
   "outputs": [],
   "source": []
  },
  {
   "cell_type": "markdown",
   "id": "e545b076",
   "metadata": {},
   "source": [
    "### c)\n",
    "\n",
    "Luego de ingresar una muestra de semilla a la red se obtiene como salida (0.78, 0, 0). Utilizando la arquitectura descripta en b), indique cuántos pesos de la red serán modificados sabiendo que la respuesta esperada es (1, 0, 0).  "
   ]
  },
  {
   "cell_type": "code",
   "execution_count": null,
   "id": "db51bfdc",
   "metadata": {
    "vscode": {
     "languageId": "plaintext"
    }
   },
   "outputs": [],
   "source": []
  }
 ],
 "metadata": {
  "language_info": {
   "name": "python"
  }
 },
 "nbformat": 4,
 "nbformat_minor": 5
}
