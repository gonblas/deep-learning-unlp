{
 "cells": [
  {
   "cell_type": "markdown",
   "id": "140439ac",
   "metadata": {},
   "source": [
    "## Ejercicio 6\n",
    "\n",
    "Los archivos **Segment_Train.csv** y **Segment_Test.csv** contienen información referida a regiones de 3x3 pixeles pertenecientes a 7 imágenes distintas. Cada una corresponde a uno de los siguientes tipos de superficie: ladrillo, cielo, follaje, cemento, ventana, camino y pasto.  \n",
    "\n",
    "Cada región de 3x3 ha sido caracterizada por 19 atributos numéricos:  \n",
    "\n",
    "1. **region-centroid-col:** la columna del pixel central de la región.\n",
    "2. **region-centroid-row:** la fila del pixel central de la región.\n",
    "3. **region-pixel-count:** el número de pixeles de la región = 9.\n",
    "4. **short-line-density-5:** el resultado de un algoritmo de extracción de líneas que cuenta la cantidad de líneas de bajo contraste que atraviesan la región.\n",
    "5. **short-line-density-2:** ídem anterior para líneas de alto contraste.\n",
    "6. **vedge-mean:** medida del contraste entre pixeles adyacentes. Este atributo contiene el valor promedio y el siguiente la desviación. Estas medidas sirven para detectar la presencia de un eje vertical.\n",
    "7. **vegde-sd:** (ver 6)\n",
    "8. **hedge-mean:** ídem 6 para eje horizontal. Contiene el valor medio y el siguiente la desviación.\n",
    "9. **hedge-sd:** (ver 8).\n",
    "10. **intensity-mean:** El promedio calculado sobre la región de la forma (R + G + B)/3\n",
    "11. **rawred-mean:** el promedio sobre la región de los valores R.\n",
    "12. **rawblue-mean:** el promedio sobre la región de los valores B.\n",
    "13. **rawgreen-mean:** el promedio sobre la región de los valores G.\n",
    "14. **exred-mean:** Medida de exceso de color rojo: (2R - (G + B))\n",
    "15. **exblue-mean:** Medida de exceso de color azul: (2B - (G + R))\n",
    "16. **exgreen-mean:** Medida de exceso de color verde: (2G - (R + B))\n",
    "17. **value-mean:** Transformación no lineal 3D de RGB.\n",
    "18. **saturatoin-mean:** (ver 17)\n",
    "19. **hue-mean:** ver 17\n",
    "\n",
    "El atributo 20 corresponde al número de imagen de la cual fue extraída la región de 3x3. Sus valores son: 1 (ladrillo), 2 (cemento), 3 (follaje), 4 (pasto), 5 (camino), 6 (cielo), 7 (ventana).  \n",
    "\n",
    "Entrene una red neuronal multiperceptrón para que dada una región de 3x3, representada a través de los 19 atributos indicados anteriormente, sea capaz de identificar a cuál de las 7 imágenes corresponde.  \n",
    "\n",
    "Utilice los ejemplos del archivo **Segment_Train.csv** para entrenar y los del archivo **Segment_Test.csv** para realizar el testeo.  \n",
    "\n",
    "Realice al menos 10 ejecuciones independientes de la configuración seleccionada para respaldar sus afirmaciones referidas a la performance del modelo.  \n",
    "\n",
    "Fuente: **Image Segmentation Data Set:** https://archive.ics.uci.edu/ml/datasets/Image+Segmentation  "
   ]
  },
  {
   "cell_type": "code",
   "execution_count": null,
   "id": "e6f43bdb",
   "metadata": {
    "vscode": {
     "languageId": "plaintext"
    }
   },
   "outputs": [],
   "source": []
  }
 ],
 "metadata": {
  "language_info": {
   "name": "python"
  }
 },
 "nbformat": 4,
 "nbformat_minor": 5
}
