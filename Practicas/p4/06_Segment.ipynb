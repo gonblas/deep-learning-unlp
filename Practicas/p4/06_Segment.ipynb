{
 "cells": [
  {
   "cell_type": "markdown",
   "id": "140439ac",
   "metadata": {},
   "source": [
    "## Ejercicio 6\n",
    "\n",
    "Los archivos **Segment_Train.csv** y **Segment_Test.csv** contienen información referida a regiones de 3x3 pixeles pertenecientes a 7 imágenes distintas. Cada una corresponde a uno de los siguientes tipos de superficie: ladrillo, cielo, follaje, cemento, ventana, camino y pasto.  \n",
    "\n",
    "Cada región de 3x3 ha sido caracterizada por 19 atributos numéricos:  \n",
    "\n",
    "1. **region-centroid-col:** la columna del pixel central de la región.\n",
    "2. **region-centroid-row:** la fila del pixel central de la región.\n",
    "3. **region-pixel-count:** el número de pixeles de la región = 9.\n",
    "4. **short-line-density-5:** el resultado de un algoritmo de extracción de líneas que cuenta la cantidad de líneas de bajo contraste que atraviesan la región.\n",
    "5. **short-line-density-2:** ídem anterior para líneas de alto contraste.\n",
    "6. **vedge-mean:** medida del contraste entre pixeles adyacentes. Este atributo contiene el valor promedio y el siguiente la desviación. Estas medidas sirven para detectar la presencia de un eje vertical.\n",
    "7. **vegde-sd:** (ver 6)\n",
    "8. **hedge-mean:** ídem 6 para eje horizontal. Contiene el valor medio y el siguiente la desviación.\n",
    "9. **hedge-sd:** (ver 8).\n",
    "10. **intensity-mean:** El promedio calculado sobre la región de la forma (R + G + B)/3\n",
    "11. **rawred-mean:** el promedio sobre la región de los valores R.\n",
    "12. **rawblue-mean:** el promedio sobre la región de los valores B.\n",
    "13. **rawgreen-mean:** el promedio sobre la región de los valores G.\n",
    "14. **exred-mean:** Medida de exceso de color rojo: (2R - (G + B))\n",
    "15. **exblue-mean:** Medida de exceso de color azul: (2B - (G + R))\n",
    "16. **exgreen-mean:** Medida de exceso de color verde: (2G - (R + B))\n",
    "17. **value-mean:** Transformación no lineal 3D de RGB.\n",
    "18. **saturatoin-mean:** (ver 17)\n",
    "19. **hue-mean:** ver 17\n",
    "\n",
    "El atributo 20 corresponde al número de imagen de la cual fue extraída la región de 3x3. Sus valores son: 1 (ladrillo), 2 (cemento), 3 (follaje), 4 (pasto), 5 (camino), 6 (cielo), 7 (ventana).  \n",
    "\n",
    "Entrene una red neuronal multiperceptrón para que dada una región de 3x3, representada a través de los 19 atributos indicados anteriormente, sea capaz de identificar a cuál de las 7 imágenes corresponde.  \n",
    "\n",
    "Utilice los ejemplos del archivo **Segment_Train.csv** para entrenar y los del archivo **Segment_Test.csv** para realizar el testeo.  \n",
    "\n",
    "Realice al menos 10 ejecuciones independientes de la configuración seleccionada para respaldar sus afirmaciones referidas a la performance del modelo.  \n",
    "\n",
    "Fuente: **Image Segmentation Data Set:** https://archive.ics.uci.edu/ml/datasets/Image+Segmentation  "
   ]
  },
  {
   "cell_type": "markdown",
   "id": "219cba2a",
   "metadata": {},
   "source": [
    "#### Entrenamiento"
   ]
  },
  {
   "cell_type": "code",
   "execution_count": 3,
   "id": "e6f43bdb",
   "metadata": {},
   "outputs": [
    {
     "name": "stdout",
     "output_type": "stream",
     "text": [
      "Entrenamiento:\n",
      "Efectividad:  94.76%\n",
      "      Score:   0.95\n"
     ]
    }
   ],
   "source": [
    "import pandas as pd\n",
    "import numpy as np\n",
    "import matplotlib.pyplot as plt\n",
    "from sklearn import preprocessing, model_selection\n",
    "from sklearn.neural_network import MLPClassifier\n",
    "\n",
    "TEST_SIZE = 0.3\n",
    "\n",
    "DATOS_DIR   = '../../Datos/'\n",
    "train_data = pd.read_csv(DATOS_DIR + 'Segment_Train.csv', header=0, names=[\n",
    "    \"label\",\n",
    "    \"REGION-CENTROID-COL\", \"REGION-CENTROID-ROW\", \"REGION-PIXEL-COUNT\",\n",
    "    \"SHORT-LINE-DENSITY-5\", \"SHORT-LINE-DENSITY-2\",\n",
    "    \"VEDGE-MEAN\", \"VEDGE-SD\", \"HEDGE-MEAN\", \"HEDGE-SD\",\n",
    "    \"INTENSITY-MEAN\", \"RAWRED-MEAN\", \"RAWBLUE-MEAN\", \"RAWGREEN-MEAN\",\n",
    "    \"EXRED-MEAN\", \"EXBLUE-MEAN\", \"EXGREEN-MEAN\",\n",
    "    \"VALUE-MEAN\", \"SATURATION-MEAN\", \"HUE-MEAN\"\n",
    "])\n",
    "\n",
    "binarizer = preprocessing.LabelBinarizer()\n",
    "\n",
    "X_train = np.array(train_data.iloc[:,1:])\n",
    "Y_train = np.array(train_data.iloc[:, 0])\n",
    "Y_train = binarizer.fit_transform(Y_train)\n",
    "\n",
    "scaler = preprocessing.StandardScaler()\n",
    "X_train  = scaler.fit_transform(X_train)\n",
    "\n",
    "FunH = 'tanh'   # opciones: identity logistic tanh relu\n",
    "ocultas = (20, 10)\n",
    "\n",
    "alfa = 0.01\n",
    "CotaError = 0.0002\n",
    "MAX_ITE = 2000\n",
    "\n",
    "\n",
    "modelo = MLPClassifier(max_iter=MAX_ITE, hidden_layer_sizes=ocultas, alpha=alfa,\n",
    "\t\t\t\t\tsolver='adam', activation=FunH, tol=CotaError,\n",
    "\t\t\t\t\tverbose=False).fit(X_train, Y_train)\n",
    "\n",
    "Y_pred = modelo.predict(X_train)\n",
    "score = modelo.score(X_train, Y_train)\n",
    "\n",
    "Y_it = binarizer.inverse_transform(Y_train)\n",
    "Y_pred_it = binarizer.inverse_transform(Y_pred)\n",
    "\n",
    "print('Entrenamiento:')\n",
    "print('Efectividad: %6.2f%%' % (100*(Y_pred_it == Y_it).sum()/len(Y_it)) )\n",
    "print('      Score: %6.2f' % (score) )"
   ]
  },
  {
   "cell_type": "markdown",
   "id": "02111d4b",
   "metadata": {},
   "source": [
    "#### Prueba"
   ]
  },
  {
   "cell_type": "code",
   "execution_count": 4,
   "id": "a9ceacff",
   "metadata": {},
   "outputs": [
    {
     "name": "stdout",
     "output_type": "stream",
     "text": [
      "Prueba:\n",
      "Efectividad:  87.95%\n",
      "      Score:   0.88\n"
     ]
    }
   ],
   "source": [
    "test_data = pd.read_csv(DATOS_DIR + 'Segment_Test.csv', header=0, names=[\n",
    "    \"label\",\n",
    "    \"REGION-CENTROID-COL\", \"REGION-CENTROID-ROW\", \"REGION-PIXEL-COUNT\",\n",
    "    \"SHORT-LINE-DENSITY-5\", \"SHORT-LINE-DENSITY-2\",\n",
    "    \"VEDGE-MEAN\", \"VEDGE-SD\", \"HEDGE-MEAN\", \"HEDGE-SD\",\n",
    "    \"INTENSITY-MEAN\", \"RAWRED-MEAN\", \"RAWBLUE-MEAN\", \"RAWGREEN-MEAN\",\n",
    "    \"EXRED-MEAN\", \"EXBLUE-MEAN\", \"EXGREEN-MEAN\",\n",
    "    \"VALUE-MEAN\", \"SATURATION-MEAN\", \"HUE-MEAN\"\n",
    "])\n",
    "\n",
    "X_test = np.array(test_data.iloc[:,1:])\n",
    "Y_test = np.array(test_data.iloc[:, 0])\n",
    "Y_test = binarizer.fit_transform(Y_test)\n",
    "\n",
    "scaler = preprocessing.StandardScaler()\n",
    "X_test  = scaler.fit_transform(X_test)\n",
    "\n",
    "Y_pred = modelo.predict(X_test)\n",
    "score = modelo.score(X_test, Y_test)\n",
    "\n",
    "# \"invierte\" la transformacion binaria para obtener los nombres de las clases\n",
    "Y_it = binarizer.inverse_transform(Y_test)\n",
    "Y_pred_it = binarizer.inverse_transform(Y_pred)\n",
    "\n",
    "print('Prueba:')\n",
    "print('Efectividad: %6.2f%%' % (100*(Y_pred_it == Y_it).sum()/len(Y_it)) )\n",
    "print('      Score: %6.2f' % (score) )"
   ]
  }
 ],
 "metadata": {
  "kernelspec": {
   "display_name": "env",
   "language": "python",
   "name": "python3"
  },
  "language_info": {
   "codemirror_mode": {
    "name": "ipython",
    "version": 3
   },
   "file_extension": ".py",
   "mimetype": "text/x-python",
   "name": "python",
   "nbconvert_exporter": "python",
   "pygments_lexer": "ipython3",
   "version": "3.13.7"
  }
 },
 "nbformat": 4,
 "nbformat_minor": 5
}
