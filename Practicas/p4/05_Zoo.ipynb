{
 "cells": [
  {
   "cell_type": "markdown",
   "id": "622c6e07",
   "metadata": {},
   "source": [
    "## Ejercicio 5\n",
    "\n",
    "El archivo **ZOO.csv** contiene información de 101 animales caracterizados por los siguientes atributos:  \n",
    "\n",
    "<table style=\"border-collapse: collapse; text-align: left; margin: auto;\">\n",
    "  <tbody>\n",
    "    <tr>\n",
    "      <td>1. Nombre del animal</td>\n",
    "      <td>7. Acuático</td>\n",
    "      <td>13. Aletas</td>\n",
    "    </tr>\n",
    "    <tr>\n",
    "      <td>2. Tiene Pelo</td>\n",
    "      <td>8. Depredador</td>\n",
    "      <td>14. Patas</td>\n",
    "    </tr>\n",
    "    <tr>\n",
    "      <td>3. Plumas</td>\n",
    "      <td>9. Dentado</td>\n",
    "      <td>15. Cola</td>\n",
    "    </tr>\n",
    "    <tr>\n",
    "      <td>4. Huevos</td>\n",
    "      <td>10. Vertebrado</td>\n",
    "      <td>16. Domestico</td>\n",
    "    </tr>\n",
    "    <tr>\n",
    "      <td>5. Leche</td>\n",
    "      <td>11. Branquias</td>\n",
    "      <td>17. Tamaño gato</td>\n",
    "    </tr>\n",
    "    <tr>\n",
    "      <td>6. Vuela</td>\n",
    "      <td>12. Venenoso</td>\n",
    "      <td>18. Clase</td>\n",
    "    </tr>\n",
    "  </tbody>\n",
    "</table>\n",
    "\n",
    "\n",
    "\n",
    "Salvo los atributos 1 y 18 que contienen texto y el 14 que contiene el número de patas del animal, el resto toma el valor 1 si el animal posee la característica y 0 si no. Hay 7 valores de clase posible (atributo 18): mamífero, ave, pez, invertebrado, insecto, reptil y anfibio.  \n",
    "\n",
    "Entrene un multiperceptrón que sea capaz de clasificar un animal en una de las 7 clases. Utilice el 70% de los ejemplos para entrenar y el 30% para realizar el testeo. Realice al menos 10 ejecuciones independientes de la configuración seleccionada para respaldar sus afirmaciones referidas a la performance del modelo.  \n",
    "\n",
    "Fuente de Datos: **Zoo Data Set** - https://archive.ics.uci.edu/ml/datasets/zoo  "
   ]
  },
  {
   "cell_type": "code",
   "execution_count": null,
   "id": "1ecf1c5f",
   "metadata": {
    "vscode": {
     "languageId": "plaintext"
    }
   },
   "outputs": [],
   "source": []
  }
 ],
 "metadata": {
  "language_info": {
   "name": "python"
  }
 },
 "nbformat": 4,
 "nbformat_minor": 5
}
