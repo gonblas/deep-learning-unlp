{
 "cells": [
  {
   "cell_type": "markdown",
   "id": "1e6e9d0b",
   "metadata": {},
   "source": [
    "# Parte 1 - Multiperceptrón con SciKit-Learn\n",
    "\n",
    "## Ejercicio 1\n",
    "\n",
    "Se entrenó una red neuronal multiperceptrón para resolver un problema de clasificación y al medir su desempeño sobre el conjunto de datos de entrenamiento se obtuvo la siguiente matriz de confusión: \n",
    "\n",
    "<div align=\"center\">\n",
    "\n",
    "<table border=\"1\" cellspacing=\"0\" cellpadding=\"5\">\n",
    "  <tr>\n",
    "    <td>17</td><td>0</td><td>1</td><td>0</td><td>1</td>\n",
    "  </tr>\n",
    "  <tr>\n",
    "    <td>0</td><td>12</td><td>0</td><td>0</td><td>0</td>\n",
    "  </tr>\n",
    "  <tr>\n",
    "    <td>0</td><td>0</td><td>12</td><td>0</td><td>0</td>\n",
    "  </tr>\n",
    "  <tr>\n",
    "    <td>2</td><td>0</td><td>0</td><td>38</td><td>0</td>\n",
    "  </tr>\n",
    "  <tr>\n",
    "    <td>0</td><td>8</td><td>0</td><td>0</td><td>61</td>\n",
    "  </tr>\n",
    "</table>\n",
    "\n",
    "</div>\n",
    "\n",
    "\n",
    "\n",
    "\n",
    "### a)\n",
    "\n",
    "En base a esta información, indique: \n",
    "\n",
    "- Cuántos ejemplos se utilizaron en el entrenamiento.  \n",
    "- Cuántas clases puede reconocer este multiperceptrón.  \n",
    "- Cuál es la precisión (**accuracy**) de la red sobre el conjunto de ejemplos completo.  \n",
    "- Cuáles son los valores de precisión de la red al responder por cada uno de los valores de clase (**precision**).  \n",
    "- Cuáles son los valores de sensibilidad de la red al responder por cada uno de los valores de clase (**recall**).  \n",
    "\n",
    "\n"
   ]
  },
  {
   "cell_type": "code",
   "execution_count": null,
   "id": "edacefdf",
   "metadata": {},
   "outputs": [],
   "source": []
  },
  {
   "cell_type": "markdown",
   "id": "3f3a7dcf",
   "metadata": {},
   "source": [
    "### b)\n",
    "\n",
    "Identifique la clase con el mejor valor de F1-score.  "
   ]
  },
  {
   "cell_type": "code",
   "execution_count": null,
   "id": "b5e65d92",
   "metadata": {},
   "outputs": [],
   "source": []
  }
 ],
 "metadata": {
  "kernelspec": {
   "display_name": "env",
   "language": "python",
   "name": "python3"
  },
  "language_info": {
   "name": "python",
   "version": "3.13.5"
  }
 },
 "nbformat": 4,
 "nbformat_minor": 5
}
