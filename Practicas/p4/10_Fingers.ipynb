{
 "cells": [
  {
   "cell_type": "markdown",
   "id": "418bd2d7",
   "metadata": {},
   "source": [
    "## Ejercicio 10\n",
    "\n",
    "El conjunto de datos **“Fingers”** consiste en una serie de imágenes de 64x64 píxeles con fondo negro donde en su centro se encuentra un mano que muestra una cantidad de dedos que va desde 0 a 5. La versión original de este conjunto de imágenes se encuentra en: https://www.kaggle.com/koryakinp/fingers  \n",
    "\n",
    "<div style=\"text-align: center;\">\n",
    "    <img src='../../images/p4-ej10.png' width=\"40%\">\n",
    "</div>\n",
    "\n",
    "Muchas veces se utilizan técnicas de procesamiento de imágenes para obtener características representativas (features extraction) de los objetos dentro de una imagen con el objetivo de simplificar el problema, reducir la dimensionalidad y/o reducir el costo de procesamiento. Bibliotecas como **OpenCV** o **SciKit-Learn** proveen funciones que permiten procesar imágenes y obtener valores estadísticos que caracterizan los objetos.\n",
    "\n",
    "\n",
    "### a)\n",
    "\n",
    "Utilice la función **regionprops** de **SciKitLearn** con algunas imágenes de ejemplo del dataset para  experimentar con las distintas características que extrae de la imagen de la mano.  "
   ]
  },
  {
   "cell_type": "code",
   "execution_count": null,
   "id": "bef72820",
   "metadata": {
    "vscode": {
     "languageId": "plaintext"
    }
   },
   "outputs": [],
   "source": []
  },
  {
   "cell_type": "markdown",
   "id": "677f3e0a",
   "metadata": {},
   "source": [
    "\n",
    "### b)\n",
    "\n",
    "Implemente un script que convierta las imágenes en las carpetas **“test”** y **“train”** del dataset **“Fingers”** en dos archivos (uno por carpeta) separados por comas (csv). De todas las características que provee **regionprops**, tienen potencial aquellas que son independientes o se pueden independizar de las unidades (píxeles). Algunas de estas características pueden ser:  \n",
    "\n",
    "- **filled_area:** cantidad de píxeles que contiene región (podría interpretarse como píxeles cuadrados).\n",
    "- **major_axis_length:** longitud (en píxeles) del eje mayor de la elipse que mejor se ajusta a la región.\n",
    "- **minor_axis_length:** longitud (en píxeles) del eje menor de la elipse que mejor se ajusta a la región.\n",
    "- **perimeter:** cantidad de píxeles que forman el contorne de la región.\n",
    "- **eccentricity:** excentricidad de la elipse de mejor ajuste, cerca de 0 es un círculo, mientras que cerca de 1 es una elipse más “larga”.\n",
    "- **solidity:** razón entre la cantidad de píxeles de la región original y de la región convexa. Para generar una región convexa se completan los pixeles de forma de eliminar regiones cóncavas de una figura. La región convexa de una estrella de 5 puntas se convertirá en un pentágono al completarla.\n",
    "- **extent:** razón entre pixeles de la región original y el rectángulo que la contiene (bounding box).\n"
   ]
  },
  {
   "cell_type": "code",
   "execution_count": null,
   "id": "26ebdf10",
   "metadata": {
    "vscode": {
     "languageId": "plaintext"
    }
   },
   "outputs": [],
   "source": []
  },
  {
   "cell_type": "markdown",
   "id": "ce4a2e61",
   "metadata": {},
   "source": [
    "### c)\n",
    "\n",
    "Entrene un modelo de multiperceptrón a partir del archivo de entrenamiento generado en el punto anterior.  \n"
   ]
  },
  {
   "cell_type": "code",
   "execution_count": null,
   "id": "7e6e858d",
   "metadata": {
    "vscode": {
     "languageId": "plaintext"
    }
   },
   "outputs": [],
   "source": []
  },
  {
   "cell_type": "markdown",
   "id": "6d7dda4a",
   "metadata": {},
   "source": [
    "### d)\n",
    "\n",
    "Reflexione acerca de las propiedades geométricas generadas a partir de un objeto/región de una imagen. ¿Cómo cree que afectaría la rotación, translación y escalado de un objeto/región dentro de la imagen?  "
   ]
  },
  {
   "cell_type": "code",
   "execution_count": null,
   "id": "6df55bca",
   "metadata": {
    "vscode": {
     "languageId": "plaintext"
    }
   },
   "outputs": [],
   "source": []
  }
 ],
 "metadata": {
  "language_info": {
   "name": "python"
  }
 },
 "nbformat": 4,
 "nbformat_minor": 5
}
