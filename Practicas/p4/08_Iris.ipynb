{
 "cells": [
  {
   "cell_type": "markdown",
   "id": "e7376a9e",
   "metadata": {},
   "source": [
    "## Ejercicio 8\n",
    "\n",
    "Utilizando el archivo **Iris.csv** que contiene información referida a la longitud y al ancho de sépalos y pétalos de tres especies de flores: *iris setosa*, *iris versicolor* e *iris virginica*.  \n",
    "\n",
    "### a)\n",
    "\n",
    "Entrenar una multiperceptrón que aprenda a clasificar las 3 clases de flores.  \n"
   ]
  },
  {
   "cell_type": "code",
   "execution_count": null,
   "id": "e63337a6",
   "metadata": {
    "vscode": {
     "languageId": "plaintext"
    }
   },
   "outputs": [],
   "source": []
  },
  {
   "cell_type": "markdown",
   "id": "49106d47",
   "metadata": {},
   "source": [
    "### b)\n",
    "\n",
    "Utilice Python para calcular la matriz de confusión y calcule de forma manual las métricas de **precision**, **recall**, **accuracy** y **f1-score**. Luego utilice la función **classification_report** de SciKit-Learn para comparar los resultados."
   ]
  },
  {
   "cell_type": "code",
   "execution_count": null,
   "id": "6287e3f4",
   "metadata": {
    "vscode": {
     "languageId": "plaintext"
    }
   },
   "outputs": [],
   "source": []
  }
 ],
 "metadata": {
  "language_info": {
   "name": "python"
  }
 },
 "nbformat": 4,
 "nbformat_minor": 5
}
